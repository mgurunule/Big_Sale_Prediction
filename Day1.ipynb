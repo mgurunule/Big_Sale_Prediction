{
 "cells": [
  {
   "cell_type": "code",
   "execution_count": 25,
   "metadata": {},
   "outputs": [],
   "source": [
    "import numpy as np\n",
    "import pandas as pd\n",
    "import matplotlib.pyplot as plt\n",
    "%matplotlib inline\n",
    "import seaborn as sns"
   ]
  },
  {
   "cell_type": "code",
   "execution_count": 48,
   "metadata": {},
   "outputs": [],
   "source": [
    "data = pd.read_csv(\"train.csv\")"
   ]
  },
  {
   "cell_type": "code",
   "execution_count": 27,
   "metadata": {},
   "outputs": [
    {
     "output_type": "execute_result",
     "data": {
      "text/plain": [
       "  Item_Identifier  Item_Weight Item_Fat_Content  Item_Visibility  \\\n",
       "0           FDA15         9.30          Low Fat         0.016047   \n",
       "1           DRC01         5.92          Regular         0.019278   \n",
       "2           FDN15        17.50          Low Fat         0.016760   \n",
       "3           FDX07        19.20          Regular         0.000000   \n",
       "4           NCD19         8.93          Low Fat         0.000000   \n",
       "\n",
       "               Item_Type  Item_MRP Outlet_Identifier  \\\n",
       "0                  Dairy  249.8092            OUT049   \n",
       "1            Soft Drinks   48.2692            OUT018   \n",
       "2                   Meat  141.6180            OUT049   \n",
       "3  Fruits and Vegetables  182.0950            OUT010   \n",
       "4              Household   53.8614            OUT013   \n",
       "\n",
       "   Outlet_Establishment_Year Outlet_Size Outlet_Location_Type  \\\n",
       "0                       1999      Medium               Tier 1   \n",
       "1                       2009      Medium               Tier 3   \n",
       "2                       1999      Medium               Tier 1   \n",
       "3                       1998         NaN               Tier 3   \n",
       "4                       1987        High               Tier 3   \n",
       "\n",
       "         Outlet_Type  Item_Outlet_Sales  \n",
       "0  Supermarket Type1          3735.1380  \n",
       "1  Supermarket Type2           443.4228  \n",
       "2  Supermarket Type1          2097.2700  \n",
       "3      Grocery Store           732.3800  \n",
       "4  Supermarket Type1           994.7052  "
      ],
      "text/html": "<div>\n<style scoped>\n    .dataframe tbody tr th:only-of-type {\n        vertical-align: middle;\n    }\n\n    .dataframe tbody tr th {\n        vertical-align: top;\n    }\n\n    .dataframe thead th {\n        text-align: right;\n    }\n</style>\n<table border=\"1\" class=\"dataframe\">\n  <thead>\n    <tr style=\"text-align: right;\">\n      <th></th>\n      <th>Item_Identifier</th>\n      <th>Item_Weight</th>\n      <th>Item_Fat_Content</th>\n      <th>Item_Visibility</th>\n      <th>Item_Type</th>\n      <th>Item_MRP</th>\n      <th>Outlet_Identifier</th>\n      <th>Outlet_Establishment_Year</th>\n      <th>Outlet_Size</th>\n      <th>Outlet_Location_Type</th>\n      <th>Outlet_Type</th>\n      <th>Item_Outlet_Sales</th>\n    </tr>\n  </thead>\n  <tbody>\n    <tr>\n      <th>0</th>\n      <td>FDA15</td>\n      <td>9.30</td>\n      <td>Low Fat</td>\n      <td>0.016047</td>\n      <td>Dairy</td>\n      <td>249.8092</td>\n      <td>OUT049</td>\n      <td>1999</td>\n      <td>Medium</td>\n      <td>Tier 1</td>\n      <td>Supermarket Type1</td>\n      <td>3735.1380</td>\n    </tr>\n    <tr>\n      <th>1</th>\n      <td>DRC01</td>\n      <td>5.92</td>\n      <td>Regular</td>\n      <td>0.019278</td>\n      <td>Soft Drinks</td>\n      <td>48.2692</td>\n      <td>OUT018</td>\n      <td>2009</td>\n      <td>Medium</td>\n      <td>Tier 3</td>\n      <td>Supermarket Type2</td>\n      <td>443.4228</td>\n    </tr>\n    <tr>\n      <th>2</th>\n      <td>FDN15</td>\n      <td>17.50</td>\n      <td>Low Fat</td>\n      <td>0.016760</td>\n      <td>Meat</td>\n      <td>141.6180</td>\n      <td>OUT049</td>\n      <td>1999</td>\n      <td>Medium</td>\n      <td>Tier 1</td>\n      <td>Supermarket Type1</td>\n      <td>2097.2700</td>\n    </tr>\n    <tr>\n      <th>3</th>\n      <td>FDX07</td>\n      <td>19.20</td>\n      <td>Regular</td>\n      <td>0.000000</td>\n      <td>Fruits and Vegetables</td>\n      <td>182.0950</td>\n      <td>OUT010</td>\n      <td>1998</td>\n      <td>NaN</td>\n      <td>Tier 3</td>\n      <td>Grocery Store</td>\n      <td>732.3800</td>\n    </tr>\n    <tr>\n      <th>4</th>\n      <td>NCD19</td>\n      <td>8.93</td>\n      <td>Low Fat</td>\n      <td>0.000000</td>\n      <td>Household</td>\n      <td>53.8614</td>\n      <td>OUT013</td>\n      <td>1987</td>\n      <td>High</td>\n      <td>Tier 3</td>\n      <td>Supermarket Type1</td>\n      <td>994.7052</td>\n    </tr>\n  </tbody>\n</table>\n</div>"
     },
     "metadata": {},
     "execution_count": 27
    }
   ],
   "source": [
    "data.head()"
   ]
  },
  {
   "cell_type": "code",
   "execution_count": 28,
   "metadata": {},
   "outputs": [
    {
     "output_type": "execute_result",
     "data": {
      "text/plain": [
       "Index(['Item_Identifier', 'Item_Weight', 'Item_Fat_Content', 'Item_Visibility',\n",
       "       'Item_Type', 'Item_MRP', 'Outlet_Identifier',\n",
       "       'Outlet_Establishment_Year', 'Outlet_Size', 'Outlet_Location_Type',\n",
       "       'Outlet_Type', 'Item_Outlet_Sales'],\n",
       "      dtype='object')"
      ]
     },
     "metadata": {},
     "execution_count": 28
    }
   ],
   "source": [
    "data.columns"
   ]
  },
  {
   "cell_type": "code",
   "execution_count": 29,
   "metadata": {},
   "outputs": [
    {
     "output_type": "stream",
     "name": "stdout",
     "text": [
      "<class 'pandas.core.frame.DataFrame'>\nRangeIndex: 8523 entries, 0 to 8522\nData columns (total 12 columns):\n #   Column                     Non-Null Count  Dtype  \n---  ------                     --------------  -----  \n 0   Item_Identifier            8523 non-null   object \n 1   Item_Weight                7060 non-null   float64\n 2   Item_Fat_Content           8523 non-null   object \n 3   Item_Visibility            8523 non-null   float64\n 4   Item_Type                  8523 non-null   object \n 5   Item_MRP                   8523 non-null   float64\n 6   Outlet_Identifier          8523 non-null   object \n 7   Outlet_Establishment_Year  8523 non-null   int64  \n 8   Outlet_Size                6113 non-null   object \n 9   Outlet_Location_Type       8523 non-null   object \n 10  Outlet_Type                8523 non-null   object \n 11  Item_Outlet_Sales          8523 non-null   float64\ndtypes: float64(4), int64(1), object(7)\nmemory usage: 799.2+ KB\n"
     ]
    }
   ],
   "source": [
    "data.info()"
   ]
  },
  {
   "cell_type": "code",
   "execution_count": 30,
   "metadata": {},
   "outputs": [
    {
     "output_type": "execute_result",
     "data": {
      "text/plain": [
       "       Item_Weight  Item_Visibility     Item_MRP  Outlet_Establishment_Year  \\\n",
       "count  7060.000000      8523.000000  8523.000000                8523.000000   \n",
       "mean     12.857645         0.066132   140.992782                1997.831867   \n",
       "std       4.643456         0.051598    62.275067                   8.371760   \n",
       "min       4.555000         0.000000    31.290000                1985.000000   \n",
       "25%       8.773750         0.026989    93.826500                1987.000000   \n",
       "50%      12.600000         0.053931   143.012800                1999.000000   \n",
       "75%      16.850000         0.094585   185.643700                2004.000000   \n",
       "max      21.350000         0.328391   266.888400                2009.000000   \n",
       "\n",
       "       Item_Outlet_Sales  \n",
       "count        8523.000000  \n",
       "mean         2181.288914  \n",
       "std          1706.499616  \n",
       "min            33.290000  \n",
       "25%           834.247400  \n",
       "50%          1794.331000  \n",
       "75%          3101.296400  \n",
       "max         13086.964800  "
      ],
      "text/html": "<div>\n<style scoped>\n    .dataframe tbody tr th:only-of-type {\n        vertical-align: middle;\n    }\n\n    .dataframe tbody tr th {\n        vertical-align: top;\n    }\n\n    .dataframe thead th {\n        text-align: right;\n    }\n</style>\n<table border=\"1\" class=\"dataframe\">\n  <thead>\n    <tr style=\"text-align: right;\">\n      <th></th>\n      <th>Item_Weight</th>\n      <th>Item_Visibility</th>\n      <th>Item_MRP</th>\n      <th>Outlet_Establishment_Year</th>\n      <th>Item_Outlet_Sales</th>\n    </tr>\n  </thead>\n  <tbody>\n    <tr>\n      <th>count</th>\n      <td>7060.000000</td>\n      <td>8523.000000</td>\n      <td>8523.000000</td>\n      <td>8523.000000</td>\n      <td>8523.000000</td>\n    </tr>\n    <tr>\n      <th>mean</th>\n      <td>12.857645</td>\n      <td>0.066132</td>\n      <td>140.992782</td>\n      <td>1997.831867</td>\n      <td>2181.288914</td>\n    </tr>\n    <tr>\n      <th>std</th>\n      <td>4.643456</td>\n      <td>0.051598</td>\n      <td>62.275067</td>\n      <td>8.371760</td>\n      <td>1706.499616</td>\n    </tr>\n    <tr>\n      <th>min</th>\n      <td>4.555000</td>\n      <td>0.000000</td>\n      <td>31.290000</td>\n      <td>1985.000000</td>\n      <td>33.290000</td>\n    </tr>\n    <tr>\n      <th>25%</th>\n      <td>8.773750</td>\n      <td>0.026989</td>\n      <td>93.826500</td>\n      <td>1987.000000</td>\n      <td>834.247400</td>\n    </tr>\n    <tr>\n      <th>50%</th>\n      <td>12.600000</td>\n      <td>0.053931</td>\n      <td>143.012800</td>\n      <td>1999.000000</td>\n      <td>1794.331000</td>\n    </tr>\n    <tr>\n      <th>75%</th>\n      <td>16.850000</td>\n      <td>0.094585</td>\n      <td>185.643700</td>\n      <td>2004.000000</td>\n      <td>3101.296400</td>\n    </tr>\n    <tr>\n      <th>max</th>\n      <td>21.350000</td>\n      <td>0.328391</td>\n      <td>266.888400</td>\n      <td>2009.000000</td>\n      <td>13086.964800</td>\n    </tr>\n  </tbody>\n</table>\n</div>"
     },
     "metadata": {},
     "execution_count": 30
    }
   ],
   "source": [
    "data.describe()"
   ]
  },
  {
   "cell_type": "code",
   "execution_count": 31,
   "metadata": {},
   "outputs": [
    {
     "output_type": "execute_result",
     "data": {
      "text/plain": [
       "       Item_Identifier Item_Fat_Content              Item_Type  \\\n",
       "count             8523             8523                   8523   \n",
       "unique            1559                5                     16   \n",
       "top              FDW13          Low Fat  Fruits and Vegetables   \n",
       "freq                10             5089                   1232   \n",
       "\n",
       "       Outlet_Identifier Outlet_Size Outlet_Location_Type        Outlet_Type  \n",
       "count               8523        6113                 8523               8523  \n",
       "unique                10           3                    3                  4  \n",
       "top               OUT027      Medium               Tier 3  Supermarket Type1  \n",
       "freq                 935        2793                 3350               5577  "
      ],
      "text/html": "<div>\n<style scoped>\n    .dataframe tbody tr th:only-of-type {\n        vertical-align: middle;\n    }\n\n    .dataframe tbody tr th {\n        vertical-align: top;\n    }\n\n    .dataframe thead th {\n        text-align: right;\n    }\n</style>\n<table border=\"1\" class=\"dataframe\">\n  <thead>\n    <tr style=\"text-align: right;\">\n      <th></th>\n      <th>Item_Identifier</th>\n      <th>Item_Fat_Content</th>\n      <th>Item_Type</th>\n      <th>Outlet_Identifier</th>\n      <th>Outlet_Size</th>\n      <th>Outlet_Location_Type</th>\n      <th>Outlet_Type</th>\n    </tr>\n  </thead>\n  <tbody>\n    <tr>\n      <th>count</th>\n      <td>8523</td>\n      <td>8523</td>\n      <td>8523</td>\n      <td>8523</td>\n      <td>6113</td>\n      <td>8523</td>\n      <td>8523</td>\n    </tr>\n    <tr>\n      <th>unique</th>\n      <td>1559</td>\n      <td>5</td>\n      <td>16</td>\n      <td>10</td>\n      <td>3</td>\n      <td>3</td>\n      <td>4</td>\n    </tr>\n    <tr>\n      <th>top</th>\n      <td>FDW13</td>\n      <td>Low Fat</td>\n      <td>Fruits and Vegetables</td>\n      <td>OUT027</td>\n      <td>Medium</td>\n      <td>Tier 3</td>\n      <td>Supermarket Type1</td>\n    </tr>\n    <tr>\n      <th>freq</th>\n      <td>10</td>\n      <td>5089</td>\n      <td>1232</td>\n      <td>935</td>\n      <td>2793</td>\n      <td>3350</td>\n      <td>5577</td>\n    </tr>\n  </tbody>\n</table>\n</div>"
     },
     "metadata": {},
     "execution_count": 31
    }
   ],
   "source": [
    "data.describe(include='O')"
   ]
  },
  {
   "cell_type": "code",
   "execution_count": 32,
   "metadata": {},
   "outputs": [
    {
     "output_type": "execute_result",
     "data": {
      "text/plain": [
       "Item_Identifier               0.000000\n",
       "Item_Weight                  17.165317\n",
       "Item_Fat_Content              0.000000\n",
       "Item_Visibility               0.000000\n",
       "Item_Type                     0.000000\n",
       "Item_MRP                      0.000000\n",
       "Outlet_Identifier             0.000000\n",
       "Outlet_Establishment_Year     0.000000\n",
       "Outlet_Size                  28.276428\n",
       "Outlet_Location_Type          0.000000\n",
       "Outlet_Type                   0.000000\n",
       "Item_Outlet_Sales             0.000000\n",
       "dtype: float64"
      ]
     },
     "metadata": {},
     "execution_count": 32
    }
   ],
   "source": [
    "data.isnull().mean() * 100"
   ]
  },
  {
   "cell_type": "code",
   "execution_count": 49,
   "metadata": {},
   "outputs": [],
   "source": [
    "#data.dropna(how='any',axis=0,inplace=True)\n",
    "#data.shape (4650,12) # dropping almost half of the records which will not be good for the Model"
   ]
  },
  {
   "cell_type": "code",
   "execution_count": null,
   "metadata": {},
   "outputs": [],
   "source": []
  },
  {
   "cell_type": "code",
   "execution_count": null,
   "metadata": {},
   "outputs": [],
   "source": []
  },
  {
   "cell_type": "code",
   "execution_count": null,
   "metadata": {},
   "outputs": [],
   "source": []
  },
  {
   "cell_type": "markdown",
   "metadata": {},
   "source": [
    "### There are total 12 columns\n",
    "- **11 are Independent variable**               \n",
    "    Item_Identifier                    \n",
    "    Item_Weight                    \n",
    "    Item_Fat_Content                    \n",
    "    Item_Visibility                  \n",
    "    Item_Type                      \n",
    "    Item_MRP                      \n",
    "    Outlet_Identifier                    \n",
    "    Outlet_Establishment_Year                \n",
    "    Outlet_Size                             \n",
    "    Outlet_Location_Type                    \n",
    "    Outlet_Type    \n",
    "    \n",
    "    \n",
    "\n",
    "- **1 target variable (numerical feature)**               \n",
    "    Item_Outlet_Sales                  "
   ]
  },
  {
   "cell_type": "markdown",
   "metadata": {},
   "source": [
    "## **Independent Variable**\n",
    "\n",
    "**Numerical features**                   \n",
    "Item_Weight ;                                                                                              \t\n",
    "Item_Visibility                         \n",
    "Item_MRP                      \n",
    "Outlet_Establishment_Year                          \n",
    "\n",
    "**Categorical features**                  \n",
    "Item_Identifier              \n",
    "Item_Fat_Content               \n",
    "Item_Type                    \n",
    "Outlet_Identifier                 \n",
    "Outlet_Size                  \n",
    "Outlet_Location_Type                 \n",
    "Outlet_Type                      \n",
    "\n",
    "\n",
    "\n"
   ]
  },
  {
   "cell_type": "markdown",
   "metadata": {},
   "source": [
    "## UNIVARIATE\n",
    "\n",
    "### Numerical\n",
    "\n",
    "\n",
    "\n",
    "\n"
   ]
  },
  {
   "cell_type": "code",
   "execution_count": 33,
   "metadata": {},
   "outputs": [
    {
     "output_type": "execute_result",
     "data": {
      "text/plain": [
       "<matplotlib.axes._subplots.AxesSubplot at 0x2e27a0d2188>"
      ]
     },
     "metadata": {},
     "execution_count": 33
    },
    {
     "output_type": "display_data",
     "data": {
      "text/plain": "<Figure size 432x288 with 1 Axes>",
      "image/svg+xml": "<?xml version=\"1.0\" encoding=\"utf-8\" standalone=\"no\"?>\r\n<!DOCTYPE svg PUBLIC \"-//W3C//DTD SVG 1.1//EN\"\r\n  \"http://www.w3.org/Graphics/SVG/1.1/DTD/svg11.dtd\">\r\n<!-- Created with matplotlib (https://matplotlib.org/) -->\r\n<svg height=\"248.518125pt\" version=\"1.1\" viewBox=\"0 0 381.65 248.518125\" width=\"381.65pt\" xmlns=\"http://www.w3.org/2000/svg\" xmlns:xlink=\"http://www.w3.org/1999/xlink\">\r\n <defs>\r\n  <style type=\"text/css\">\r\n*{stroke-linecap:butt;stroke-linejoin:round;}\r\n  </style>\r\n </defs>\r\n <g id=\"figure_1\">\r\n  <g id=\"patch_1\">\r\n   <path d=\"M -0 248.518125 \r\nL 381.65 248.518125 \r\nL 381.65 0 \r\nL -0 0 \r\nz\r\n\" style=\"fill:none;\"/>\r\n  </g>\r\n  <g id=\"axes_1\">\r\n   <g id=\"patch_2\">\r\n    <path d=\"M 39.65 224.64 \r\nL 374.45 224.64 \r\nL 374.45 7.2 \r\nL 39.65 7.2 \r\nz\r\n\" style=\"fill:#ffffff;\"/>\r\n   </g>\r\n   <g id=\"patch_3\">\r\n    <path clip-path=\"url(#p5bb6ce4845)\" d=\"M 54.868182 224.64 \r\nL 85.304545 224.64 \r\nL 85.304545 17.554286 \r\nL 54.868182 17.554286 \r\nz\r\n\" style=\"fill:#1f77b4;\"/>\r\n   </g>\r\n   <g id=\"patch_4\">\r\n    <path clip-path=\"url(#p5bb6ce4845)\" d=\"M 85.304545 224.64 \r\nL 115.740909 224.64 \r\nL 115.740909 41.880383 \r\nL 85.304545 41.880383 \r\nz\r\n\" style=\"fill:#1f77b4;\"/>\r\n   </g>\r\n   <g id=\"patch_5\">\r\n    <path clip-path=\"url(#p5bb6ce4845)\" d=\"M 115.740909 224.64 \r\nL 146.177273 224.64 \r\nL 146.177273 101.989386 \r\nL 115.740909 101.989386 \r\nz\r\n\" style=\"fill:#1f77b4;\"/>\r\n   </g>\r\n   <g id=\"patch_6\">\r\n    <path clip-path=\"url(#p5bb6ce4845)\" d=\"M 146.177273 224.64 \r\nL 176.613636 224.64 \r\nL 176.613636 147.816615 \r\nL 146.177273 147.816615 \r\nz\r\n\" style=\"fill:#1f77b4;\"/>\r\n   </g>\r\n   <g id=\"patch_7\">\r\n    <path clip-path=\"url(#p5bb6ce4845)\" d=\"M 176.613636 224.64 \r\nL 207.05 224.64 \r\nL 207.05 178.10653 \r\nL 176.613636 178.10653 \r\nz\r\n\" style=\"fill:#1f77b4;\"/>\r\n   </g>\r\n   <g id=\"patch_8\">\r\n    <path clip-path=\"url(#p5bb6ce4845)\" d=\"M 207.05 224.64 \r\nL 237.486364 224.64 \r\nL 237.486364 202.746512 \r\nL 207.05 202.746512 \r\nz\r\n\" style=\"fill:#1f77b4;\"/>\r\n   </g>\r\n   <g id=\"patch_9\">\r\n    <path clip-path=\"url(#p5bb6ce4845)\" d=\"M 237.486364 224.64 \r\nL 267.922727 224.64 \r\nL 267.922727 219.931723 \r\nL 237.486364 219.931723 \r\nz\r\n\" style=\"fill:#1f77b4;\"/>\r\n   </g>\r\n   <g id=\"patch_10\">\r\n    <path clip-path=\"url(#p5bb6ce4845)\" d=\"M 267.922727 224.64 \r\nL 298.359091 224.64 \r\nL 298.359091 221.893505 \r\nL 267.922727 221.893505 \r\nz\r\n\" style=\"fill:#1f77b4;\"/>\r\n   </g>\r\n   <g id=\"patch_11\">\r\n    <path clip-path=\"url(#p5bb6ce4845)\" d=\"M 298.359091 224.64 \r\nL 328.795455 224.64 \r\nL 328.795455 222.364333 \r\nL 298.359091 222.364333 \r\nz\r\n\" style=\"fill:#1f77b4;\"/>\r\n   </g>\r\n   <g id=\"patch_12\">\r\n    <path clip-path=\"url(#p5bb6ce4845)\" d=\"M 328.795455 224.64 \r\nL 359.231818 224.64 \r\nL 359.231818 223.305988 \r\nL 328.795455 223.305988 \r\nz\r\n\" style=\"fill:#1f77b4;\"/>\r\n   </g>\r\n   <g id=\"matplotlib.axis_1\">\r\n    <g id=\"xtick_1\">\r\n     <g id=\"line2d_1\">\r\n      <path clip-path=\"url(#p5bb6ce4845)\" d=\"M 54.868182 224.64 \r\nL 54.868182 7.2 \r\n\" style=\"fill:none;stroke:#b0b0b0;stroke-linecap:square;stroke-width:0.8;\"/>\r\n     </g>\r\n     <g id=\"line2d_2\">\r\n      <defs>\r\n       <path d=\"M 0 0 \r\nL 0 3.5 \r\n\" id=\"m70a167c598\" style=\"stroke:#000000;stroke-width:0.8;\"/>\r\n      </defs>\r\n      <g>\r\n       <use style=\"stroke:#000000;stroke-width:0.8;\" x=\"54.868182\" xlink:href=\"#m70a167c598\" y=\"224.64\"/>\r\n      </g>\r\n     </g>\r\n     <g id=\"text_1\">\r\n      <!-- 0.00 -->\r\n      <defs>\r\n       <path d=\"M 31.78125 66.40625 \r\nQ 24.171875 66.40625 20.328125 58.90625 \r\nQ 16.5 51.421875 16.5 36.375 \r\nQ 16.5 21.390625 20.328125 13.890625 \r\nQ 24.171875 6.390625 31.78125 6.390625 \r\nQ 39.453125 6.390625 43.28125 13.890625 \r\nQ 47.125 21.390625 47.125 36.375 \r\nQ 47.125 51.421875 43.28125 58.90625 \r\nQ 39.453125 66.40625 31.78125 66.40625 \r\nz\r\nM 31.78125 74.21875 \r\nQ 44.046875 74.21875 50.515625 64.515625 \r\nQ 56.984375 54.828125 56.984375 36.375 \r\nQ 56.984375 17.96875 50.515625 8.265625 \r\nQ 44.046875 -1.421875 31.78125 -1.421875 \r\nQ 19.53125 -1.421875 13.0625 8.265625 \r\nQ 6.59375 17.96875 6.59375 36.375 \r\nQ 6.59375 54.828125 13.0625 64.515625 \r\nQ 19.53125 74.21875 31.78125 74.21875 \r\nz\r\n\" id=\"DejaVuSans-48\"/>\r\n       <path d=\"M 10.6875 12.40625 \r\nL 21 12.40625 \r\nL 21 0 \r\nL 10.6875 0 \r\nz\r\n\" id=\"DejaVuSans-46\"/>\r\n      </defs>\r\n      <g transform=\"translate(43.735369 239.238438)scale(0.1 -0.1)\">\r\n       <use xlink:href=\"#DejaVuSans-48\"/>\r\n       <use x=\"63.623047\" xlink:href=\"#DejaVuSans-46\"/>\r\n       <use x=\"95.410156\" xlink:href=\"#DejaVuSans-48\"/>\r\n       <use x=\"159.033203\" xlink:href=\"#DejaVuSans-48\"/>\r\n      </g>\r\n     </g>\r\n    </g>\r\n    <g id=\"xtick_2\">\r\n     <g id=\"line2d_3\">\r\n      <path clip-path=\"url(#p5bb6ce4845)\" d=\"M 101.209842 224.64 \r\nL 101.209842 7.2 \r\n\" style=\"fill:none;stroke:#b0b0b0;stroke-linecap:square;stroke-width:0.8;\"/>\r\n     </g>\r\n     <g id=\"line2d_4\">\r\n      <g>\r\n       <use style=\"stroke:#000000;stroke-width:0.8;\" x=\"101.209842\" xlink:href=\"#m70a167c598\" y=\"224.64\"/>\r\n      </g>\r\n     </g>\r\n     <g id=\"text_2\">\r\n      <!-- 0.05 -->\r\n      <defs>\r\n       <path d=\"M 10.796875 72.90625 \r\nL 49.515625 72.90625 \r\nL 49.515625 64.59375 \r\nL 19.828125 64.59375 \r\nL 19.828125 46.734375 \r\nQ 21.96875 47.46875 24.109375 47.828125 \r\nQ 26.265625 48.1875 28.421875 48.1875 \r\nQ 40.625 48.1875 47.75 41.5 \r\nQ 54.890625 34.8125 54.890625 23.390625 \r\nQ 54.890625 11.625 47.5625 5.09375 \r\nQ 40.234375 -1.421875 26.90625 -1.421875 \r\nQ 22.3125 -1.421875 17.546875 -0.640625 \r\nQ 12.796875 0.140625 7.71875 1.703125 \r\nL 7.71875 11.625 \r\nQ 12.109375 9.234375 16.796875 8.0625 \r\nQ 21.484375 6.890625 26.703125 6.890625 \r\nQ 35.15625 6.890625 40.078125 11.328125 \r\nQ 45.015625 15.765625 45.015625 23.390625 \r\nQ 45.015625 31 40.078125 35.4375 \r\nQ 35.15625 39.890625 26.703125 39.890625 \r\nQ 22.75 39.890625 18.8125 39.015625 \r\nQ 14.890625 38.140625 10.796875 36.28125 \r\nz\r\n\" id=\"DejaVuSans-53\"/>\r\n      </defs>\r\n      <g transform=\"translate(90.07703 239.238438)scale(0.1 -0.1)\">\r\n       <use xlink:href=\"#DejaVuSans-48\"/>\r\n       <use x=\"63.623047\" xlink:href=\"#DejaVuSans-46\"/>\r\n       <use x=\"95.410156\" xlink:href=\"#DejaVuSans-48\"/>\r\n       <use x=\"159.033203\" xlink:href=\"#DejaVuSans-53\"/>\r\n      </g>\r\n     </g>\r\n    </g>\r\n    <g id=\"xtick_3\">\r\n     <g id=\"line2d_5\">\r\n      <path clip-path=\"url(#p5bb6ce4845)\" d=\"M 147.551503 224.64 \r\nL 147.551503 7.2 \r\n\" style=\"fill:none;stroke:#b0b0b0;stroke-linecap:square;stroke-width:0.8;\"/>\r\n     </g>\r\n     <g id=\"line2d_6\">\r\n      <g>\r\n       <use style=\"stroke:#000000;stroke-width:0.8;\" x=\"147.551503\" xlink:href=\"#m70a167c598\" y=\"224.64\"/>\r\n      </g>\r\n     </g>\r\n     <g id=\"text_3\">\r\n      <!-- 0.10 -->\r\n      <defs>\r\n       <path d=\"M 12.40625 8.296875 \r\nL 28.515625 8.296875 \r\nL 28.515625 63.921875 \r\nL 10.984375 60.40625 \r\nL 10.984375 69.390625 \r\nL 28.421875 72.90625 \r\nL 38.28125 72.90625 \r\nL 38.28125 8.296875 \r\nL 54.390625 8.296875 \r\nL 54.390625 0 \r\nL 12.40625 0 \r\nz\r\n\" id=\"DejaVuSans-49\"/>\r\n      </defs>\r\n      <g transform=\"translate(136.41869 239.238438)scale(0.1 -0.1)\">\r\n       <use xlink:href=\"#DejaVuSans-48\"/>\r\n       <use x=\"63.623047\" xlink:href=\"#DejaVuSans-46\"/>\r\n       <use x=\"95.410156\" xlink:href=\"#DejaVuSans-49\"/>\r\n       <use x=\"159.033203\" xlink:href=\"#DejaVuSans-48\"/>\r\n      </g>\r\n     </g>\r\n    </g>\r\n    <g id=\"xtick_4\">\r\n     <g id=\"line2d_7\">\r\n      <path clip-path=\"url(#p5bb6ce4845)\" d=\"M 193.893163 224.64 \r\nL 193.893163 7.2 \r\n\" style=\"fill:none;stroke:#b0b0b0;stroke-linecap:square;stroke-width:0.8;\"/>\r\n     </g>\r\n     <g id=\"line2d_8\">\r\n      <g>\r\n       <use style=\"stroke:#000000;stroke-width:0.8;\" x=\"193.893163\" xlink:href=\"#m70a167c598\" y=\"224.64\"/>\r\n      </g>\r\n     </g>\r\n     <g id=\"text_4\">\r\n      <!-- 0.15 -->\r\n      <g transform=\"translate(182.760351 239.238438)scale(0.1 -0.1)\">\r\n       <use xlink:href=\"#DejaVuSans-48\"/>\r\n       <use x=\"63.623047\" xlink:href=\"#DejaVuSans-46\"/>\r\n       <use x=\"95.410156\" xlink:href=\"#DejaVuSans-49\"/>\r\n       <use x=\"159.033203\" xlink:href=\"#DejaVuSans-53\"/>\r\n      </g>\r\n     </g>\r\n    </g>\r\n    <g id=\"xtick_5\">\r\n     <g id=\"line2d_9\">\r\n      <path clip-path=\"url(#p5bb6ce4845)\" d=\"M 240.234824 224.64 \r\nL 240.234824 7.2 \r\n\" style=\"fill:none;stroke:#b0b0b0;stroke-linecap:square;stroke-width:0.8;\"/>\r\n     </g>\r\n     <g id=\"line2d_10\">\r\n      <g>\r\n       <use style=\"stroke:#000000;stroke-width:0.8;\" x=\"240.234824\" xlink:href=\"#m70a167c598\" y=\"224.64\"/>\r\n      </g>\r\n     </g>\r\n     <g id=\"text_5\">\r\n      <!-- 0.20 -->\r\n      <defs>\r\n       <path d=\"M 19.1875 8.296875 \r\nL 53.609375 8.296875 \r\nL 53.609375 0 \r\nL 7.328125 0 \r\nL 7.328125 8.296875 \r\nQ 12.9375 14.109375 22.625 23.890625 \r\nQ 32.328125 33.6875 34.8125 36.53125 \r\nQ 39.546875 41.84375 41.421875 45.53125 \r\nQ 43.3125 49.21875 43.3125 52.78125 \r\nQ 43.3125 58.59375 39.234375 62.25 \r\nQ 35.15625 65.921875 28.609375 65.921875 \r\nQ 23.96875 65.921875 18.8125 64.3125 \r\nQ 13.671875 62.703125 7.8125 59.421875 \r\nL 7.8125 69.390625 \r\nQ 13.765625 71.78125 18.9375 73 \r\nQ 24.125 74.21875 28.421875 74.21875 \r\nQ 39.75 74.21875 46.484375 68.546875 \r\nQ 53.21875 62.890625 53.21875 53.421875 \r\nQ 53.21875 48.921875 51.53125 44.890625 \r\nQ 49.859375 40.875 45.40625 35.40625 \r\nQ 44.1875 33.984375 37.640625 27.21875 \r\nQ 31.109375 20.453125 19.1875 8.296875 \r\nz\r\n\" id=\"DejaVuSans-50\"/>\r\n      </defs>\r\n      <g transform=\"translate(229.102011 239.238438)scale(0.1 -0.1)\">\r\n       <use xlink:href=\"#DejaVuSans-48\"/>\r\n       <use x=\"63.623047\" xlink:href=\"#DejaVuSans-46\"/>\r\n       <use x=\"95.410156\" xlink:href=\"#DejaVuSans-50\"/>\r\n       <use x=\"159.033203\" xlink:href=\"#DejaVuSans-48\"/>\r\n      </g>\r\n     </g>\r\n    </g>\r\n    <g id=\"xtick_6\">\r\n     <g id=\"line2d_11\">\r\n      <path clip-path=\"url(#p5bb6ce4845)\" d=\"M 286.576484 224.64 \r\nL 286.576484 7.2 \r\n\" style=\"fill:none;stroke:#b0b0b0;stroke-linecap:square;stroke-width:0.8;\"/>\r\n     </g>\r\n     <g id=\"line2d_12\">\r\n      <g>\r\n       <use style=\"stroke:#000000;stroke-width:0.8;\" x=\"286.576484\" xlink:href=\"#m70a167c598\" y=\"224.64\"/>\r\n      </g>\r\n     </g>\r\n     <g id=\"text_6\">\r\n      <!-- 0.25 -->\r\n      <g transform=\"translate(275.443672 239.238438)scale(0.1 -0.1)\">\r\n       <use xlink:href=\"#DejaVuSans-48\"/>\r\n       <use x=\"63.623047\" xlink:href=\"#DejaVuSans-46\"/>\r\n       <use x=\"95.410156\" xlink:href=\"#DejaVuSans-50\"/>\r\n       <use x=\"159.033203\" xlink:href=\"#DejaVuSans-53\"/>\r\n      </g>\r\n     </g>\r\n    </g>\r\n    <g id=\"xtick_7\">\r\n     <g id=\"line2d_13\">\r\n      <path clip-path=\"url(#p5bb6ce4845)\" d=\"M 332.918145 224.64 \r\nL 332.918145 7.2 \r\n\" style=\"fill:none;stroke:#b0b0b0;stroke-linecap:square;stroke-width:0.8;\"/>\r\n     </g>\r\n     <g id=\"line2d_14\">\r\n      <g>\r\n       <use style=\"stroke:#000000;stroke-width:0.8;\" x=\"332.918145\" xlink:href=\"#m70a167c598\" y=\"224.64\"/>\r\n      </g>\r\n     </g>\r\n     <g id=\"text_7\">\r\n      <!-- 0.30 -->\r\n      <defs>\r\n       <path d=\"M 40.578125 39.3125 \r\nQ 47.65625 37.796875 51.625 33 \r\nQ 55.609375 28.21875 55.609375 21.1875 \r\nQ 55.609375 10.40625 48.1875 4.484375 \r\nQ 40.765625 -1.421875 27.09375 -1.421875 \r\nQ 22.515625 -1.421875 17.65625 -0.515625 \r\nQ 12.796875 0.390625 7.625 2.203125 \r\nL 7.625 11.71875 \r\nQ 11.71875 9.328125 16.59375 8.109375 \r\nQ 21.484375 6.890625 26.8125 6.890625 \r\nQ 36.078125 6.890625 40.9375 10.546875 \r\nQ 45.796875 14.203125 45.796875 21.1875 \r\nQ 45.796875 27.640625 41.28125 31.265625 \r\nQ 36.765625 34.90625 28.71875 34.90625 \r\nL 20.21875 34.90625 \r\nL 20.21875 43.015625 \r\nL 29.109375 43.015625 \r\nQ 36.375 43.015625 40.234375 45.921875 \r\nQ 44.09375 48.828125 44.09375 54.296875 \r\nQ 44.09375 59.90625 40.109375 62.90625 \r\nQ 36.140625 65.921875 28.71875 65.921875 \r\nQ 24.65625 65.921875 20.015625 65.03125 \r\nQ 15.375 64.15625 9.8125 62.3125 \r\nL 9.8125 71.09375 \r\nQ 15.4375 72.65625 20.34375 73.4375 \r\nQ 25.25 74.21875 29.59375 74.21875 \r\nQ 40.828125 74.21875 47.359375 69.109375 \r\nQ 53.90625 64.015625 53.90625 55.328125 \r\nQ 53.90625 49.265625 50.4375 45.09375 \r\nQ 46.96875 40.921875 40.578125 39.3125 \r\nz\r\n\" id=\"DejaVuSans-51\"/>\r\n      </defs>\r\n      <g transform=\"translate(321.785332 239.238438)scale(0.1 -0.1)\">\r\n       <use xlink:href=\"#DejaVuSans-48\"/>\r\n       <use x=\"63.623047\" xlink:href=\"#DejaVuSans-46\"/>\r\n       <use x=\"95.410156\" xlink:href=\"#DejaVuSans-51\"/>\r\n       <use x=\"159.033203\" xlink:href=\"#DejaVuSans-48\"/>\r\n      </g>\r\n     </g>\r\n    </g>\r\n   </g>\r\n   <g id=\"matplotlib.axis_2\">\r\n    <g id=\"ytick_1\">\r\n     <g id=\"line2d_15\">\r\n      <path clip-path=\"url(#p5bb6ce4845)\" d=\"M 39.65 224.64 \r\nL 374.45 224.64 \r\n\" style=\"fill:none;stroke:#b0b0b0;stroke-linecap:square;stroke-width:0.8;\"/>\r\n     </g>\r\n     <g id=\"line2d_16\">\r\n      <defs>\r\n       <path d=\"M 0 0 \r\nL -3.5 0 \r\n\" id=\"m199fb8557d\" style=\"stroke:#000000;stroke-width:0.8;\"/>\r\n      </defs>\r\n      <g>\r\n       <use style=\"stroke:#000000;stroke-width:0.8;\" x=\"39.65\" xlink:href=\"#m199fb8557d\" y=\"224.64\"/>\r\n      </g>\r\n     </g>\r\n     <g id=\"text_8\">\r\n      <!-- 0 -->\r\n      <g transform=\"translate(26.2875 228.439219)scale(0.1 -0.1)\">\r\n       <use xlink:href=\"#DejaVuSans-48\"/>\r\n      </g>\r\n     </g>\r\n    </g>\r\n    <g id=\"ytick_2\">\r\n     <g id=\"line2d_17\">\r\n      <path clip-path=\"url(#p5bb6ce4845)\" d=\"M 39.65 185.404359 \r\nL 374.45 185.404359 \r\n\" style=\"fill:none;stroke:#b0b0b0;stroke-linecap:square;stroke-width:0.8;\"/>\r\n     </g>\r\n     <g id=\"line2d_18\">\r\n      <g>\r\n       <use style=\"stroke:#000000;stroke-width:0.8;\" x=\"39.65\" xlink:href=\"#m199fb8557d\" y=\"185.404359\"/>\r\n      </g>\r\n     </g>\r\n     <g id=\"text_9\">\r\n      <!-- 500 -->\r\n      <g transform=\"translate(13.5625 189.203578)scale(0.1 -0.1)\">\r\n       <use xlink:href=\"#DejaVuSans-53\"/>\r\n       <use x=\"63.623047\" xlink:href=\"#DejaVuSans-48\"/>\r\n       <use x=\"127.246094\" xlink:href=\"#DejaVuSans-48\"/>\r\n      </g>\r\n     </g>\r\n    </g>\r\n    <g id=\"ytick_3\">\r\n     <g id=\"line2d_19\">\r\n      <path clip-path=\"url(#p5bb6ce4845)\" d=\"M 39.65 146.168718 \r\nL 374.45 146.168718 \r\n\" style=\"fill:none;stroke:#b0b0b0;stroke-linecap:square;stroke-width:0.8;\"/>\r\n     </g>\r\n     <g id=\"line2d_20\">\r\n      <g>\r\n       <use style=\"stroke:#000000;stroke-width:0.8;\" x=\"39.65\" xlink:href=\"#m199fb8557d\" y=\"146.168718\"/>\r\n      </g>\r\n     </g>\r\n     <g id=\"text_10\">\r\n      <!-- 1000 -->\r\n      <g transform=\"translate(7.2 149.967936)scale(0.1 -0.1)\">\r\n       <use xlink:href=\"#DejaVuSans-49\"/>\r\n       <use x=\"63.623047\" xlink:href=\"#DejaVuSans-48\"/>\r\n       <use x=\"127.246094\" xlink:href=\"#DejaVuSans-48\"/>\r\n       <use x=\"190.869141\" xlink:href=\"#DejaVuSans-48\"/>\r\n      </g>\r\n     </g>\r\n    </g>\r\n    <g id=\"ytick_4\">\r\n     <g id=\"line2d_21\">\r\n      <path clip-path=\"url(#p5bb6ce4845)\" d=\"M 39.65 106.933076 \r\nL 374.45 106.933076 \r\n\" style=\"fill:none;stroke:#b0b0b0;stroke-linecap:square;stroke-width:0.8;\"/>\r\n     </g>\r\n     <g id=\"line2d_22\">\r\n      <g>\r\n       <use style=\"stroke:#000000;stroke-width:0.8;\" x=\"39.65\" xlink:href=\"#m199fb8557d\" y=\"106.933076\"/>\r\n      </g>\r\n     </g>\r\n     <g id=\"text_11\">\r\n      <!-- 1500 -->\r\n      <g transform=\"translate(7.2 110.732295)scale(0.1 -0.1)\">\r\n       <use xlink:href=\"#DejaVuSans-49\"/>\r\n       <use x=\"63.623047\" xlink:href=\"#DejaVuSans-53\"/>\r\n       <use x=\"127.246094\" xlink:href=\"#DejaVuSans-48\"/>\r\n       <use x=\"190.869141\" xlink:href=\"#DejaVuSans-48\"/>\r\n      </g>\r\n     </g>\r\n    </g>\r\n    <g id=\"ytick_5\">\r\n     <g id=\"line2d_23\">\r\n      <path clip-path=\"url(#p5bb6ce4845)\" d=\"M 39.65 67.697435 \r\nL 374.45 67.697435 \r\n\" style=\"fill:none;stroke:#b0b0b0;stroke-linecap:square;stroke-width:0.8;\"/>\r\n     </g>\r\n     <g id=\"line2d_24\">\r\n      <g>\r\n       <use style=\"stroke:#000000;stroke-width:0.8;\" x=\"39.65\" xlink:href=\"#m199fb8557d\" y=\"67.697435\"/>\r\n      </g>\r\n     </g>\r\n     <g id=\"text_12\">\r\n      <!-- 2000 -->\r\n      <g transform=\"translate(7.2 71.496654)scale(0.1 -0.1)\">\r\n       <use xlink:href=\"#DejaVuSans-50\"/>\r\n       <use x=\"63.623047\" xlink:href=\"#DejaVuSans-48\"/>\r\n       <use x=\"127.246094\" xlink:href=\"#DejaVuSans-48\"/>\r\n       <use x=\"190.869141\" xlink:href=\"#DejaVuSans-48\"/>\r\n      </g>\r\n     </g>\r\n    </g>\r\n    <g id=\"ytick_6\">\r\n     <g id=\"line2d_25\">\r\n      <path clip-path=\"url(#p5bb6ce4845)\" d=\"M 39.65 28.461794 \r\nL 374.45 28.461794 \r\n\" style=\"fill:none;stroke:#b0b0b0;stroke-linecap:square;stroke-width:0.8;\"/>\r\n     </g>\r\n     <g id=\"line2d_26\">\r\n      <g>\r\n       <use style=\"stroke:#000000;stroke-width:0.8;\" x=\"39.65\" xlink:href=\"#m199fb8557d\" y=\"28.461794\"/>\r\n      </g>\r\n     </g>\r\n     <g id=\"text_13\">\r\n      <!-- 2500 -->\r\n      <g transform=\"translate(7.2 32.261013)scale(0.1 -0.1)\">\r\n       <use xlink:href=\"#DejaVuSans-50\"/>\r\n       <use x=\"63.623047\" xlink:href=\"#DejaVuSans-53\"/>\r\n       <use x=\"127.246094\" xlink:href=\"#DejaVuSans-48\"/>\r\n       <use x=\"190.869141\" xlink:href=\"#DejaVuSans-48\"/>\r\n      </g>\r\n     </g>\r\n    </g>\r\n   </g>\r\n   <g id=\"patch_13\">\r\n    <path d=\"M 39.65 224.64 \r\nL 39.65 7.2 \r\n\" style=\"fill:none;stroke:#000000;stroke-linecap:square;stroke-linejoin:miter;stroke-width:0.8;\"/>\r\n   </g>\r\n   <g id=\"patch_14\">\r\n    <path d=\"M 374.45 224.64 \r\nL 374.45 7.2 \r\n\" style=\"fill:none;stroke:#000000;stroke-linecap:square;stroke-linejoin:miter;stroke-width:0.8;\"/>\r\n   </g>\r\n   <g id=\"patch_15\">\r\n    <path d=\"M 39.65 224.64 \r\nL 374.45 224.64 \r\n\" style=\"fill:none;stroke:#000000;stroke-linecap:square;stroke-linejoin:miter;stroke-width:0.8;\"/>\r\n   </g>\r\n   <g id=\"patch_16\">\r\n    <path d=\"M 39.65 7.2 \r\nL 374.45 7.2 \r\n\" style=\"fill:none;stroke:#000000;stroke-linecap:square;stroke-linejoin:miter;stroke-width:0.8;\"/>\r\n   </g>\r\n  </g>\r\n </g>\r\n <defs>\r\n  <clipPath id=\"p5bb6ce4845\">\r\n   <rect height=\"217.44\" width=\"334.8\" x=\"39.65\" y=\"7.2\"/>\r\n  </clipPath>\r\n </defs>\r\n</svg>\r\n",
      "image/png": "[encoded data removed]"
     },
     "metadata": {
      "needs_background": "light"
     }
    }
   ],
   "source": [
    "data['Item_Visibility'].hist()"
   ]
  },
  {
   "cell_type": "code",
   "execution_count": 34,
   "metadata": {},
   "outputs": [
    {
     "output_type": "display_data",
     "data": {
      "text/plain": "<Figure size 432x288 with 2 Axes>",
      "image/svg+xml": "<?xml version=\"1.0\" encoding=\"utf-8\" standalone=\"no\"?>\r\n<!DOCTYPE svg PUBLIC \"-//W3C//DTD SVG 1.1//EN\"\r\n  \"http://www.w3.org/Graphics/SVG/1.1/DTD/svg11.dtd\">\r\n<!-- Created with matplotlib (https://matplotlib.org/) -->\r\n<svg height=\"262.474375pt\" version=\"1.1\" viewBox=\"0 0 368.925 262.474375\" width=\"368.925pt\" xmlns=\"http://www.w3.org/2000/svg\" xmlns:xlink=\"http://www.w3.org/1999/xlink\">\r\n <defs>\r\n  <style type=\"text/css\">\r\n*{stroke-linecap:butt;stroke-linejoin:round;}\r\n  </style>\r\n </defs>\r\n <g id=\"figure_1\">\r\n  <g id=\"patch_1\">\r\n   <path d=\"M -0 262.474375 \r\nL 368.925 262.474375 \r\nL 368.925 0 \r\nL -0 0 \r\nz\r\n\" style=\"fill:none;\"/>\r\n  </g>\r\n  <g id=\"axes_1\">\r\n   <g id=\"patch_2\">\r\n    <path d=\"M 26.925 224.64 \r\nL 179.106818 224.64 \r\nL 179.106818 7.2 \r\nL 26.925 7.2 \r\nz\r\n\" style=\"fill:#ffffff;\"/>\r\n   </g>\r\n   <g id=\"patch_3\">\r\n    <path clip-path=\"url(#pe270857d0e)\" d=\"M 43.314155 224.64 \r\nL 45.702225 224.64 \r\nL 45.702225 25.823932 \r\nL 43.314155 25.823932 \r\nz\r\n\" style=\"fill:#1f77b4;opacity:0.4;\"/>\r\n   </g>\r\n   <g id=\"patch_4\">\r\n    <path clip-path=\"url(#pe270857d0e)\" d=\"M 45.702225 224.64 \r\nL 48.090295 224.64 \r\nL 48.090295 100.939881 \r\nL 45.702225 100.939881 \r\nz\r\n\" style=\"fill:#1f77b4;opacity:0.4;\"/>\r\n   </g>\r\n   <g id=\"patch_5\">\r\n    <path clip-path=\"url(#pe270857d0e)\" d=\"M 48.090295 224.64 \r\nL 50.478365 224.64 \r\nL 50.478365 45.46434 \r\nL 48.090295 45.46434 \r\nz\r\n\" style=\"fill:#1f77b4;opacity:0.4;\"/>\r\n   </g>\r\n   <g id=\"patch_6\">\r\n    <path clip-path=\"url(#pe270857d0e)\" d=\"M 50.478365 224.64 \r\nL 52.866435 224.64 \r\nL 52.866435 24.101089 \r\nL 50.478365 24.101089 \r\nz\r\n\" style=\"fill:#1f77b4;opacity:0.4;\"/>\r\n   </g>\r\n   <g id=\"patch_7\">\r\n    <path clip-path=\"url(#pe270857d0e)\" d=\"M 52.866435 224.64 \r\nL 55.254506 224.64 \r\nL 55.254506 17.554286 \r\nL 52.866435 17.554286 \r\nz\r\n\" style=\"fill:#1f77b4;opacity:0.4;\"/>\r\n   </g>\r\n   <g id=\"patch_8\">\r\n    <path clip-path=\"url(#pe270857d0e)\" d=\"M 55.254506 224.64 \r\nL 57.642576 224.64 \r\nL 57.642576 20.999971 \r\nL 55.254506 20.999971 \r\nz\r\n\" style=\"fill:#1f77b4;opacity:0.4;\"/>\r\n   </g>\r\n   <g id=\"patch_9\">\r\n    <path clip-path=\"url(#pe270857d0e)\" d=\"M 57.642576 224.64 \r\nL 60.030646 224.64 \r\nL 60.030646 45.119772 \r\nL 57.642576 45.119772 \r\nz\r\n\" style=\"fill:#1f77b4;opacity:0.4;\"/>\r\n   </g>\r\n   <g id=\"patch_10\">\r\n    <path clip-path=\"url(#pe270857d0e)\" d=\"M 60.030646 224.64 \r\nL 62.418716 224.64 \r\nL 62.418716 78.198355 \r\nL 60.030646 78.198355 \r\nz\r\n\" style=\"fill:#1f77b4;opacity:0.4;\"/>\r\n   </g>\r\n   <g id=\"patch_11\">\r\n    <path clip-path=\"url(#pe270857d0e)\" d=\"M 62.418716 224.64 \r\nL 64.806786 224.64 \r\nL 64.806786 74.408101 \r\nL 62.418716 74.408101 \r\nz\r\n\" style=\"fill:#1f77b4;opacity:0.4;\"/>\r\n   </g>\r\n   <g id=\"patch_12\">\r\n    <path clip-path=\"url(#pe270857d0e)\" d=\"M 64.806786 224.64 \r\nL 67.194856 224.64 \r\nL 67.194856 101.973587 \r\nL 64.806786 101.973587 \r\nz\r\n\" style=\"fill:#1f77b4;opacity:0.4;\"/>\r\n   </g>\r\n   <g id=\"patch_13\">\r\n    <path clip-path=\"url(#pe270857d0e)\" d=\"M 67.194856 224.64 \r\nL 69.582927 224.64 \r\nL 69.582927 105.074704 \r\nL 67.194856 105.074704 \r\nz\r\n\" style=\"fill:#1f77b4;opacity:0.4;\"/>\r\n   </g>\r\n   <g id=\"patch_14\">\r\n    <path clip-path=\"url(#pe270857d0e)\" d=\"M 69.582927 224.64 \r\nL 71.970997 224.64 \r\nL 71.970997 85.089727 \r\nL 69.582927 85.089727 \r\nz\r\n\" style=\"fill:#1f77b4;opacity:0.4;\"/>\r\n   </g>\r\n   <g id=\"patch_15\">\r\n    <path clip-path=\"url(#pe270857d0e)\" d=\"M 71.970997 224.64 \r\nL 74.359067 224.64 \r\nL 74.359067 120.235721 \r\nL 71.970997 120.235721 \r\nz\r\n\" style=\"fill:#1f77b4;opacity:0.4;\"/>\r\n   </g>\r\n   <g id=\"patch_16\">\r\n    <path clip-path=\"url(#pe270857d0e)\" d=\"M 74.359067 224.64 \r\nL 76.747137 224.64 \r\nL 76.747137 138.497856 \r\nL 74.359067 138.497856 \r\nz\r\n\" style=\"fill:#1f77b4;opacity:0.4;\"/>\r\n   </g>\r\n   <g id=\"patch_17\">\r\n    <path clip-path=\"url(#pe270857d0e)\" d=\"M 76.747137 224.64 \r\nL 79.135207 224.64 \r\nL 79.135207 135.741307 \r\nL 76.747137 135.741307 \r\nz\r\n\" style=\"fill:#1f77b4;opacity:0.4;\"/>\r\n   </g>\r\n   <g id=\"patch_18\">\r\n    <path clip-path=\"url(#pe270857d0e)\" d=\"M 79.135207 224.64 \r\nL 81.523278 224.64 \r\nL 81.523278 146.767502 \r\nL 79.135207 146.767502 \r\nz\r\n\" style=\"fill:#1f77b4;opacity:0.4;\"/>\r\n   </g>\r\n   <g id=\"patch_19\">\r\n    <path clip-path=\"url(#pe270857d0e)\" d=\"M 81.523278 224.64 \r\nL 83.911348 224.64 \r\nL 83.911348 163.995931 \r\nL 81.523278 163.995931 \r\nz\r\n\" style=\"fill:#1f77b4;opacity:0.4;\"/>\r\n   </g>\r\n   <g id=\"patch_20\">\r\n    <path clip-path=\"url(#pe270857d0e)\" d=\"M 83.911348 224.64 \r\nL 86.299418 224.64 \r\nL 86.299418 156.415422 \r\nL 83.911348 156.415422 \r\nz\r\n\" style=\"fill:#1f77b4;opacity:0.4;\"/>\r\n   </g>\r\n   <g id=\"patch_21\">\r\n    <path clip-path=\"url(#pe270857d0e)\" d=\"M 86.299418 224.64 \r\nL 88.687488 224.64 \r\nL 88.687488 155.726285 \r\nL 86.299418 155.726285 \r\nz\r\n\" style=\"fill:#1f77b4;opacity:0.4;\"/>\r\n   </g>\r\n   <g id=\"patch_22\">\r\n    <path clip-path=\"url(#pe270857d0e)\" d=\"M 88.687488 224.64 \r\nL 91.075558 224.64 \r\nL 91.075558 162.962225 \r\nL 88.687488 162.962225 \r\nz\r\n\" style=\"fill:#1f77b4;opacity:0.4;\"/>\r\n   </g>\r\n   <g id=\"patch_23\">\r\n    <path clip-path=\"url(#pe270857d0e)\" d=\"M 91.075558 224.64 \r\nL 93.463628 224.64 \r\nL 93.463628 178.467811 \r\nL 91.075558 178.467811 \r\nz\r\n\" style=\"fill:#1f77b4;opacity:0.4;\"/>\r\n   </g>\r\n   <g id=\"patch_24\">\r\n    <path clip-path=\"url(#pe270857d0e)\" d=\"M 93.463628 224.64 \r\nL 95.851699 224.64 \r\nL 95.851699 172.265576 \r\nL 93.463628 172.265576 \r\nz\r\n\" style=\"fill:#1f77b4;opacity:0.4;\"/>\r\n   </g>\r\n   <g id=\"patch_25\">\r\n    <path clip-path=\"url(#pe270857d0e)\" d=\"M 95.851699 224.64 \r\nL 98.239769 224.64 \r\nL 98.239769 192.595122 \r\nL 95.851699 192.595122 \r\nz\r\n\" style=\"fill:#1f77b4;opacity:0.4;\"/>\r\n   </g>\r\n   <g id=\"patch_26\">\r\n    <path clip-path=\"url(#pe270857d0e)\" d=\"M 98.239769 224.64 \r\nL 100.627839 224.64 \r\nL 100.627839 191.905985 \r\nL 98.239769 191.905985 \r\nz\r\n\" style=\"fill:#1f77b4;opacity:0.4;\"/>\r\n   </g>\r\n   <g id=\"patch_27\">\r\n    <path clip-path=\"url(#pe270857d0e)\" d=\"M 100.627839 224.64 \r\nL 103.015909 224.64 \r\nL 103.015909 183.636339 \r\nL 100.627839 183.636339 \r\nz\r\n\" style=\"fill:#1f77b4;opacity:0.4;\"/>\r\n   </g>\r\n   <g id=\"patch_28\">\r\n    <path clip-path=\"url(#pe270857d0e)\" d=\"M 103.015909 224.64 \r\nL 105.403979 224.64 \r\nL 105.403979 199.831063 \r\nL 103.015909 199.831063 \r\nz\r\n\" style=\"fill:#1f77b4;opacity:0.4;\"/>\r\n   </g>\r\n   <g id=\"patch_29\">\r\n    <path clip-path=\"url(#pe270857d0e)\" d=\"M 105.403979 224.64 \r\nL 107.792049 224.64 \r\nL 107.792049 190.527711 \r\nL 105.403979 190.527711 \r\nz\r\n\" style=\"fill:#1f77b4;opacity:0.4;\"/>\r\n   </g>\r\n   <g id=\"patch_30\">\r\n    <path clip-path=\"url(#pe270857d0e)\" d=\"M 107.792049 224.64 \r\nL 110.18012 224.64 \r\nL 110.18012 208.789845 \r\nL 107.792049 208.789845 \r\nz\r\n\" style=\"fill:#1f77b4;opacity:0.4;\"/>\r\n   </g>\r\n   <g id=\"patch_31\">\r\n    <path clip-path=\"url(#pe270857d0e)\" d=\"M 110.18012 224.64 \r\nL 112.56819 224.64 \r\nL 112.56819 209.478983 \r\nL 110.18012 209.478983 \r\nz\r\n\" style=\"fill:#1f77b4;opacity:0.4;\"/>\r\n   </g>\r\n   <g id=\"patch_32\">\r\n    <path clip-path=\"url(#pe270857d0e)\" d=\"M 112.56819 224.64 \r\nL 114.95626 224.64 \r\nL 114.95626 218.437766 \r\nL 112.56819 218.437766 \r\nz\r\n\" style=\"fill:#1f77b4;opacity:0.4;\"/>\r\n   </g>\r\n   <g id=\"patch_33\">\r\n    <path clip-path=\"url(#pe270857d0e)\" d=\"M 114.95626 224.64 \r\nL 117.34433 224.64 \r\nL 117.34433 221.194314 \r\nL 114.95626 221.194314 \r\nz\r\n\" style=\"fill:#1f77b4;opacity:0.4;\"/>\r\n   </g>\r\n   <g id=\"patch_34\">\r\n    <path clip-path=\"url(#pe270857d0e)\" d=\"M 117.34433 224.64 \r\nL 119.7324 224.64 \r\nL 119.7324 219.471471 \r\nL 117.34433 219.471471 \r\nz\r\n\" style=\"fill:#1f77b4;opacity:0.4;\"/>\r\n   </g>\r\n   <g id=\"patch_35\">\r\n    <path clip-path=\"url(#pe270857d0e)\" d=\"M 119.7324 224.64 \r\nL 122.12047 224.64 \r\nL 122.12047 218.437766 \r\nL 119.7324 218.437766 \r\nz\r\n\" style=\"fill:#1f77b4;opacity:0.4;\"/>\r\n   </g>\r\n   <g id=\"patch_36\">\r\n    <path clip-path=\"url(#pe270857d0e)\" d=\"M 122.12047 224.64 \r\nL 124.508541 224.64 \r\nL 124.508541 222.917157 \r\nL 122.12047 222.917157 \r\nz\r\n\" style=\"fill:#1f77b4;opacity:0.4;\"/>\r\n   </g>\r\n   <g id=\"patch_37\">\r\n    <path clip-path=\"url(#pe270857d0e)\" d=\"M 124.508541 224.64 \r\nL 126.896611 224.64 \r\nL 126.896611 220.505177 \r\nL 124.508541 220.505177 \r\nz\r\n\" style=\"fill:#1f77b4;opacity:0.4;\"/>\r\n   </g>\r\n   <g id=\"patch_38\">\r\n    <path clip-path=\"url(#pe270857d0e)\" d=\"M 126.896611 224.64 \r\nL 129.284681 224.64 \r\nL 129.284681 221.538883 \r\nL 126.896611 221.538883 \r\nz\r\n\" style=\"fill:#1f77b4;opacity:0.4;\"/>\r\n   </g>\r\n   <g id=\"patch_39\">\r\n    <path clip-path=\"url(#pe270857d0e)\" d=\"M 129.284681 224.64 \r\nL 131.672751 224.64 \r\nL 131.672751 221.883451 \r\nL 129.284681 221.883451 \r\nz\r\n\" style=\"fill:#1f77b4;opacity:0.4;\"/>\r\n   </g>\r\n   <g id=\"patch_40\">\r\n    <path clip-path=\"url(#pe270857d0e)\" d=\"M 131.672751 224.64 \r\nL 134.060821 224.64 \r\nL 134.060821 221.538883 \r\nL 131.672751 221.538883 \r\nz\r\n\" style=\"fill:#1f77b4;opacity:0.4;\"/>\r\n   </g>\r\n   <g id=\"patch_41\">\r\n    <path clip-path=\"url(#pe270857d0e)\" d=\"M 134.060821 224.64 \r\nL 136.448892 224.64 \r\nL 136.448892 222.22802 \r\nL 134.060821 222.22802 \r\nz\r\n\" style=\"fill:#1f77b4;opacity:0.4;\"/>\r\n   </g>\r\n   <g id=\"patch_42\">\r\n    <path clip-path=\"url(#pe270857d0e)\" d=\"M 136.448892 224.64 \r\nL 138.836962 224.64 \r\nL 138.836962 223.950863 \r\nL 136.448892 223.950863 \r\nz\r\n\" style=\"fill:#1f77b4;opacity:0.4;\"/>\r\n   </g>\r\n   <g id=\"patch_43\">\r\n    <path clip-path=\"url(#pe270857d0e)\" d=\"M 138.836962 224.64 \r\nL 141.225032 224.64 \r\nL 141.225032 222.917157 \r\nL 138.836962 222.917157 \r\nz\r\n\" style=\"fill:#1f77b4;opacity:0.4;\"/>\r\n   </g>\r\n   <g id=\"patch_44\">\r\n    <path clip-path=\"url(#pe270857d0e)\" d=\"M 141.225032 224.64 \r\nL 143.613102 224.64 \r\nL 143.613102 223.261726 \r\nL 141.225032 223.261726 \r\nz\r\n\" style=\"fill:#1f77b4;opacity:0.4;\"/>\r\n   </g>\r\n   <g id=\"patch_45\">\r\n    <path clip-path=\"url(#pe270857d0e)\" d=\"M 143.613102 224.64 \r\nL 146.001172 224.64 \r\nL 146.001172 222.22802 \r\nL 143.613102 222.22802 \r\nz\r\n\" style=\"fill:#1f77b4;opacity:0.4;\"/>\r\n   </g>\r\n   <g id=\"patch_46\">\r\n    <path clip-path=\"url(#pe270857d0e)\" d=\"M 146.001172 224.64 \r\nL 148.389242 224.64 \r\nL 148.389242 223.261726 \r\nL 146.001172 223.261726 \r\nz\r\n\" style=\"fill:#1f77b4;opacity:0.4;\"/>\r\n   </g>\r\n   <g id=\"patch_47\">\r\n    <path clip-path=\"url(#pe270857d0e)\" d=\"M 148.389242 224.64 \r\nL 150.777313 224.64 \r\nL 150.777313 221.538883 \r\nL 148.389242 221.538883 \r\nz\r\n\" style=\"fill:#1f77b4;opacity:0.4;\"/>\r\n   </g>\r\n   <g id=\"patch_48\">\r\n    <path clip-path=\"url(#pe270857d0e)\" d=\"M 150.777313 224.64 \r\nL 153.165383 224.64 \r\nL 153.165383 222.917157 \r\nL 150.777313 222.917157 \r\nz\r\n\" style=\"fill:#1f77b4;opacity:0.4;\"/>\r\n   </g>\r\n   <g id=\"patch_49\">\r\n    <path clip-path=\"url(#pe270857d0e)\" d=\"M 153.165383 224.64 \r\nL 155.553453 224.64 \r\nL 155.553453 222.22802 \r\nL 153.165383 222.22802 \r\nz\r\n\" style=\"fill:#1f77b4;opacity:0.4;\"/>\r\n   </g>\r\n   <g id=\"patch_50\">\r\n    <path clip-path=\"url(#pe270857d0e)\" d=\"M 155.553453 224.64 \r\nL 157.941523 224.64 \r\nL 157.941523 223.950863 \r\nL 155.553453 223.950863 \r\nz\r\n\" style=\"fill:#1f77b4;opacity:0.4;\"/>\r\n   </g>\r\n   <g id=\"patch_51\">\r\n    <path clip-path=\"url(#pe270857d0e)\" d=\"M 157.941523 224.64 \r\nL 160.329593 224.64 \r\nL 160.329593 224.295431 \r\nL 157.941523 224.295431 \r\nz\r\n\" style=\"fill:#1f77b4;opacity:0.4;\"/>\r\n   </g>\r\n   <g id=\"patch_52\">\r\n    <path clip-path=\"url(#pe270857d0e)\" d=\"M 160.329593 224.64 \r\nL 162.717663 224.64 \r\nL 162.717663 223.950863 \r\nL 160.329593 223.950863 \r\nz\r\n\" style=\"fill:#1f77b4;opacity:0.4;\"/>\r\n   </g>\r\n   <g id=\"matplotlib.axis_1\">\r\n    <g id=\"xtick_1\">\r\n     <g id=\"line2d_1\">\r\n      <defs>\r\n       <path d=\"M 0 0 \r\nL 0 3.5 \r\n\" id=\"mfeb93781b6\" style=\"stroke:#000000;stroke-width:0.8;\"/>\r\n      </defs>\r\n      <g>\r\n       <use style=\"stroke:#000000;stroke-width:0.8;\" x=\"43.314155\" xlink:href=\"#mfeb93781b6\" y=\"224.64\"/>\r\n      </g>\r\n     </g>\r\n     <g id=\"text_1\">\r\n      <!-- 0.0 -->\r\n      <defs>\r\n       <path d=\"M 31.78125 66.40625 \r\nQ 24.171875 66.40625 20.328125 58.90625 \r\nQ 16.5 51.421875 16.5 36.375 \r\nQ 16.5 21.390625 20.328125 13.890625 \r\nQ 24.171875 6.390625 31.78125 6.390625 \r\nQ 39.453125 6.390625 43.28125 13.890625 \r\nQ 47.125 21.390625 47.125 36.375 \r\nQ 47.125 51.421875 43.28125 58.90625 \r\nQ 39.453125 66.40625 31.78125 66.40625 \r\nz\r\nM 31.78125 74.21875 \r\nQ 44.046875 74.21875 50.515625 64.515625 \r\nQ 56.984375 54.828125 56.984375 36.375 \r\nQ 56.984375 17.96875 50.515625 8.265625 \r\nQ 44.046875 -1.421875 31.78125 -1.421875 \r\nQ 19.53125 -1.421875 13.0625 8.265625 \r\nQ 6.59375 17.96875 6.59375 36.375 \r\nQ 6.59375 54.828125 13.0625 64.515625 \r\nQ 19.53125 74.21875 31.78125 74.21875 \r\nz\r\n\" id=\"DejaVuSans-48\"/>\r\n       <path d=\"M 10.6875 12.40625 \r\nL 21 12.40625 \r\nL 21 0 \r\nL 10.6875 0 \r\nz\r\n\" id=\"DejaVuSans-46\"/>\r\n      </defs>\r\n      <g transform=\"translate(35.362592 239.238438)scale(0.1 -0.1)\">\r\n       <use xlink:href=\"#DejaVuSans-48\"/>\r\n       <use x=\"63.623047\" xlink:href=\"#DejaVuSans-46\"/>\r\n       <use x=\"95.410156\" xlink:href=\"#DejaVuSans-48\"/>\r\n      </g>\r\n     </g>\r\n    </g>\r\n    <g id=\"xtick_2\">\r\n     <g id=\"line2d_2\">\r\n      <g>\r\n       <use style=\"stroke:#000000;stroke-width:0.8;\" x=\"79.674325\" xlink:href=\"#mfeb93781b6\" y=\"224.64\"/>\r\n      </g>\r\n     </g>\r\n     <g id=\"text_2\">\r\n      <!-- 0.1 -->\r\n      <defs>\r\n       <path d=\"M 12.40625 8.296875 \r\nL 28.515625 8.296875 \r\nL 28.515625 63.921875 \r\nL 10.984375 60.40625 \r\nL 10.984375 69.390625 \r\nL 28.421875 72.90625 \r\nL 38.28125 72.90625 \r\nL 38.28125 8.296875 \r\nL 54.390625 8.296875 \r\nL 54.390625 0 \r\nL 12.40625 0 \r\nz\r\n\" id=\"DejaVuSans-49\"/>\r\n      </defs>\r\n      <g transform=\"translate(71.722763 239.238438)scale(0.1 -0.1)\">\r\n       <use xlink:href=\"#DejaVuSans-48\"/>\r\n       <use x=\"63.623047\" xlink:href=\"#DejaVuSans-46\"/>\r\n       <use x=\"95.410156\" xlink:href=\"#DejaVuSans-49\"/>\r\n      </g>\r\n     </g>\r\n    </g>\r\n    <g id=\"xtick_3\">\r\n     <g id=\"line2d_3\">\r\n      <g>\r\n       <use style=\"stroke:#000000;stroke-width:0.8;\" x=\"116.034496\" xlink:href=\"#mfeb93781b6\" y=\"224.64\"/>\r\n      </g>\r\n     </g>\r\n     <g id=\"text_3\">\r\n      <!-- 0.2 -->\r\n      <defs>\r\n       <path d=\"M 19.1875 8.296875 \r\nL 53.609375 8.296875 \r\nL 53.609375 0 \r\nL 7.328125 0 \r\nL 7.328125 8.296875 \r\nQ 12.9375 14.109375 22.625 23.890625 \r\nQ 32.328125 33.6875 34.8125 36.53125 \r\nQ 39.546875 41.84375 41.421875 45.53125 \r\nQ 43.3125 49.21875 43.3125 52.78125 \r\nQ 43.3125 58.59375 39.234375 62.25 \r\nQ 35.15625 65.921875 28.609375 65.921875 \r\nQ 23.96875 65.921875 18.8125 64.3125 \r\nQ 13.671875 62.703125 7.8125 59.421875 \r\nL 7.8125 69.390625 \r\nQ 13.765625 71.78125 18.9375 73 \r\nQ 24.125 74.21875 28.421875 74.21875 \r\nQ 39.75 74.21875 46.484375 68.546875 \r\nQ 53.21875 62.890625 53.21875 53.421875 \r\nQ 53.21875 48.921875 51.53125 44.890625 \r\nQ 49.859375 40.875 45.40625 35.40625 \r\nQ 44.1875 33.984375 37.640625 27.21875 \r\nQ 31.109375 20.453125 19.1875 8.296875 \r\nz\r\n\" id=\"DejaVuSans-50\"/>\r\n      </defs>\r\n      <g transform=\"translate(108.082933 239.238438)scale(0.1 -0.1)\">\r\n       <use xlink:href=\"#DejaVuSans-48\"/>\r\n       <use x=\"63.623047\" xlink:href=\"#DejaVuSans-46\"/>\r\n       <use x=\"95.410156\" xlink:href=\"#DejaVuSans-50\"/>\r\n      </g>\r\n     </g>\r\n    </g>\r\n    <g id=\"xtick_4\">\r\n     <g id=\"line2d_4\">\r\n      <g>\r\n       <use style=\"stroke:#000000;stroke-width:0.8;\" x=\"152.394666\" xlink:href=\"#mfeb93781b6\" y=\"224.64\"/>\r\n      </g>\r\n     </g>\r\n     <g id=\"text_4\">\r\n      <!-- 0.3 -->\r\n      <defs>\r\n       <path d=\"M 40.578125 39.3125 \r\nQ 47.65625 37.796875 51.625 33 \r\nQ 55.609375 28.21875 55.609375 21.1875 \r\nQ 55.609375 10.40625 48.1875 4.484375 \r\nQ 40.765625 -1.421875 27.09375 -1.421875 \r\nQ 22.515625 -1.421875 17.65625 -0.515625 \r\nQ 12.796875 0.390625 7.625 2.203125 \r\nL 7.625 11.71875 \r\nQ 11.71875 9.328125 16.59375 8.109375 \r\nQ 21.484375 6.890625 26.8125 6.890625 \r\nQ 36.078125 6.890625 40.9375 10.546875 \r\nQ 45.796875 14.203125 45.796875 21.1875 \r\nQ 45.796875 27.640625 41.28125 31.265625 \r\nQ 36.765625 34.90625 28.71875 34.90625 \r\nL 20.21875 34.90625 \r\nL 20.21875 43.015625 \r\nL 29.109375 43.015625 \r\nQ 36.375 43.015625 40.234375 45.921875 \r\nQ 44.09375 48.828125 44.09375 54.296875 \r\nQ 44.09375 59.90625 40.109375 62.90625 \r\nQ 36.140625 65.921875 28.71875 65.921875 \r\nQ 24.65625 65.921875 20.015625 65.03125 \r\nQ 15.375 64.15625 9.8125 62.3125 \r\nL 9.8125 71.09375 \r\nQ 15.4375 72.65625 20.34375 73.4375 \r\nQ 25.25 74.21875 29.59375 74.21875 \r\nQ 40.828125 74.21875 47.359375 69.109375 \r\nQ 53.90625 64.015625 53.90625 55.328125 \r\nQ 53.90625 49.265625 50.4375 45.09375 \r\nQ 46.96875 40.921875 40.578125 39.3125 \r\nz\r\n\" id=\"DejaVuSans-51\"/>\r\n      </defs>\r\n      <g transform=\"translate(144.443104 239.238438)scale(0.1 -0.1)\">\r\n       <use xlink:href=\"#DejaVuSans-48\"/>\r\n       <use x=\"63.623047\" xlink:href=\"#DejaVuSans-46\"/>\r\n       <use x=\"95.410156\" xlink:href=\"#DejaVuSans-51\"/>\r\n      </g>\r\n     </g>\r\n    </g>\r\n    <g id=\"text_5\">\r\n     <!-- Item_Visibility -->\r\n     <defs>\r\n      <path d=\"M 9.8125 72.90625 \r\nL 19.671875 72.90625 \r\nL 19.671875 0 \r\nL 9.8125 0 \r\nz\r\n\" id=\"DejaVuSans-73\"/>\r\n      <path d=\"M 18.3125 70.21875 \r\nL 18.3125 54.6875 \r\nL 36.8125 54.6875 \r\nL 36.8125 47.703125 \r\nL 18.3125 47.703125 \r\nL 18.3125 18.015625 \r\nQ 18.3125 11.328125 20.140625 9.421875 \r\nQ 21.96875 7.515625 27.59375 7.515625 \r\nL 36.8125 7.515625 \r\nL 36.8125 0 \r\nL 27.59375 0 \r\nQ 17.1875 0 13.234375 3.875 \r\nQ 9.28125 7.765625 9.28125 18.015625 \r\nL 9.28125 47.703125 \r\nL 2.6875 47.703125 \r\nL 2.6875 54.6875 \r\nL 9.28125 54.6875 \r\nL 9.28125 70.21875 \r\nz\r\n\" id=\"DejaVuSans-116\"/>\r\n      <path d=\"M 56.203125 29.59375 \r\nL 56.203125 25.203125 \r\nL 14.890625 25.203125 \r\nQ 15.484375 15.921875 20.484375 11.0625 \r\nQ 25.484375 6.203125 34.421875 6.203125 \r\nQ 39.59375 6.203125 44.453125 7.46875 \r\nQ 49.3125 8.734375 54.109375 11.28125 \r\nL 54.109375 2.78125 \r\nQ 49.265625 0.734375 44.1875 -0.34375 \r\nQ 39.109375 -1.421875 33.890625 -1.421875 \r\nQ 20.796875 -1.421875 13.15625 6.1875 \r\nQ 5.515625 13.8125 5.515625 26.8125 \r\nQ 5.515625 40.234375 12.765625 48.109375 \r\nQ 20.015625 56 32.328125 56 \r\nQ 43.359375 56 49.78125 48.890625 \r\nQ 56.203125 41.796875 56.203125 29.59375 \r\nz\r\nM 47.21875 32.234375 \r\nQ 47.125 39.59375 43.09375 43.984375 \r\nQ 39.0625 48.390625 32.421875 48.390625 \r\nQ 24.90625 48.390625 20.390625 44.140625 \r\nQ 15.875 39.890625 15.1875 32.171875 \r\nz\r\n\" id=\"DejaVuSans-101\"/>\r\n      <path d=\"M 52 44.1875 \r\nQ 55.375 50.25 60.0625 53.125 \r\nQ 64.75 56 71.09375 56 \r\nQ 79.640625 56 84.28125 50.015625 \r\nQ 88.921875 44.046875 88.921875 33.015625 \r\nL 88.921875 0 \r\nL 79.890625 0 \r\nL 79.890625 32.71875 \r\nQ 79.890625 40.578125 77.09375 44.375 \r\nQ 74.3125 48.1875 68.609375 48.1875 \r\nQ 61.625 48.1875 57.5625 43.546875 \r\nQ 53.515625 38.921875 53.515625 30.90625 \r\nL 53.515625 0 \r\nL 44.484375 0 \r\nL 44.484375 32.71875 \r\nQ 44.484375 40.625 41.703125 44.40625 \r\nQ 38.921875 48.1875 33.109375 48.1875 \r\nQ 26.21875 48.1875 22.15625 43.53125 \r\nQ 18.109375 38.875 18.109375 30.90625 \r\nL 18.109375 0 \r\nL 9.078125 0 \r\nL 9.078125 54.6875 \r\nL 18.109375 54.6875 \r\nL 18.109375 46.1875 \r\nQ 21.1875 51.21875 25.484375 53.609375 \r\nQ 29.78125 56 35.6875 56 \r\nQ 41.65625 56 45.828125 52.96875 \r\nQ 50 49.953125 52 44.1875 \r\nz\r\n\" id=\"DejaVuSans-109\"/>\r\n      <path d=\"M 50.984375 -16.609375 \r\nL 50.984375 -23.578125 \r\nL -0.984375 -23.578125 \r\nL -0.984375 -16.609375 \r\nz\r\n\" id=\"DejaVuSans-95\"/>\r\n      <path d=\"M 28.609375 0 \r\nL 0.78125 72.90625 \r\nL 11.078125 72.90625 \r\nL 34.1875 11.53125 \r\nL 57.328125 72.90625 \r\nL 67.578125 72.90625 \r\nL 39.796875 0 \r\nz\r\n\" id=\"DejaVuSans-86\"/>\r\n      <path d=\"M 9.421875 54.6875 \r\nL 18.40625 54.6875 \r\nL 18.40625 0 \r\nL 9.421875 0 \r\nz\r\nM 9.421875 75.984375 \r\nL 18.40625 75.984375 \r\nL 18.40625 64.59375 \r\nL 9.421875 64.59375 \r\nz\r\n\" id=\"DejaVuSans-105\"/>\r\n      <path d=\"M 44.28125 53.078125 \r\nL 44.28125 44.578125 \r\nQ 40.484375 46.53125 36.375 47.5 \r\nQ 32.28125 48.484375 27.875 48.484375 \r\nQ 21.1875 48.484375 17.84375 46.4375 \r\nQ 14.5 44.390625 14.5 40.28125 \r\nQ 14.5 37.15625 16.890625 35.375 \r\nQ 19.28125 33.59375 26.515625 31.984375 \r\nL 29.59375 31.296875 \r\nQ 39.15625 29.25 43.1875 25.515625 \r\nQ 47.21875 21.78125 47.21875 15.09375 \r\nQ 47.21875 7.46875 41.1875 3.015625 \r\nQ 35.15625 -1.421875 24.609375 -1.421875 \r\nQ 20.21875 -1.421875 15.453125 -0.5625 \r\nQ 10.6875 0.296875 5.421875 2 \r\nL 5.421875 11.28125 \r\nQ 10.40625 8.6875 15.234375 7.390625 \r\nQ 20.0625 6.109375 24.8125 6.109375 \r\nQ 31.15625 6.109375 34.5625 8.28125 \r\nQ 37.984375 10.453125 37.984375 14.40625 \r\nQ 37.984375 18.0625 35.515625 20.015625 \r\nQ 33.0625 21.96875 24.703125 23.78125 \r\nL 21.578125 24.515625 \r\nQ 13.234375 26.265625 9.515625 29.90625 \r\nQ 5.8125 33.546875 5.8125 39.890625 \r\nQ 5.8125 47.609375 11.28125 51.796875 \r\nQ 16.75 56 26.8125 56 \r\nQ 31.78125 56 36.171875 55.265625 \r\nQ 40.578125 54.546875 44.28125 53.078125 \r\nz\r\n\" id=\"DejaVuSans-115\"/>\r\n      <path d=\"M 48.6875 27.296875 \r\nQ 48.6875 37.203125 44.609375 42.84375 \r\nQ 40.53125 48.484375 33.40625 48.484375 \r\nQ 26.265625 48.484375 22.1875 42.84375 \r\nQ 18.109375 37.203125 18.109375 27.296875 \r\nQ 18.109375 17.390625 22.1875 11.75 \r\nQ 26.265625 6.109375 33.40625 6.109375 \r\nQ 40.53125 6.109375 44.609375 11.75 \r\nQ 48.6875 17.390625 48.6875 27.296875 \r\nz\r\nM 18.109375 46.390625 \r\nQ 20.953125 51.265625 25.265625 53.625 \r\nQ 29.59375 56 35.59375 56 \r\nQ 45.5625 56 51.78125 48.09375 \r\nQ 58.015625 40.1875 58.015625 27.296875 \r\nQ 58.015625 14.40625 51.78125 6.484375 \r\nQ 45.5625 -1.421875 35.59375 -1.421875 \r\nQ 29.59375 -1.421875 25.265625 0.953125 \r\nQ 20.953125 3.328125 18.109375 8.203125 \r\nL 18.109375 0 \r\nL 9.078125 0 \r\nL 9.078125 75.984375 \r\nL 18.109375 75.984375 \r\nz\r\n\" id=\"DejaVuSans-98\"/>\r\n      <path d=\"M 9.421875 75.984375 \r\nL 18.40625 75.984375 \r\nL 18.40625 0 \r\nL 9.421875 0 \r\nz\r\n\" id=\"DejaVuSans-108\"/>\r\n      <path d=\"M 32.171875 -5.078125 \r\nQ 28.375 -14.84375 24.75 -17.8125 \r\nQ 21.140625 -20.796875 15.09375 -20.796875 \r\nL 7.90625 -20.796875 \r\nL 7.90625 -13.28125 \r\nL 13.1875 -13.28125 \r\nQ 16.890625 -13.28125 18.9375 -11.515625 \r\nQ 21 -9.765625 23.484375 -3.21875 \r\nL 25.09375 0.875 \r\nL 2.984375 54.6875 \r\nL 12.5 54.6875 \r\nL 29.59375 11.921875 \r\nL 46.6875 54.6875 \r\nL 56.203125 54.6875 \r\nz\r\n\" id=\"DejaVuSans-121\"/>\r\n     </defs>\r\n     <g transform=\"translate(68.071378 252.916562)scale(0.1 -0.1)\">\r\n      <use xlink:href=\"#DejaVuSans-73\"/>\r\n      <use x=\"29.492188\" xlink:href=\"#DejaVuSans-116\"/>\r\n      <use x=\"68.701172\" xlink:href=\"#DejaVuSans-101\"/>\r\n      <use x=\"130.224609\" xlink:href=\"#DejaVuSans-109\"/>\r\n      <use x=\"227.636719\" xlink:href=\"#DejaVuSans-95\"/>\r\n      <use x=\"277.636719\" xlink:href=\"#DejaVuSans-86\"/>\r\n      <use x=\"346.013672\" xlink:href=\"#DejaVuSans-105\"/>\r\n      <use x=\"373.796875\" xlink:href=\"#DejaVuSans-115\"/>\r\n      <use x=\"425.896484\" xlink:href=\"#DejaVuSans-105\"/>\r\n      <use x=\"453.679688\" xlink:href=\"#DejaVuSans-98\"/>\r\n      <use x=\"517.15625\" xlink:href=\"#DejaVuSans-105\"/>\r\n      <use x=\"544.939453\" xlink:href=\"#DejaVuSans-108\"/>\r\n      <use x=\"572.722656\" xlink:href=\"#DejaVuSans-105\"/>\r\n      <use x=\"600.505859\" xlink:href=\"#DejaVuSans-116\"/>\r\n      <use x=\"639.714844\" xlink:href=\"#DejaVuSans-121\"/>\r\n     </g>\r\n    </g>\r\n   </g>\r\n   <g id=\"matplotlib.axis_2\">\r\n    <g id=\"ytick_1\">\r\n     <g id=\"line2d_5\">\r\n      <defs>\r\n       <path d=\"M 0 0 \r\nL -3.5 0 \r\n\" id=\"mfcf2e63ce2\" style=\"stroke:#000000;stroke-width:0.8;\"/>\r\n      </defs>\r\n      <g>\r\n       <use style=\"stroke:#000000;stroke-width:0.8;\" x=\"26.925\" xlink:href=\"#mfcf2e63ce2\" y=\"224.64\"/>\r\n      </g>\r\n     </g>\r\n     <g id=\"text_6\">\r\n      <!-- 0 -->\r\n      <g transform=\"translate(13.5625 228.439219)scale(0.1 -0.1)\">\r\n       <use xlink:href=\"#DejaVuSans-48\"/>\r\n      </g>\r\n     </g>\r\n    </g>\r\n    <g id=\"ytick_2\">\r\n     <g id=\"line2d_6\">\r\n      <g>\r\n       <use style=\"stroke:#000000;stroke-width:0.8;\" x=\"26.925\" xlink:href=\"#mfcf2e63ce2\" y=\"186.063811\"/>\r\n      </g>\r\n     </g>\r\n     <g id=\"text_7\">\r\n      <!-- 2 -->\r\n      <g transform=\"translate(13.5625 189.863029)scale(0.1 -0.1)\">\r\n       <use xlink:href=\"#DejaVuSans-50\"/>\r\n      </g>\r\n     </g>\r\n    </g>\r\n    <g id=\"ytick_3\">\r\n     <g id=\"line2d_7\">\r\n      <g>\r\n       <use style=\"stroke:#000000;stroke-width:0.8;\" x=\"26.925\" xlink:href=\"#mfcf2e63ce2\" y=\"147.487621\"/>\r\n      </g>\r\n     </g>\r\n     <g id=\"text_8\">\r\n      <!-- 4 -->\r\n      <defs>\r\n       <path d=\"M 37.796875 64.3125 \r\nL 12.890625 25.390625 \r\nL 37.796875 25.390625 \r\nz\r\nM 35.203125 72.90625 \r\nL 47.609375 72.90625 \r\nL 47.609375 25.390625 \r\nL 58.015625 25.390625 \r\nL 58.015625 17.1875 \r\nL 47.609375 17.1875 \r\nL 47.609375 0 \r\nL 37.796875 0 \r\nL 37.796875 17.1875 \r\nL 4.890625 17.1875 \r\nL 4.890625 26.703125 \r\nz\r\n\" id=\"DejaVuSans-52\"/>\r\n      </defs>\r\n      <g transform=\"translate(13.5625 151.28684)scale(0.1 -0.1)\">\r\n       <use xlink:href=\"#DejaVuSans-52\"/>\r\n      </g>\r\n     </g>\r\n    </g>\r\n    <g id=\"ytick_4\">\r\n     <g id=\"line2d_8\">\r\n      <g>\r\n       <use style=\"stroke:#000000;stroke-width:0.8;\" x=\"26.925\" xlink:href=\"#mfcf2e63ce2\" y=\"108.911432\"/>\r\n      </g>\r\n     </g>\r\n     <g id=\"text_9\">\r\n      <!-- 6 -->\r\n      <defs>\r\n       <path d=\"M 33.015625 40.375 \r\nQ 26.375 40.375 22.484375 35.828125 \r\nQ 18.609375 31.296875 18.609375 23.390625 \r\nQ 18.609375 15.53125 22.484375 10.953125 \r\nQ 26.375 6.390625 33.015625 6.390625 \r\nQ 39.65625 6.390625 43.53125 10.953125 \r\nQ 47.40625 15.53125 47.40625 23.390625 \r\nQ 47.40625 31.296875 43.53125 35.828125 \r\nQ 39.65625 40.375 33.015625 40.375 \r\nz\r\nM 52.59375 71.296875 \r\nL 52.59375 62.3125 \r\nQ 48.875 64.0625 45.09375 64.984375 \r\nQ 41.3125 65.921875 37.59375 65.921875 \r\nQ 27.828125 65.921875 22.671875 59.328125 \r\nQ 17.53125 52.734375 16.796875 39.40625 \r\nQ 19.671875 43.65625 24.015625 45.921875 \r\nQ 28.375 48.1875 33.59375 48.1875 \r\nQ 44.578125 48.1875 50.953125 41.515625 \r\nQ 57.328125 34.859375 57.328125 23.390625 \r\nQ 57.328125 12.15625 50.6875 5.359375 \r\nQ 44.046875 -1.421875 33.015625 -1.421875 \r\nQ 20.359375 -1.421875 13.671875 8.265625 \r\nQ 6.984375 17.96875 6.984375 36.375 \r\nQ 6.984375 53.65625 15.1875 63.9375 \r\nQ 23.390625 74.21875 37.203125 74.21875 \r\nQ 40.921875 74.21875 44.703125 73.484375 \r\nQ 48.484375 72.75 52.59375 71.296875 \r\nz\r\n\" id=\"DejaVuSans-54\"/>\r\n      </defs>\r\n      <g transform=\"translate(13.5625 112.710651)scale(0.1 -0.1)\">\r\n       <use xlink:href=\"#DejaVuSans-54\"/>\r\n      </g>\r\n     </g>\r\n    </g>\r\n    <g id=\"ytick_5\">\r\n     <g id=\"line2d_9\">\r\n      <g>\r\n       <use style=\"stroke:#000000;stroke-width:0.8;\" x=\"26.925\" xlink:href=\"#mfcf2e63ce2\" y=\"70.335242\"/>\r\n      </g>\r\n     </g>\r\n     <g id=\"text_10\">\r\n      <!-- 8 -->\r\n      <defs>\r\n       <path d=\"M 31.78125 34.625 \r\nQ 24.75 34.625 20.71875 30.859375 \r\nQ 16.703125 27.09375 16.703125 20.515625 \r\nQ 16.703125 13.921875 20.71875 10.15625 \r\nQ 24.75 6.390625 31.78125 6.390625 \r\nQ 38.8125 6.390625 42.859375 10.171875 \r\nQ 46.921875 13.96875 46.921875 20.515625 \r\nQ 46.921875 27.09375 42.890625 30.859375 \r\nQ 38.875 34.625 31.78125 34.625 \r\nz\r\nM 21.921875 38.8125 \r\nQ 15.578125 40.375 12.03125 44.71875 \r\nQ 8.5 49.078125 8.5 55.328125 \r\nQ 8.5 64.0625 14.71875 69.140625 \r\nQ 20.953125 74.21875 31.78125 74.21875 \r\nQ 42.671875 74.21875 48.875 69.140625 \r\nQ 55.078125 64.0625 55.078125 55.328125 \r\nQ 55.078125 49.078125 51.53125 44.71875 \r\nQ 48 40.375 41.703125 38.8125 \r\nQ 48.828125 37.15625 52.796875 32.3125 \r\nQ 56.78125 27.484375 56.78125 20.515625 \r\nQ 56.78125 9.90625 50.3125 4.234375 \r\nQ 43.84375 -1.421875 31.78125 -1.421875 \r\nQ 19.734375 -1.421875 13.25 4.234375 \r\nQ 6.78125 9.90625 6.78125 20.515625 \r\nQ 6.78125 27.484375 10.78125 32.3125 \r\nQ 14.796875 37.15625 21.921875 38.8125 \r\nz\r\nM 18.3125 54.390625 \r\nQ 18.3125 48.734375 21.84375 45.5625 \r\nQ 25.390625 42.390625 31.78125 42.390625 \r\nQ 38.140625 42.390625 41.71875 45.5625 \r\nQ 45.3125 48.734375 45.3125 54.390625 \r\nQ 45.3125 60.0625 41.71875 63.234375 \r\nQ 38.140625 66.40625 31.78125 66.40625 \r\nQ 25.390625 66.40625 21.84375 63.234375 \r\nQ 18.3125 60.0625 18.3125 54.390625 \r\nz\r\n\" id=\"DejaVuSans-56\"/>\r\n      </defs>\r\n      <g transform=\"translate(13.5625 74.134461)scale(0.1 -0.1)\">\r\n       <use xlink:href=\"#DejaVuSans-56\"/>\r\n      </g>\r\n     </g>\r\n    </g>\r\n    <g id=\"ytick_6\">\r\n     <g id=\"line2d_10\">\r\n      <g>\r\n       <use style=\"stroke:#000000;stroke-width:0.8;\" x=\"26.925\" xlink:href=\"#mfcf2e63ce2\" y=\"31.759053\"/>\r\n      </g>\r\n     </g>\r\n     <g id=\"text_11\">\r\n      <!-- 10 -->\r\n      <g transform=\"translate(7.2 35.558272)scale(0.1 -0.1)\">\r\n       <use xlink:href=\"#DejaVuSans-49\"/>\r\n       <use x=\"63.623047\" xlink:href=\"#DejaVuSans-48\"/>\r\n      </g>\r\n     </g>\r\n    </g>\r\n   </g>\r\n   <g id=\"line2d_11\">\r\n    <path clip-path=\"url(#pe270857d0e)\" d=\"M 33.842355 223.954014 \r\nL 34.931703 222.848156 \r\nL 36.02105 220.451843 \r\nL 37.110397 215.8719 \r\nL 38.199745 208.159749 \r\nL 39.289092 196.728803 \r\nL 40.378439 181.812049 \r\nL 43.646481 130.310943 \r\nL 45.825176 101.730703 \r\nL 49.093218 62.936101 \r\nL 50.182565 51.347863 \r\nL 51.271912 41.709551 \r\nL 52.36126 34.651173 \r\nL 53.450607 30.468307 \r\nL 54.539954 29.176058 \r\nL 55.629301 30.603166 \r\nL 56.718649 34.451017 \r\nL 57.807996 40.303758 \r\nL 58.897343 47.619311 \r\nL 62.165385 71.83234 \r\nL 63.254733 78.784784 \r\nL 64.34408 84.663937 \r\nL 65.433427 89.429293 \r\nL 66.522774 93.186518 \r\nL 69.790816 101.967836 \r\nL 70.880164 105.786056 \r\nL 71.969511 110.601224 \r\nL 76.3269 132.682509 \r\nL 78.505595 141.058396 \r\nL 80.684289 148.360731 \r\nL 81.773637 151.603206 \r\nL 82.862984 154.361428 \r\nL 83.952331 156.545583 \r\nL 85.041679 158.237289 \r\nL 87.220373 161.212106 \r\nL 88.309721 163.081987 \r\nL 89.399068 165.398907 \r\nL 91.577762 170.988011 \r\nL 94.845804 179.622391 \r\nL 97.024499 184.699956 \r\nL 98.113846 186.733855 \r\nL 99.203194 188.337445 \r\nL 100.292541 189.587784 \r\nL 102.471235 191.771211 \r\nL 103.560583 193.067895 \r\nL 104.64993 194.655535 \r\nL 105.739277 196.588583 \r\nL 106.828625 198.880251 \r\nL 109.007319 204.324227 \r\nL 111.186014 210.080198 \r\nL 112.275361 212.697834 \r\nL 113.364708 214.961701 \r\nL 114.454056 216.777249 \r\nL 115.543403 218.106479 \r\nL 116.63275 218.982234 \r\nL 117.722098 219.502593 \r\nL 119.900792 220.011829 \r\nL 123.168834 220.71785 \r\nL 125.347529 221.158683 \r\nL 128.615571 221.506331 \r\nL 131.883613 221.864208 \r\nL 135.151655 222.483201 \r\nL 137.330349 222.896664 \r\nL 139.509044 223.095735 \r\nL 141.687738 223.031562 \r\nL 149.313169 222.418489 \r\nL 151.491864 222.512787 \r\nL 153.670559 222.858512 \r\nL 159.117295 224.005616 \r\nL 162.385337 224.294568 \r\nL 168.921421 224.60913 \r\nL 171.100116 224.563589 \r\nL 172.189463 224.403963 \r\nL 172.189463 224.403963 \r\n\" style=\"fill:none;stroke:#1f77b4;stroke-linecap:square;stroke-width:1.5;\"/>\r\n   </g>\r\n   <g id=\"patch_53\">\r\n    <path d=\"M 26.925 224.64 \r\nL 26.925 7.2 \r\n\" style=\"fill:none;stroke:#000000;stroke-linecap:square;stroke-linejoin:miter;stroke-width:0.8;\"/>\r\n   </g>\r\n   <g id=\"patch_54\">\r\n    <path d=\"M 179.106818 224.64 \r\nL 179.106818 7.2 \r\n\" style=\"fill:none;stroke:#000000;stroke-linecap:square;stroke-linejoin:miter;stroke-width:0.8;\"/>\r\n   </g>\r\n   <g id=\"patch_55\">\r\n    <path d=\"M 26.925 224.64 \r\nL 179.106818 224.64 \r\n\" style=\"fill:none;stroke:#000000;stroke-linecap:square;stroke-linejoin:miter;stroke-width:0.8;\"/>\r\n   </g>\r\n   <g id=\"patch_56\">\r\n    <path d=\"M 26.925 7.2 \r\nL 179.106818 7.2 \r\n\" style=\"fill:none;stroke:#000000;stroke-linecap:square;stroke-linejoin:miter;stroke-width:0.8;\"/>\r\n   </g>\r\n  </g>\r\n  <g id=\"axes_2\">\r\n   <g id=\"patch_57\">\r\n    <path d=\"M 209.543182 224.64 \r\nL 361.725 224.64 \r\nL 361.725 7.2 \r\nL 209.543182 7.2 \r\nz\r\n\" style=\"fill:#ffffff;\"/>\r\n   </g>\r\n   <g id=\"matplotlib.axis_3\">\r\n    <g id=\"xtick_5\">\r\n     <g id=\"line2d_12\">\r\n      <g>\r\n       <use style=\"stroke:#000000;stroke-width:0.8;\" x=\"285.634091\" xlink:href=\"#mfeb93781b6\" y=\"224.64\"/>\r\n      </g>\r\n     </g>\r\n     <g id=\"text_12\">\r\n      <!-- Item_Visibility -->\r\n      <g transform=\"translate(250.68956 239.238438)scale(0.1 -0.1)\">\r\n       <use xlink:href=\"#DejaVuSans-73\"/>\r\n       <use x=\"29.492188\" xlink:href=\"#DejaVuSans-116\"/>\r\n       <use x=\"68.701172\" xlink:href=\"#DejaVuSans-101\"/>\r\n       <use x=\"130.224609\" xlink:href=\"#DejaVuSans-109\"/>\r\n       <use x=\"227.636719\" xlink:href=\"#DejaVuSans-95\"/>\r\n       <use x=\"277.636719\" xlink:href=\"#DejaVuSans-86\"/>\r\n       <use x=\"346.013672\" xlink:href=\"#DejaVuSans-105\"/>\r\n       <use x=\"373.796875\" xlink:href=\"#DejaVuSans-115\"/>\r\n       <use x=\"425.896484\" xlink:href=\"#DejaVuSans-105\"/>\r\n       <use x=\"453.679688\" xlink:href=\"#DejaVuSans-98\"/>\r\n       <use x=\"517.15625\" xlink:href=\"#DejaVuSans-105\"/>\r\n       <use x=\"544.939453\" xlink:href=\"#DejaVuSans-108\"/>\r\n       <use x=\"572.722656\" xlink:href=\"#DejaVuSans-105\"/>\r\n       <use x=\"600.505859\" xlink:href=\"#DejaVuSans-116\"/>\r\n       <use x=\"639.714844\" xlink:href=\"#DejaVuSans-121\"/>\r\n      </g>\r\n     </g>\r\n    </g>\r\n   </g>\r\n   <g id=\"matplotlib.axis_4\">\r\n    <g id=\"ytick_7\">\r\n     <g id=\"line2d_13\">\r\n      <g>\r\n       <use style=\"stroke:#000000;stroke-width:0.8;\" x=\"209.543182\" xlink:href=\"#mfcf2e63ce2\" y=\"214.756364\"/>\r\n      </g>\r\n     </g>\r\n     <g id=\"text_13\">\r\n      <!-- 0.00 -->\r\n      <g transform=\"translate(180.277557 218.555582)scale(0.1 -0.1)\">\r\n       <use xlink:href=\"#DejaVuSans-48\"/>\r\n       <use x=\"63.623047\" xlink:href=\"#DejaVuSans-46\"/>\r\n       <use x=\"95.410156\" xlink:href=\"#DejaVuSans-48\"/>\r\n       <use x=\"159.033203\" xlink:href=\"#DejaVuSans-48\"/>\r\n      </g>\r\n     </g>\r\n    </g>\r\n    <g id=\"ytick_8\">\r\n     <g id=\"line2d_14\">\r\n      <g>\r\n       <use style=\"stroke:#000000;stroke-width:0.8;\" x=\"209.543182\" xlink:href=\"#mfcf2e63ce2\" y=\"184.659199\"/>\r\n      </g>\r\n     </g>\r\n     <g id=\"text_14\">\r\n      <!-- 0.05 -->\r\n      <defs>\r\n       <path d=\"M 10.796875 72.90625 \r\nL 49.515625 72.90625 \r\nL 49.515625 64.59375 \r\nL 19.828125 64.59375 \r\nL 19.828125 46.734375 \r\nQ 21.96875 47.46875 24.109375 47.828125 \r\nQ 26.265625 48.1875 28.421875 48.1875 \r\nQ 40.625 48.1875 47.75 41.5 \r\nQ 54.890625 34.8125 54.890625 23.390625 \r\nQ 54.890625 11.625 47.5625 5.09375 \r\nQ 40.234375 -1.421875 26.90625 -1.421875 \r\nQ 22.3125 -1.421875 17.546875 -0.640625 \r\nQ 12.796875 0.140625 7.71875 1.703125 \r\nL 7.71875 11.625 \r\nQ 12.109375 9.234375 16.796875 8.0625 \r\nQ 21.484375 6.890625 26.703125 6.890625 \r\nQ 35.15625 6.890625 40.078125 11.328125 \r\nQ 45.015625 15.765625 45.015625 23.390625 \r\nQ 45.015625 31 40.078125 35.4375 \r\nQ 35.15625 39.890625 26.703125 39.890625 \r\nQ 22.75 39.890625 18.8125 39.015625 \r\nQ 14.890625 38.140625 10.796875 36.28125 \r\nz\r\n\" id=\"DejaVuSans-53\"/>\r\n      </defs>\r\n      <g transform=\"translate(180.277557 188.458418)scale(0.1 -0.1)\">\r\n       <use xlink:href=\"#DejaVuSans-48\"/>\r\n       <use x=\"63.623047\" xlink:href=\"#DejaVuSans-46\"/>\r\n       <use x=\"95.410156\" xlink:href=\"#DejaVuSans-48\"/>\r\n       <use x=\"159.033203\" xlink:href=\"#DejaVuSans-53\"/>\r\n      </g>\r\n     </g>\r\n    </g>\r\n    <g id=\"ytick_9\">\r\n     <g id=\"line2d_15\">\r\n      <g>\r\n       <use style=\"stroke:#000000;stroke-width:0.8;\" x=\"209.543182\" xlink:href=\"#mfcf2e63ce2\" y=\"154.562035\"/>\r\n      </g>\r\n     </g>\r\n     <g id=\"text_15\">\r\n      <!-- 0.10 -->\r\n      <g transform=\"translate(180.277557 158.361253)scale(0.1 -0.1)\">\r\n       <use xlink:href=\"#DejaVuSans-48\"/>\r\n       <use x=\"63.623047\" xlink:href=\"#DejaVuSans-46\"/>\r\n       <use x=\"95.410156\" xlink:href=\"#DejaVuSans-49\"/>\r\n       <use x=\"159.033203\" xlink:href=\"#DejaVuSans-48\"/>\r\n      </g>\r\n     </g>\r\n    </g>\r\n    <g id=\"ytick_10\">\r\n     <g id=\"line2d_16\">\r\n      <g>\r\n       <use style=\"stroke:#000000;stroke-width:0.8;\" x=\"209.543182\" xlink:href=\"#mfcf2e63ce2\" y=\"124.46487\"/>\r\n      </g>\r\n     </g>\r\n     <g id=\"text_16\">\r\n      <!-- 0.15 -->\r\n      <g transform=\"translate(180.277557 128.264089)scale(0.1 -0.1)\">\r\n       <use xlink:href=\"#DejaVuSans-48\"/>\r\n       <use x=\"63.623047\" xlink:href=\"#DejaVuSans-46\"/>\r\n       <use x=\"95.410156\" xlink:href=\"#DejaVuSans-49\"/>\r\n       <use x=\"159.033203\" xlink:href=\"#DejaVuSans-53\"/>\r\n      </g>\r\n     </g>\r\n    </g>\r\n    <g id=\"ytick_11\">\r\n     <g id=\"line2d_17\">\r\n      <g>\r\n       <use style=\"stroke:#000000;stroke-width:0.8;\" x=\"209.543182\" xlink:href=\"#mfcf2e63ce2\" y=\"94.367706\"/>\r\n      </g>\r\n     </g>\r\n     <g id=\"text_17\">\r\n      <!-- 0.20 -->\r\n      <g transform=\"translate(180.277557 98.166925)scale(0.1 -0.1)\">\r\n       <use xlink:href=\"#DejaVuSans-48\"/>\r\n       <use x=\"63.623047\" xlink:href=\"#DejaVuSans-46\"/>\r\n       <use x=\"95.410156\" xlink:href=\"#DejaVuSans-50\"/>\r\n       <use x=\"159.033203\" xlink:href=\"#DejaVuSans-48\"/>\r\n      </g>\r\n     </g>\r\n    </g>\r\n    <g id=\"ytick_12\">\r\n     <g id=\"line2d_18\">\r\n      <g>\r\n       <use style=\"stroke:#000000;stroke-width:0.8;\" x=\"209.543182\" xlink:href=\"#mfcf2e63ce2\" y=\"64.270541\"/>\r\n      </g>\r\n     </g>\r\n     <g id=\"text_18\">\r\n      <!-- 0.25 -->\r\n      <g transform=\"translate(180.277557 68.06976)scale(0.1 -0.1)\">\r\n       <use xlink:href=\"#DejaVuSans-48\"/>\r\n       <use x=\"63.623047\" xlink:href=\"#DejaVuSans-46\"/>\r\n       <use x=\"95.410156\" xlink:href=\"#DejaVuSans-50\"/>\r\n       <use x=\"159.033203\" xlink:href=\"#DejaVuSans-53\"/>\r\n      </g>\r\n     </g>\r\n    </g>\r\n    <g id=\"ytick_13\">\r\n     <g id=\"line2d_19\">\r\n      <g>\r\n       <use style=\"stroke:#000000;stroke-width:0.8;\" x=\"209.543182\" xlink:href=\"#mfcf2e63ce2\" y=\"34.173377\"/>\r\n      </g>\r\n     </g>\r\n     <g id=\"text_19\">\r\n      <!-- 0.30 -->\r\n      <g transform=\"translate(180.277557 37.972596)scale(0.1 -0.1)\">\r\n       <use xlink:href=\"#DejaVuSans-48\"/>\r\n       <use x=\"63.623047\" xlink:href=\"#DejaVuSans-46\"/>\r\n       <use x=\"95.410156\" xlink:href=\"#DejaVuSans-51\"/>\r\n       <use x=\"159.033203\" xlink:href=\"#DejaVuSans-48\"/>\r\n      </g>\r\n     </g>\r\n    </g>\r\n   </g>\r\n   <g id=\"line2d_20\">\r\n    <path clip-path=\"url(#p31dfea51eb)\" d=\"M 274.220455 198.510229 \r\nL 297.047727 198.510229 \r\nL 297.047727 157.821382 \r\nL 274.220455 157.821382 \r\nL 274.220455 198.510229 \r\n\" style=\"fill:none;stroke:#1f77b4;stroke-linecap:square;\"/>\r\n   </g>\r\n   <g id=\"line2d_21\">\r\n    <path clip-path=\"url(#p31dfea51eb)\" d=\"M 285.634091 198.510229 \r\nL 285.634091 214.756364 \r\n\" style=\"fill:none;stroke:#1f77b4;stroke-linecap:square;\"/>\r\n   </g>\r\n   <g id=\"line2d_22\">\r\n    <path clip-path=\"url(#p31dfea51eb)\" d=\"M 285.634091 157.821382 \r\nL 285.634091 96.943346 \r\n\" style=\"fill:none;stroke:#1f77b4;stroke-linecap:square;\"/>\r\n   </g>\r\n   <g id=\"line2d_23\">\r\n    <path clip-path=\"url(#p31dfea51eb)\" d=\"M 279.927273 214.756364 \r\nL 291.340909 214.756364 \r\n\" style=\"fill:none;stroke:#000000;stroke-linecap:square;\"/>\r\n   </g>\r\n   <g id=\"line2d_24\">\r\n    <path clip-path=\"url(#p31dfea51eb)\" d=\"M 279.927273 96.943346 \r\nL 291.340909 96.943346 \r\n\" style=\"fill:none;stroke:#000000;stroke-linecap:square;\"/>\r\n   </g>\r\n   <g id=\"line2d_25\">\r\n    <defs>\r\n     <path d=\"M 0 3 \r\nC 0.795609 3 1.55874 2.683901 2.12132 2.12132 \r\nC 2.683901 1.55874 3 0.795609 3 0 \r\nC 3 -0.795609 2.683901 -1.55874 2.12132 -2.12132 \r\nC 1.55874 -2.683901 0.795609 -3 0 -3 \r\nC -0.795609 -3 -1.55874 -2.683901 -2.12132 -2.12132 \r\nC -2.683901 -1.55874 -3 -0.795609 -3 0 \r\nC -3 0.795609 -2.683901 1.55874 -2.12132 2.12132 \r\nC -1.55874 2.683901 -0.795609 3 0 3 \r\nz\r\n\" id=\"mdf3b58baa2\" style=\"stroke:#000000;\"/>\r\n    </defs>\r\n    <g clip-path=\"url(#p31dfea51eb)\">\r\n     <use style=\"fill-opacity:0;stroke:#000000;\" x=\"285.634091\" xlink:href=\"#mdf3b58baa2\" y=\"61.02312\"/>\r\n     <use style=\"fill-opacity:0;stroke:#000000;\" x=\"285.634091\" xlink:href=\"#mdf3b58baa2\" y=\"38.135513\"/>\r\n     <use style=\"fill-opacity:0;stroke:#000000;\" x=\"285.634091\" xlink:href=\"#mdf3b58baa2\" y=\"46.829791\"/>\r\n     <use style=\"fill-opacity:0;stroke:#000000;\" x=\"285.634091\" xlink:href=\"#mdf3b58baa2\" y=\"39.069944\"/>\r\n     <use style=\"fill-opacity:0;stroke:#000000;\" x=\"285.634091\" xlink:href=\"#mdf3b58baa2\" y=\"91.538572\"/>\r\n     <use style=\"fill-opacity:0;stroke:#000000;\" x=\"285.634091\" xlink:href=\"#mdf3b58baa2\" y=\"55.768292\"/>\r\n     <use style=\"fill-opacity:0;stroke:#000000;\" x=\"285.634091\" xlink:href=\"#mdf3b58baa2\" y=\"76.915483\"/>\r\n     <use style=\"fill-opacity:0;stroke:#000000;\" x=\"285.634091\" xlink:href=\"#mdf3b58baa2\" y=\"35.447262\"/>\r\n     <use style=\"fill-opacity:0;stroke:#000000;\" x=\"285.634091\" xlink:href=\"#mdf3b58baa2\" y=\"74.47961\"/>\r\n     <use style=\"fill-opacity:0;stroke:#000000;\" x=\"285.634091\" xlink:href=\"#mdf3b58baa2\" y=\"88.122059\"/>\r\n     <use style=\"fill-opacity:0;stroke:#000000;\" x=\"285.634091\" xlink:href=\"#mdf3b58baa2\" y=\"82.193037\"/>\r\n     <use style=\"fill-opacity:0;stroke:#000000;\" x=\"285.634091\" xlink:href=\"#mdf3b58baa2\" y=\"17.083636\"/>\r\n     <use style=\"fill-opacity:0;stroke:#000000;\" x=\"285.634091\" xlink:href=\"#mdf3b58baa2\" y=\"91.18052\"/>\r\n     <use style=\"fill-opacity:0;stroke:#000000;\" x=\"285.634091\" xlink:href=\"#mdf3b58baa2\" y=\"65.883124\"/>\r\n     <use style=\"fill-opacity:0;stroke:#000000;\" x=\"285.634091\" xlink:href=\"#mdf3b58baa2\" y=\"85.856357\"/>\r\n     <use style=\"fill-opacity:0;stroke:#000000;\" x=\"285.634091\" xlink:href=\"#mdf3b58baa2\" y=\"78.00112\"/>\r\n     <use style=\"fill-opacity:0;stroke:#000000;\" x=\"285.634091\" xlink:href=\"#mdf3b58baa2\" y=\"80.258\"/>\r\n     <use style=\"fill-opacity:0;stroke:#000000;\" x=\"285.634091\" xlink:href=\"#mdf3b58baa2\" y=\"53.825268\"/>\r\n     <use style=\"fill-opacity:0;stroke:#000000;\" x=\"285.634091\" xlink:href=\"#mdf3b58baa2\" y=\"60.432918\"/>\r\n     <use style=\"fill-opacity:0;stroke:#000000;\" x=\"285.634091\" xlink:href=\"#mdf3b58baa2\" y=\"67.820613\"/>\r\n     <use style=\"fill-opacity:0;stroke:#000000;\" x=\"285.634091\" xlink:href=\"#mdf3b58baa2\" y=\"61.051175\"/>\r\n     <use style=\"fill-opacity:0;stroke:#000000;\" x=\"285.634091\" xlink:href=\"#mdf3b58baa2\" y=\"79.417055\"/>\r\n     <use style=\"fill-opacity:0;stroke:#000000;\" x=\"285.634091\" xlink:href=\"#mdf3b58baa2\" y=\"79.81595\"/>\r\n     <use style=\"fill-opacity:0;stroke:#000000;\" x=\"285.634091\" xlink:href=\"#mdf3b58baa2\" y=\"66.953627\"/>\r\n     <use style=\"fill-opacity:0;stroke:#000000;\" x=\"285.634091\" xlink:href=\"#mdf3b58baa2\" y=\"72.436744\"/>\r\n     <use style=\"fill-opacity:0;stroke:#000000;\" x=\"285.634091\" xlink:href=\"#mdf3b58baa2\" y=\"52.050893\"/>\r\n     <use style=\"fill-opacity:0;stroke:#000000;\" x=\"285.634091\" xlink:href=\"#mdf3b58baa2\" y=\"91.530725\"/>\r\n     <use style=\"fill-opacity:0;stroke:#000000;\" x=\"285.634091\" xlink:href=\"#mdf3b58baa2\" y=\"21.463338\"/>\r\n     <use style=\"fill-opacity:0;stroke:#000000;\" x=\"285.634091\" xlink:href=\"#mdf3b58baa2\" y=\"65.292923\"/>\r\n     <use style=\"fill-opacity:0;stroke:#000000;\" x=\"285.634091\" xlink:href=\"#mdf3b58baa2\" y=\"49.579999\"/>\r\n     <use style=\"fill-opacity:0;stroke:#000000;\" x=\"285.634091\" xlink:href=\"#mdf3b58baa2\" y=\"89.682491\"/>\r\n     <use style=\"fill-opacity:0;stroke:#000000;\" x=\"285.634091\" xlink:href=\"#mdf3b58baa2\" y=\"96.511426\"/>\r\n     <use style=\"fill-opacity:0;stroke:#000000;\" x=\"285.634091\" xlink:href=\"#mdf3b58baa2\" y=\"73.08657\"/>\r\n     <use style=\"fill-opacity:0;stroke:#000000;\" x=\"285.634091\" xlink:href=\"#mdf3b58baa2\" y=\"69.654556\"/>\r\n     <use style=\"fill-opacity:0;stroke:#000000;\" x=\"285.634091\" xlink:href=\"#mdf3b58baa2\" y=\"96.479984\"/>\r\n     <use style=\"fill-opacity:0;stroke:#000000;\" x=\"285.634091\" xlink:href=\"#mdf3b58baa2\" y=\"31.920081\"/>\r\n     <use style=\"fill-opacity:0;stroke:#000000;\" x=\"285.634091\" xlink:href=\"#mdf3b58baa2\" y=\"75.032156\"/>\r\n     <use style=\"fill-opacity:0;stroke:#000000;\" x=\"285.634091\" xlink:href=\"#mdf3b58baa2\" y=\"84.542181\"/>\r\n     <use style=\"fill-opacity:0;stroke:#000000;\" x=\"285.634091\" xlink:href=\"#mdf3b58baa2\" y=\"95.315862\"/>\r\n     <use style=\"fill-opacity:0;stroke:#000000;\" x=\"285.634091\" xlink:href=\"#mdf3b58baa2\" y=\"86.46691\"/>\r\n     <use style=\"fill-opacity:0;stroke:#000000;\" x=\"285.634091\" xlink:href=\"#mdf3b58baa2\" y=\"71.703732\"/>\r\n     <use style=\"fill-opacity:0;stroke:#000000;\" x=\"285.634091\" xlink:href=\"#mdf3b58baa2\" y=\"81.08682\"/>\r\n     <use style=\"fill-opacity:0;stroke:#000000;\" x=\"285.634091\" xlink:href=\"#mdf3b58baa2\" y=\"37.219683\"/>\r\n     <use style=\"fill-opacity:0;stroke:#000000;\" x=\"285.634091\" xlink:href=\"#mdf3b58baa2\" y=\"43.764814\"/>\r\n     <use style=\"fill-opacity:0;stroke:#000000;\" x=\"285.634091\" xlink:href=\"#mdf3b58baa2\" y=\"73.460122\"/>\r\n     <use style=\"fill-opacity:0;stroke:#000000;\" x=\"285.634091\" xlink:href=\"#mdf3b58baa2\" y=\"28.520976\"/>\r\n     <use style=\"fill-opacity:0;stroke:#000000;\" x=\"285.634091\" xlink:href=\"#mdf3b58baa2\" y=\"47.741551\"/>\r\n     <use style=\"fill-opacity:0;stroke:#000000;\" x=\"285.634091\" xlink:href=\"#mdf3b58baa2\" y=\"86.347684\"/>\r\n     <use style=\"fill-opacity:0;stroke:#000000;\" x=\"285.634091\" xlink:href=\"#mdf3b58baa2\" y=\"61.894176\"/>\r\n     <use style=\"fill-opacity:0;stroke:#000000;\" x=\"285.634091\" xlink:href=\"#mdf3b58baa2\" y=\"92.254483\"/>\r\n     <use style=\"fill-opacity:0;stroke:#000000;\" x=\"285.634091\" xlink:href=\"#mdf3b58baa2\" y=\"72.326497\"/>\r\n     <use style=\"fill-opacity:0;stroke:#000000;\" x=\"285.634091\" xlink:href=\"#mdf3b58baa2\" y=\"90.993744\"/>\r\n     <use style=\"fill-opacity:0;stroke:#000000;\" x=\"285.634091\" xlink:href=\"#mdf3b58baa2\" y=\"86.564599\"/>\r\n     <use style=\"fill-opacity:0;stroke:#000000;\" x=\"285.634091\" xlink:href=\"#mdf3b58baa2\" y=\"77.230668\"/>\r\n     <use style=\"fill-opacity:0;stroke:#000000;\" x=\"285.634091\" xlink:href=\"#mdf3b58baa2\" y=\"75.061775\"/>\r\n     <use style=\"fill-opacity:0;stroke:#000000;\" x=\"285.634091\" xlink:href=\"#mdf3b58baa2\" y=\"31.248472\"/>\r\n     <use style=\"fill-opacity:0;stroke:#000000;\" x=\"285.634091\" xlink:href=\"#mdf3b58baa2\" y=\"39.093291\"/>\r\n     <use style=\"fill-opacity:0;stroke:#000000;\" x=\"285.634091\" xlink:href=\"#mdf3b58baa2\" y=\"68.623396\"/>\r\n     <use style=\"fill-opacity:0;stroke:#000000;\" x=\"285.634091\" xlink:href=\"#mdf3b58baa2\" y=\"35.253701\"/>\r\n     <use style=\"fill-opacity:0;stroke:#000000;\" x=\"285.634091\" xlink:href=\"#mdf3b58baa2\" y=\"18.654793\"/>\r\n     <use style=\"fill-opacity:0;stroke:#000000;\" x=\"285.634091\" xlink:href=\"#mdf3b58baa2\" y=\"54.498341\"/>\r\n     <use style=\"fill-opacity:0;stroke:#000000;\" x=\"285.634091\" xlink:href=\"#mdf3b58baa2\" y=\"88.957967\"/>\r\n     <use style=\"fill-opacity:0;stroke:#000000;\" x=\"285.634091\" xlink:href=\"#mdf3b58baa2\" y=\"60.701562\"/>\r\n     <use style=\"fill-opacity:0;stroke:#000000;\" x=\"285.634091\" xlink:href=\"#mdf3b58baa2\" y=\"65.781365\"/>\r\n     <use style=\"fill-opacity:0;stroke:#000000;\" x=\"285.634091\" xlink:href=\"#mdf3b58baa2\" y=\"50.297734\"/>\r\n     <use style=\"fill-opacity:0;stroke:#000000;\" x=\"285.634091\" xlink:href=\"#mdf3b58baa2\" y=\"89.454551\"/>\r\n     <use style=\"fill-opacity:0;stroke:#000000;\" x=\"285.634091\" xlink:href=\"#mdf3b58baa2\" y=\"94.111037\"/>\r\n     <use style=\"fill-opacity:0;stroke:#000000;\" x=\"285.634091\" xlink:href=\"#mdf3b58baa2\" y=\"79.032281\"/>\r\n     <use style=\"fill-opacity:0;stroke:#000000;\" x=\"285.634091\" xlink:href=\"#mdf3b58baa2\" y=\"88.589\"/>\r\n     <use style=\"fill-opacity:0;stroke:#000000;\" x=\"285.634091\" xlink:href=\"#mdf3b58baa2\" y=\"29.270279\"/>\r\n     <use style=\"fill-opacity:0;stroke:#000000;\" x=\"285.634091\" xlink:href=\"#mdf3b58baa2\" y=\"66.989103\"/>\r\n     <use style=\"fill-opacity:0;stroke:#000000;\" x=\"285.634091\" xlink:href=\"#mdf3b58baa2\" y=\"53.696859\"/>\r\n     <use style=\"fill-opacity:0;stroke:#000000;\" x=\"285.634091\" xlink:href=\"#mdf3b58baa2\" y=\"83.536254\"/>\r\n     <use style=\"fill-opacity:0;stroke:#000000;\" x=\"285.634091\" xlink:href=\"#mdf3b58baa2\" y=\"87.989223\"/>\r\n     <use style=\"fill-opacity:0;stroke:#000000;\" x=\"285.634091\" xlink:href=\"#mdf3b58baa2\" y=\"74.288942\"/>\r\n     <use style=\"fill-opacity:0;stroke:#000000;\" x=\"285.634091\" xlink:href=\"#mdf3b58baa2\" y=\"38.347172\"/>\r\n     <use style=\"fill-opacity:0;stroke:#000000;\" x=\"285.634091\" xlink:href=\"#mdf3b58baa2\" y=\"39.933783\"/>\r\n     <use style=\"fill-opacity:0;stroke:#000000;\" x=\"285.634091\" xlink:href=\"#mdf3b58baa2\" y=\"62.545385\"/>\r\n     <use style=\"fill-opacity:0;stroke:#000000;\" x=\"285.634091\" xlink:href=\"#mdf3b58baa2\" y=\"82.261954\"/>\r\n     <use style=\"fill-opacity:0;stroke:#000000;\" x=\"285.634091\" xlink:href=\"#mdf3b58baa2\" y=\"46.112965\"/>\r\n     <use style=\"fill-opacity:0;stroke:#000000;\" x=\"285.634091\" xlink:href=\"#mdf3b58baa2\" y=\"84.448792\"/>\r\n     <use style=\"fill-opacity:0;stroke:#000000;\" x=\"285.634091\" xlink:href=\"#mdf3b58baa2\" y=\"95.686497\"/>\r\n     <use style=\"fill-opacity:0;stroke:#000000;\" x=\"285.634091\" xlink:href=\"#mdf3b58baa2\" y=\"93.351794\"/>\r\n     <use style=\"fill-opacity:0;stroke:#000000;\" x=\"285.634091\" xlink:href=\"#mdf3b58baa2\" y=\"31.321739\"/>\r\n     <use style=\"fill-opacity:0;stroke:#000000;\" x=\"285.634091\" xlink:href=\"#mdf3b58baa2\" y=\"85.530539\"/>\r\n     <use style=\"fill-opacity:0;stroke:#000000;\" x=\"285.634091\" xlink:href=\"#mdf3b58baa2\" y=\"37.213855\"/>\r\n     <use style=\"fill-opacity:0;stroke:#000000;\" x=\"285.634091\" xlink:href=\"#mdf3b58baa2\" y=\"95.380988\"/>\r\n     <use style=\"fill-opacity:0;stroke:#000000;\" x=\"285.634091\" xlink:href=\"#mdf3b58baa2\" y=\"87.421648\"/>\r\n     <use style=\"fill-opacity:0;stroke:#000000;\" x=\"285.634091\" xlink:href=\"#mdf3b58baa2\" y=\"41.988322\"/>\r\n     <use style=\"fill-opacity:0;stroke:#000000;\" x=\"285.634091\" xlink:href=\"#mdf3b58baa2\" y=\"84.970209\"/>\r\n     <use style=\"fill-opacity:0;stroke:#000000;\" x=\"285.634091\" xlink:href=\"#mdf3b58baa2\" y=\"86.967564\"/>\r\n     <use style=\"fill-opacity:0;stroke:#000000;\" x=\"285.634091\" xlink:href=\"#mdf3b58baa2\" y=\"32.681237\"/>\r\n     <use style=\"fill-opacity:0;stroke:#000000;\" x=\"285.634091\" xlink:href=\"#mdf3b58baa2\" y=\"42.393004\"/>\r\n     <use style=\"fill-opacity:0;stroke:#000000;\" x=\"285.634091\" xlink:href=\"#mdf3b58baa2\" y=\"94.394628\"/>\r\n     <use style=\"fill-opacity:0;stroke:#000000;\" x=\"285.634091\" xlink:href=\"#mdf3b58baa2\" y=\"67.035035\"/>\r\n     <use style=\"fill-opacity:0;stroke:#000000;\" x=\"285.634091\" xlink:href=\"#mdf3b58baa2\" y=\"63.611566\"/>\r\n     <use style=\"fill-opacity:0;stroke:#000000;\" x=\"285.634091\" xlink:href=\"#mdf3b58baa2\" y=\"40.480037\"/>\r\n     <use style=\"fill-opacity:0;stroke:#000000;\" x=\"285.634091\" xlink:href=\"#mdf3b58baa2\" y=\"78.643164\"/>\r\n     <use style=\"fill-opacity:0;stroke:#000000;\" x=\"285.634091\" xlink:href=\"#mdf3b58baa2\" y=\"72.782376\"/>\r\n     <use style=\"fill-opacity:0;stroke:#000000;\" x=\"285.634091\" xlink:href=\"#mdf3b58baa2\" y=\"66.269808\"/>\r\n     <use style=\"fill-opacity:0;stroke:#000000;\" x=\"285.634091\" xlink:href=\"#mdf3b58baa2\" y=\"71.273284\"/>\r\n     <use style=\"fill-opacity:0;stroke:#000000;\" x=\"285.634091\" xlink:href=\"#mdf3b58baa2\" y=\"88.864349\"/>\r\n     <use style=\"fill-opacity:0;stroke:#000000;\" x=\"285.634091\" xlink:href=\"#mdf3b58baa2\" y=\"79.92992\"/>\r\n     <use style=\"fill-opacity:0;stroke:#000000;\" x=\"285.634091\" xlink:href=\"#mdf3b58baa2\" y=\"70.993119\"/>\r\n     <use style=\"fill-opacity:0;stroke:#000000;\" x=\"285.634091\" xlink:href=\"#mdf3b58baa2\" y=\"89.153344\"/>\r\n     <use style=\"fill-opacity:0;stroke:#000000;\" x=\"285.634091\" xlink:href=\"#mdf3b58baa2\" y=\"36.151564\"/>\r\n     <use style=\"fill-opacity:0;stroke:#000000;\" x=\"285.634091\" xlink:href=\"#mdf3b58baa2\" y=\"30.979829\"/>\r\n     <use style=\"fill-opacity:0;stroke:#000000;\" x=\"285.634091\" xlink:href=\"#mdf3b58baa2\" y=\"94.406302\"/>\r\n     <use style=\"fill-opacity:0;stroke:#000000;\" x=\"285.634091\" xlink:href=\"#mdf3b58baa2\" y=\"89.312758\"/>\r\n     <use style=\"fill-opacity:0;stroke:#000000;\" x=\"285.634091\" xlink:href=\"#mdf3b58baa2\" y=\"39.326761\"/>\r\n     <use style=\"fill-opacity:0;stroke:#000000;\" x=\"285.634091\" xlink:href=\"#mdf3b58baa2\" y=\"70.128504\"/>\r\n     <use style=\"fill-opacity:0;stroke:#000000;\" x=\"285.634091\" xlink:href=\"#mdf3b58baa2\" y=\"87.56173\"/>\r\n     <use style=\"fill-opacity:0;stroke:#000000;\" x=\"285.634091\" xlink:href=\"#mdf3b58baa2\" y=\"60.56724\"/>\r\n     <use style=\"fill-opacity:0;stroke:#000000;\" x=\"285.634091\" xlink:href=\"#mdf3b58baa2\" y=\"94.970522\"/>\r\n     <use style=\"fill-opacity:0;stroke:#000000;\" x=\"285.634091\" xlink:href=\"#mdf3b58baa2\" y=\"84.671883\"/>\r\n     <use style=\"fill-opacity:0;stroke:#000000;\" x=\"285.634091\" xlink:href=\"#mdf3b58baa2\" y=\"88.335203\"/>\r\n     <use style=\"fill-opacity:0;stroke:#000000;\" x=\"285.634091\" xlink:href=\"#mdf3b58baa2\" y=\"91.367297\"/>\r\n     <use style=\"fill-opacity:0;stroke:#000000;\" x=\"285.634091\" xlink:href=\"#mdf3b58baa2\" y=\"46.342544\"/>\r\n     <use style=\"fill-opacity:0;stroke:#000000;\" x=\"285.634091\" xlink:href=\"#mdf3b58baa2\" y=\"96.378225\"/>\r\n     <use style=\"fill-opacity:0;stroke:#000000;\" x=\"285.634091\" xlink:href=\"#mdf3b58baa2\" y=\"85.685402\"/>\r\n     <use style=\"fill-opacity:0;stroke:#000000;\" x=\"285.634091\" xlink:href=\"#mdf3b58baa2\" y=\"91.066411\"/>\r\n     <use style=\"fill-opacity:0;stroke:#000000;\" x=\"285.634091\" xlink:href=\"#mdf3b58baa2\" y=\"72.375341\"/>\r\n     <use style=\"fill-opacity:0;stroke:#000000;\" x=\"285.634091\" xlink:href=\"#mdf3b58baa2\" y=\"81.211337\"/>\r\n     <use style=\"fill-opacity:0;stroke:#000000;\" x=\"285.634091\" xlink:href=\"#mdf3b58baa2\" y=\"67.678151\"/>\r\n     <use style=\"fill-opacity:0;stroke:#000000;\" x=\"285.634091\" xlink:href=\"#mdf3b58baa2\" y=\"42.385222\"/>\r\n     <use style=\"fill-opacity:0;stroke:#000000;\" x=\"285.634091\" xlink:href=\"#mdf3b58baa2\" y=\"27.497598\"/>\r\n     <use style=\"fill-opacity:0;stroke:#000000;\" x=\"285.634091\" xlink:href=\"#mdf3b58baa2\" y=\"78.545999\"/>\r\n     <use style=\"fill-opacity:0;stroke:#000000;\" x=\"285.634091\" xlink:href=\"#mdf3b58baa2\" y=\"95.116415\"/>\r\n     <use style=\"fill-opacity:0;stroke:#000000;\" x=\"285.634091\" xlink:href=\"#mdf3b58baa2\" y=\"45.303601\"/>\r\n     <use style=\"fill-opacity:0;stroke:#000000;\" x=\"285.634091\" xlink:href=\"#mdf3b58baa2\" y=\"46.976324\"/>\r\n     <use style=\"fill-opacity:0;stroke:#000000;\" x=\"285.634091\" xlink:href=\"#mdf3b58baa2\" y=\"73.189412\"/>\r\n     <use style=\"fill-opacity:0;stroke:#000000;\" x=\"285.634091\" xlink:href=\"#mdf3b58baa2\" y=\"30.234954\"/>\r\n     <use style=\"fill-opacity:0;stroke:#000000;\" x=\"285.634091\" xlink:href=\"#mdf3b58baa2\" y=\"88.040344\"/>\r\n     <use style=\"fill-opacity:0;stroke:#000000;\" x=\"285.634091\" xlink:href=\"#mdf3b58baa2\" y=\"79.555447\"/>\r\n     <use style=\"fill-opacity:0;stroke:#000000;\" x=\"285.634091\" xlink:href=\"#mdf3b58baa2\" y=\"63.933424\"/>\r\n     <use style=\"fill-opacity:0;stroke:#000000;\" x=\"285.634091\" xlink:href=\"#mdf3b58baa2\" y=\"49.467382\"/>\r\n     <use style=\"fill-opacity:0;stroke:#000000;\" x=\"285.634091\" xlink:href=\"#mdf3b58baa2\" y=\"34.716415\"/>\r\n     <use style=\"fill-opacity:0;stroke:#000000;\" x=\"285.634091\" xlink:href=\"#mdf3b58baa2\" y=\"46.280294\"/>\r\n     <use style=\"fill-opacity:0;stroke:#000000;\" x=\"285.634091\" xlink:href=\"#mdf3b58baa2\" y=\"35.790988\"/>\r\n     <use style=\"fill-opacity:0;stroke:#000000;\" x=\"285.634091\" xlink:href=\"#mdf3b58baa2\" y=\"88.852138\"/>\r\n     <use style=\"fill-opacity:0;stroke:#000000;\" x=\"285.634091\" xlink:href=\"#mdf3b58baa2\" y=\"54.400652\"/>\r\n     <use style=\"fill-opacity:0;stroke:#000000;\" x=\"285.634091\" xlink:href=\"#mdf3b58baa2\" y=\"85.865179\"/>\r\n     <use style=\"fill-opacity:0;stroke:#000000;\" x=\"285.634091\" xlink:href=\"#mdf3b58baa2\" y=\"77.958317\"/>\r\n     <use style=\"fill-opacity:0;stroke:#000000;\" x=\"285.634091\" xlink:href=\"#mdf3b58baa2\" y=\"85.756226\"/>\r\n    </g>\r\n   </g>\r\n   <g id=\"line2d_26\">\r\n    <path clip-path=\"url(#p31dfea51eb)\" d=\"M 274.220455 182.293 \r\nL 297.047727 182.293 \r\n\" style=\"fill:none;stroke:#2ca02c;stroke-linecap:square;\"/>\r\n   </g>\r\n   <g id=\"patch_58\">\r\n    <path d=\"M 209.543182 224.64 \r\nL 209.543182 7.2 \r\n\" style=\"fill:none;stroke:#000000;stroke-linecap:square;stroke-linejoin:miter;stroke-width:0.8;\"/>\r\n   </g>\r\n   <g id=\"patch_59\">\r\n    <path d=\"M 361.725 224.64 \r\nL 361.725 7.2 \r\n\" style=\"fill:none;stroke:#000000;stroke-linecap:square;stroke-linejoin:miter;stroke-width:0.8;\"/>\r\n   </g>\r\n   <g id=\"patch_60\">\r\n    <path d=\"M 209.543182 224.64 \r\nL 361.725 224.64 \r\n\" style=\"fill:none;stroke:#000000;stroke-linecap:square;stroke-linejoin:miter;stroke-width:0.8;\"/>\r\n   </g>\r\n   <g id=\"patch_61\">\r\n    <path d=\"M 209.543182 7.2 \r\nL 361.725 7.2 \r\n\" style=\"fill:none;stroke:#000000;stroke-linecap:square;stroke-linejoin:miter;stroke-width:0.8;\"/>\r\n   </g>\r\n  </g>\r\n </g>\r\n <defs>\r\n  <clipPath id=\"pe270857d0e\">\r\n   <rect height=\"217.44\" width=\"152.181818\" x=\"26.925\" y=\"7.2\"/>\r\n  </clipPath>\r\n  <clipPath id=\"p31dfea51eb\">\r\n   <rect height=\"217.44\" width=\"152.181818\" x=\"209.543182\" y=\"7.2\"/>\r\n  </clipPath>\r\n </defs>\r\n</svg>\r\n",
      "image/png": "[encoded data removed]"
     },
     "metadata": {
      "needs_background": "light"
     }
    }
   ],
   "source": [
    "# remove Nan values before plotting graph otherwise it will throw error\n",
    "plt.figure(1)\n",
    "plt.subplot(121)\n",
    "sns.distplot(data['Item_Visibility'])\n",
    "\n",
    "plt.subplot(122)\n",
    "\n",
    "data['Item_Visibility'].plot.box()\n",
    "plt.show()"
   ]
  },
  {
   "cell_type": "markdown",
   "metadata": {},
   "source": [
    "### Categorical"
   ]
  },
  {
   "cell_type": "markdown",
   "metadata": {},
   "source": [
    "Item_Fat_Content              \n",
    "Item_Type                  \n",
    "Outlet_Identifier            \n",
    "Outlet_Size                 \n",
    "Outlet_Location_Type              \n",
    "Outlet_Type            "
   ]
  },
  {
   "cell_type": "code",
   "execution_count": 35,
   "metadata": {},
   "outputs": [
    {
     "output_type": "execute_result",
     "data": {
      "text/plain": [
       "Low Fat    5089\n",
       "Regular    2889\n",
       "LF          316\n",
       "reg         117\n",
       "low fat     112\n",
       "Name: Item_Fat_Content, dtype: int64"
      ]
     },
     "metadata": {},
     "execution_count": 35
    }
   ],
   "source": [
    "data['Item_Fat_Content'].value_counts()"
   ]
  },
  {
   "cell_type": "code",
   "execution_count": 36,
   "metadata": {},
   "outputs": [
    {
     "output_type": "execute_result",
     "data": {
      "text/plain": [
       "Fruits and Vegetables    1232\n",
       "Snack Foods              1200\n",
       "Household                 910\n",
       "Frozen Foods              856\n",
       "Dairy                     682\n",
       "Canned                    649\n",
       "Baking Goods              648\n",
       "Health and Hygiene        520\n",
       "Soft Drinks               445\n",
       "Meat                      425\n",
       "Breads                    251\n",
       "Hard Drinks               214\n",
       "Others                    169\n",
       "Starchy Foods             148\n",
       "Breakfast                 110\n",
       "Seafood                    64\n",
       "Name: Item_Type, dtype: int64"
      ]
     },
     "metadata": {},
     "execution_count": 36
    }
   ],
   "source": [
    "data['Item_Type'].value_counts()"
   ]
  },
  {
   "cell_type": "code",
   "execution_count": 37,
   "metadata": {},
   "outputs": [
    {
     "output_type": "execute_result",
     "data": {
      "text/plain": [
       "OUT027    935\n",
       "OUT013    932\n",
       "OUT049    930\n",
       "OUT046    930\n",
       "OUT035    930\n",
       "OUT045    929\n",
       "OUT018    928\n",
       "OUT017    926\n",
       "OUT010    555\n",
       "OUT019    528\n",
       "Name: Outlet_Identifier, dtype: int64"
      ]
     },
     "metadata": {},
     "execution_count": 37
    }
   ],
   "source": [
    "data['Outlet_Identifier'].value_counts()"
   ]
  },
  {
   "cell_type": "code",
   "execution_count": 38,
   "metadata": {},
   "outputs": [
    {
     "output_type": "execute_result",
     "data": {
      "text/plain": [
       "Medium    2793\n",
       "Small     2388\n",
       "High       932\n",
       "Name: Outlet_Size, dtype: int64"
      ]
     },
     "metadata": {},
     "execution_count": 38
    }
   ],
   "source": [
    "data['Outlet_Size'].value_counts()"
   ]
  },
  {
   "cell_type": "code",
   "execution_count": 39,
   "metadata": {},
   "outputs": [
    {
     "output_type": "execute_result",
     "data": {
      "text/plain": [
       "Tier 3    3350\n",
       "Tier 2    2785\n",
       "Tier 1    2388\n",
       "Name: Outlet_Location_Type, dtype: int64"
      ]
     },
     "metadata": {},
     "execution_count": 39
    }
   ],
   "source": [
    "data['Outlet_Location_Type'].value_counts()"
   ]
  },
  {
   "cell_type": "code",
   "execution_count": 40,
   "metadata": {},
   "outputs": [
    {
     "output_type": "execute_result",
     "data": {
      "text/plain": [
       "Supermarket Type1    5577\n",
       "Grocery Store        1083\n",
       "Supermarket Type3     935\n",
       "Supermarket Type2     928\n",
       "Name: Outlet_Type, dtype: int64"
      ]
     },
     "metadata": {},
     "execution_count": 40
    }
   ],
   "source": [
    "data['Outlet_Type'].value_counts()"
   ]
  },
  {
   "cell_type": "markdown",
   "metadata": {},
   "source": [
    "## BI-VARIATE"
   ]
  },
  {
   "cell_type": "code",
   "execution_count": 41,
   "metadata": {},
   "outputs": [],
   "source": [
    "import statsmodels.formula.api as smf"
   ]
  },
  {
   "cell_type": "code",
   "execution_count": 42,
   "metadata": {},
   "outputs": [
    {
     "output_type": "execute_result",
     "data": {
      "text/plain": [
       "<class 'statsmodels.iolib.summary.Summary'>\n",
       "\"\"\"\n",
       "                            OLS Regression Results                            \n",
       "==============================================================================\n",
       "Dep. Variable:      Item_Outlet_Sales   R-squared:                       0.017\n",
       "Model:                            OLS   Adj. R-squared:                  0.016\n",
       "Method:                 Least Squares   F-statistic:                     143.3\n",
       "Date:                Fri, 20 Nov 2020   Prob (F-statistic):           9.04e-33\n",
       "Time:                        10:23:57   Log-Likelihood:                -75452.\n",
       "No. Observations:                8523   AIC:                         1.509e+05\n",
       "Df Residuals:                    8521   BIC:                         1.509e+05\n",
       "Df Model:                           1                                         \n",
       "Covariance Type:            nonrobust                                         \n",
       "===================================================================================\n",
       "                      coef    std err          t      P>|t|      [0.025      0.975]\n",
       "-----------------------------------------------------------------------------------\n",
       "Intercept        2462.6155     29.803     82.631      0.000    2404.195    2521.036\n",
       "Item_Visibility -4254.0139    355.310    -11.973      0.000   -4950.507   -3557.521\n",
       "==============================================================================\n",
       "Omnibus:                     1625.343   Durbin-Watson:                   1.992\n",
       "Prob(Omnibus):                  0.000   Jarque-Bera (JB):             2993.949\n",
       "Skew:                           1.193   Prob(JB):                         0.00\n",
       "Kurtosis:                       4.654   Cond. No.                         19.5\n",
       "==============================================================================\n",
       "\n",
       "Warnings:\n",
       "[1] Standard Errors assume that the covariance matrix of the errors is correctly specified.\n",
       "\"\"\""
      ],
      "text/html": "<table class=\"simpletable\">\n<caption>OLS Regression Results</caption>\n<tr>\n  <th>Dep. Variable:</th>    <td>Item_Outlet_Sales</td> <th>  R-squared:         </th> <td>   0.017</td> \n</tr>\n<tr>\n  <th>Model:</th>                   <td>OLS</td>        <th>  Adj. R-squared:    </th> <td>   0.016</td> \n</tr>\n<tr>\n  <th>Method:</th>             <td>Least Squares</td>   <th>  F-statistic:       </th> <td>   143.3</td> \n</tr>\n<tr>\n  <th>Date:</th>             <td>Fri, 20 Nov 2020</td>  <th>  Prob (F-statistic):</th> <td>9.04e-33</td> \n</tr>\n<tr>\n  <th>Time:</th>                 <td>10:23:57</td>      <th>  Log-Likelihood:    </th> <td> -75452.</td> \n</tr>\n<tr>\n  <th>No. Observations:</th>      <td>  8523</td>       <th>  AIC:               </th> <td>1.509e+05</td>\n</tr>\n<tr>\n  <th>Df Residuals:</th>          <td>  8521</td>       <th>  BIC:               </th> <td>1.509e+05</td>\n</tr>\n<tr>\n  <th>Df Model:</th>              <td>     1</td>       <th>                     </th>     <td> </td>    \n</tr>\n<tr>\n  <th>Covariance Type:</th>      <td>nonrobust</td>     <th>                     </th>     <td> </td>    \n</tr>\n</table>\n<table class=\"simpletable\">\n<tr>\n         <td></td>            <th>coef</th>     <th>std err</th>      <th>t</th>      <th>P>|t|</th>  <th>[0.025</th>    <th>0.975]</th>  \n</tr>\n<tr>\n  <th>Intercept</th>       <td> 2462.6155</td> <td>   29.803</td> <td>   82.631</td> <td> 0.000</td> <td> 2404.195</td> <td> 2521.036</td>\n</tr>\n<tr>\n  <th>Item_Visibility</th> <td>-4254.0139</td> <td>  355.310</td> <td>  -11.973</td> <td> 0.000</td> <td>-4950.507</td> <td>-3557.521</td>\n</tr>\n</table>\n<table class=\"simpletable\">\n<tr>\n  <th>Omnibus:</th>       <td>1625.343</td> <th>  Durbin-Watson:     </th> <td>   1.992</td>\n</tr>\n<tr>\n  <th>Prob(Omnibus):</th>  <td> 0.000</td>  <th>  Jarque-Bera (JB):  </th> <td>2993.949</td>\n</tr>\n<tr>\n  <th>Skew:</th>           <td> 1.193</td>  <th>  Prob(JB):          </th> <td>    0.00</td>\n</tr>\n<tr>\n  <th>Kurtosis:</th>       <td> 4.654</td>  <th>  Cond. No.          </th> <td>    19.5</td>\n</tr>\n</table><br/><br/>Warnings:<br/>[1] Standard Errors assume that the covariance matrix of the errors is correctly specified."
     },
     "metadata": {},
     "execution_count": 42
    }
   ],
   "source": [
    "ols = smf.ols(formula='Item_Outlet_Sales ~ Item_Visibility',data=data).fit()\n",
    "ols.summary()"
   ]
  },
  {
   "cell_type": "code",
   "execution_count": 43,
   "metadata": {},
   "outputs": [
    {
     "output_type": "execute_result",
     "data": {
      "text/plain": [
       "<class 'statsmodels.iolib.summary.Summary'>\n",
       "\"\"\"\n",
       "                            OLS Regression Results                            \n",
       "==============================================================================\n",
       "Dep. Variable:      Item_Outlet_Sales   R-squared:                       0.322\n",
       "Model:                            OLS   Adj. R-squared:                  0.322\n",
       "Method:                 Least Squares   F-statistic:                     4049.\n",
       "Date:                Fri, 20 Nov 2020   Prob (F-statistic):               0.00\n",
       "Time:                        10:23:57   Log-Likelihood:                -73866.\n",
       "No. Observations:                8523   AIC:                         1.477e+05\n",
       "Df Residuals:                    8521   BIC:                         1.478e+05\n",
       "Df Model:                           1                                         \n",
       "Covariance Type:            nonrobust                                         \n",
       "==============================================================================\n",
       "                 coef    std err          t      P>|t|      [0.025      0.975]\n",
       "------------------------------------------------------------------------------\n",
       "Intercept    -11.5751     37.671     -0.307      0.759     -85.420      62.270\n",
       "Item_MRP      15.5530      0.244     63.635      0.000      15.074      16.032\n",
       "==============================================================================\n",
       "Omnibus:                      751.910   Durbin-Watson:                   1.988\n",
       "Prob(Omnibus):                  0.000   Jarque-Bera (JB):             1620.941\n",
       "Skew:                           0.566   Prob(JB):                         0.00\n",
       "Kurtosis:                       4.812   Cond. No.                         382.\n",
       "==============================================================================\n",
       "\n",
       "Warnings:\n",
       "[1] Standard Errors assume that the covariance matrix of the errors is correctly specified.\n",
       "\"\"\""
      ],
      "text/html": "<table class=\"simpletable\">\n<caption>OLS Regression Results</caption>\n<tr>\n  <th>Dep. Variable:</th>    <td>Item_Outlet_Sales</td> <th>  R-squared:         </th> <td>   0.322</td> \n</tr>\n<tr>\n  <th>Model:</th>                   <td>OLS</td>        <th>  Adj. R-squared:    </th> <td>   0.322</td> \n</tr>\n<tr>\n  <th>Method:</th>             <td>Least Squares</td>   <th>  F-statistic:       </th> <td>   4049.</td> \n</tr>\n<tr>\n  <th>Date:</th>             <td>Fri, 20 Nov 2020</td>  <th>  Prob (F-statistic):</th>  <td>  0.00</td>  \n</tr>\n<tr>\n  <th>Time:</th>                 <td>10:23:57</td>      <th>  Log-Likelihood:    </th> <td> -73866.</td> \n</tr>\n<tr>\n  <th>No. Observations:</th>      <td>  8523</td>       <th>  AIC:               </th> <td>1.477e+05</td>\n</tr>\n<tr>\n  <th>Df Residuals:</th>          <td>  8521</td>       <th>  BIC:               </th> <td>1.478e+05</td>\n</tr>\n<tr>\n  <th>Df Model:</th>              <td>     1</td>       <th>                     </th>     <td> </td>    \n</tr>\n<tr>\n  <th>Covariance Type:</th>      <td>nonrobust</td>     <th>                     </th>     <td> </td>    \n</tr>\n</table>\n<table class=\"simpletable\">\n<tr>\n      <td></td>         <th>coef</th>     <th>std err</th>      <th>t</th>      <th>P>|t|</th>  <th>[0.025</th>    <th>0.975]</th>  \n</tr>\n<tr>\n  <th>Intercept</th> <td>  -11.5751</td> <td>   37.671</td> <td>   -0.307</td> <td> 0.759</td> <td>  -85.420</td> <td>   62.270</td>\n</tr>\n<tr>\n  <th>Item_MRP</th>  <td>   15.5530</td> <td>    0.244</td> <td>   63.635</td> <td> 0.000</td> <td>   15.074</td> <td>   16.032</td>\n</tr>\n</table>\n<table class=\"simpletable\">\n<tr>\n  <th>Omnibus:</th>       <td>751.910</td> <th>  Durbin-Watson:     </th> <td>   1.988</td>\n</tr>\n<tr>\n  <th>Prob(Omnibus):</th> <td> 0.000</td>  <th>  Jarque-Bera (JB):  </th> <td>1620.941</td>\n</tr>\n<tr>\n  <th>Skew:</th>          <td> 0.566</td>  <th>  Prob(JB):          </th> <td>    0.00</td>\n</tr>\n<tr>\n  <th>Kurtosis:</th>      <td> 4.812</td>  <th>  Cond. No.          </th> <td>    382.</td>\n</tr>\n</table><br/><br/>Warnings:<br/>[1] Standard Errors assume that the covariance matrix of the errors is correctly specified."
     },
     "metadata": {},
     "execution_count": 43
    }
   ],
   "source": [
    "ols2 = smf.ols(formula='Item_Outlet_Sales ~ Item_MRP',data=data).fit()\n",
    "ols2.summary()"
   ]
  },
  {
   "cell_type": "code",
   "execution_count": 53,
   "metadata": {},
   "outputs": [
    {
     "output_type": "execute_result",
     "data": {
      "text/plain": [
       "<class 'statsmodels.iolib.summary.Summary'>\n",
       "\"\"\"\n",
       "                            OLS Regression Results                            \n",
       "==============================================================================\n",
       "Dep. Variable:      Item_Outlet_Sales   R-squared:                       0.002\n",
       "Model:                            OLS   Adj. R-squared:                  0.002\n",
       "Method:                 Least Squares   F-statistic:                     20.62\n",
       "Date:                Fri, 20 Nov 2020   Prob (F-statistic):           5.67e-06\n",
       "Time:                        11:09:30   Log-Likelihood:                -75513.\n",
       "No. Observations:                8523   AIC:                         1.510e+05\n",
       "Df Residuals:                    8521   BIC:                         1.510e+05\n",
       "Df Model:                           1                                         \n",
       "Covariance Type:            nonrobust                                         \n",
       "=============================================================================================\n",
       "                                coef    std err          t      P>|t|      [0.025      0.975]\n",
       "---------------------------------------------------------------------------------------------\n",
       "Intercept                  2.219e+04   4406.380      5.036      0.000    1.36e+04    3.08e+04\n",
       "Outlet_Establishment_Year   -10.0157      2.206     -4.541      0.000     -14.339      -5.692\n",
       "==============================================================================\n",
       "Omnibus:                     1502.025   Durbin-Watson:                   1.987\n",
       "Prob(Omnibus):                  0.000   Jarque-Bera (JB):             2634.450\n",
       "Skew:                           1.136   Prob(JB):                         0.00\n",
       "Kurtosis:                       4.503   Cond. No.                     4.77e+05\n",
       "==============================================================================\n",
       "\n",
       "Warnings:\n",
       "[1] Standard Errors assume that the covariance matrix of the errors is correctly specified.\n",
       "[2] The condition number is large, 4.77e+05. This might indicate that there are\n",
       "strong multicollinearity or other numerical problems.\n",
       "\"\"\""
      ],
      "text/html": "<table class=\"simpletable\">\n<caption>OLS Regression Results</caption>\n<tr>\n  <th>Dep. Variable:</th>    <td>Item_Outlet_Sales</td> <th>  R-squared:         </th> <td>   0.002</td> \n</tr>\n<tr>\n  <th>Model:</th>                   <td>OLS</td>        <th>  Adj. R-squared:    </th> <td>   0.002</td> \n</tr>\n<tr>\n  <th>Method:</th>             <td>Least Squares</td>   <th>  F-statistic:       </th> <td>   20.62</td> \n</tr>\n<tr>\n  <th>Date:</th>             <td>Fri, 20 Nov 2020</td>  <th>  Prob (F-statistic):</th> <td>5.67e-06</td> \n</tr>\n<tr>\n  <th>Time:</th>                 <td>11:09:30</td>      <th>  Log-Likelihood:    </th> <td> -75513.</td> \n</tr>\n<tr>\n  <th>No. Observations:</th>      <td>  8523</td>       <th>  AIC:               </th> <td>1.510e+05</td>\n</tr>\n<tr>\n  <th>Df Residuals:</th>          <td>  8521</td>       <th>  BIC:               </th> <td>1.510e+05</td>\n</tr>\n<tr>\n  <th>Df Model:</th>              <td>     1</td>       <th>                     </th>     <td> </td>    \n</tr>\n<tr>\n  <th>Covariance Type:</th>      <td>nonrobust</td>     <th>                     </th>     <td> </td>    \n</tr>\n</table>\n<table class=\"simpletable\">\n<tr>\n              <td></td>                 <th>coef</th>     <th>std err</th>      <th>t</th>      <th>P>|t|</th>  <th>[0.025</th>    <th>0.975]</th>  \n</tr>\n<tr>\n  <th>Intercept</th>                 <td> 2.219e+04</td> <td> 4406.380</td> <td>    5.036</td> <td> 0.000</td> <td> 1.36e+04</td> <td> 3.08e+04</td>\n</tr>\n<tr>\n  <th>Outlet_Establishment_Year</th> <td>  -10.0157</td> <td>    2.206</td> <td>   -4.541</td> <td> 0.000</td> <td>  -14.339</td> <td>   -5.692</td>\n</tr>\n</table>\n<table class=\"simpletable\">\n<tr>\n  <th>Omnibus:</th>       <td>1502.025</td> <th>  Durbin-Watson:     </th> <td>   1.987</td>\n</tr>\n<tr>\n  <th>Prob(Omnibus):</th>  <td> 0.000</td>  <th>  Jarque-Bera (JB):  </th> <td>2634.450</td>\n</tr>\n<tr>\n  <th>Skew:</th>           <td> 1.136</td>  <th>  Prob(JB):          </th> <td>    0.00</td>\n</tr>\n<tr>\n  <th>Kurtosis:</th>       <td> 4.503</td>  <th>  Cond. No.          </th> <td>4.77e+05</td>\n</tr>\n</table><br/><br/>Warnings:<br/>[1] Standard Errors assume that the covariance matrix of the errors is correctly specified.<br/>[2] The condition number is large, 4.77e+05. This might indicate that there are<br/>strong multicollinearity or other numerical problems."
     },
     "metadata": {},
     "execution_count": 53
    }
   ],
   "source": [
    "ols2 = smf.ols(formula='Item_Outlet_Sales ~ Outlet_Establishment_Year',data=data).fit()\n",
    "ols2.summary()"
   ]
  },
  {
   "source": [
    "## ANOVA TEST\n",
    "\n",
    "NULL hypothesis: there is no relationship b/w Item_Fat_Content and Item_Outlet_Sales          \n",
    "Alternate hypothesis: there is relatioship b/w Item_Fat_Content and Item_Outlet_Sales    \n",
    "Below ols.summary() result shows that p-value(Prob (F-statistic):\t0.141) is greater than 0.05, which means we should reject the NULL hypothesis.           \n",
    "But here we should not reply on ANOVA test as the categorical column have more than 2 categories. So we will go for tukey's test.\n",
    "\n",
    "\n",
    "Field : **Item_Fat_Content**             \n",
    "Low Fat 5089 ,Regular 2889,LF 316,reg 117,low fat 112\n"
   ],
   "cell_type": "markdown",
   "metadata": {}
  },
  {
   "cell_type": "code",
   "execution_count": 58,
   "metadata": {},
   "outputs": [
    {
     "output_type": "execute_result",
     "data": {
      "text/plain": [
       "<class 'statsmodels.iolib.summary.Summary'>\n",
       "\"\"\"\n",
       "                            OLS Regression Results                            \n",
       "==============================================================================\n",
       "Dep. Variable:      Item_Outlet_Sales   R-squared:                       0.001\n",
       "Model:                            OLS   Adj. R-squared:                  0.000\n",
       "Method:                 Least Squares   F-statistic:                     1.726\n",
       "Date:                Fri, 20 Nov 2020   Prob (F-statistic):              0.141\n",
       "Time:                        22:13:50   Log-Likelihood:                -75520.\n",
       "No. Observations:                8523   AIC:                         1.510e+05\n",
       "Df Residuals:                    8518   BIC:                         1.511e+05\n",
       "Df Model:                           4                                         \n",
       "Covariance Type:            nonrobust                                         \n",
       "===============================================================================================\n",
       "                                  coef    std err          t      P>|t|      [0.025      0.975]\n",
       "-----------------------------------------------------------------------------------------------\n",
       "Intercept                    2073.5519     95.982     21.604      0.000    1885.404    2261.699\n",
       "Item_Fat_Content[T.Low Fat]    90.9254     98.917      0.919      0.358    -102.976     284.826\n",
       "Item_Fat_Content[T.Regular]   161.6348    101.095      1.599      0.110     -36.536     359.805\n",
       "Item_Fat_Content[T.low fat]    14.1888    187.630      0.076      0.940    -353.611     381.989\n",
       "Item_Fat_Content[T.reg]      -111.3597    184.646     -0.603      0.546    -473.310     250.591\n",
       "==============================================================================\n",
       "Omnibus:                     1589.015   Durbin-Watson:                   1.989\n",
       "Prob(Omnibus):                  0.000   Jarque-Bera (JB):             2887.438\n",
       "Skew:                           1.176   Prob(JB):                         0.00\n",
       "Kurtosis:                       4.613   Cond. No.                         16.2\n",
       "==============================================================================\n",
       "\n",
       "Warnings:\n",
       "[1] Standard Errors assume that the covariance matrix of the errors is correctly specified.\n",
       "\"\"\""
      ],
      "text/html": "<table class=\"simpletable\">\n<caption>OLS Regression Results</caption>\n<tr>\n  <th>Dep. Variable:</th>    <td>Item_Outlet_Sales</td> <th>  R-squared:         </th> <td>   0.001</td> \n</tr>\n<tr>\n  <th>Model:</th>                   <td>OLS</td>        <th>  Adj. R-squared:    </th> <td>   0.000</td> \n</tr>\n<tr>\n  <th>Method:</th>             <td>Least Squares</td>   <th>  F-statistic:       </th> <td>   1.726</td> \n</tr>\n<tr>\n  <th>Date:</th>             <td>Fri, 20 Nov 2020</td>  <th>  Prob (F-statistic):</th>  <td> 0.141</td>  \n</tr>\n<tr>\n  <th>Time:</th>                 <td>22:13:50</td>      <th>  Log-Likelihood:    </th> <td> -75520.</td> \n</tr>\n<tr>\n  <th>No. Observations:</th>      <td>  8523</td>       <th>  AIC:               </th> <td>1.510e+05</td>\n</tr>\n<tr>\n  <th>Df Residuals:</th>          <td>  8518</td>       <th>  BIC:               </th> <td>1.511e+05</td>\n</tr>\n<tr>\n  <th>Df Model:</th>              <td>     4</td>       <th>                     </th>     <td> </td>    \n</tr>\n<tr>\n  <th>Covariance Type:</th>      <td>nonrobust</td>     <th>                     </th>     <td> </td>    \n</tr>\n</table>\n<table class=\"simpletable\">\n<tr>\n               <td></td>                  <th>coef</th>     <th>std err</th>      <th>t</th>      <th>P>|t|</th>  <th>[0.025</th>    <th>0.975]</th>  \n</tr>\n<tr>\n  <th>Intercept</th>                   <td> 2073.5519</td> <td>   95.982</td> <td>   21.604</td> <td> 0.000</td> <td> 1885.404</td> <td> 2261.699</td>\n</tr>\n<tr>\n  <th>Item_Fat_Content[T.Low Fat]</th> <td>   90.9254</td> <td>   98.917</td> <td>    0.919</td> <td> 0.358</td> <td> -102.976</td> <td>  284.826</td>\n</tr>\n<tr>\n  <th>Item_Fat_Content[T.Regular]</th> <td>  161.6348</td> <td>  101.095</td> <td>    1.599</td> <td> 0.110</td> <td>  -36.536</td> <td>  359.805</td>\n</tr>\n<tr>\n  <th>Item_Fat_Content[T.low fat]</th> <td>   14.1888</td> <td>  187.630</td> <td>    0.076</td> <td> 0.940</td> <td> -353.611</td> <td>  381.989</td>\n</tr>\n<tr>\n  <th>Item_Fat_Content[T.reg]</th>     <td> -111.3597</td> <td>  184.646</td> <td>   -0.603</td> <td> 0.546</td> <td> -473.310</td> <td>  250.591</td>\n</tr>\n</table>\n<table class=\"simpletable\">\n<tr>\n  <th>Omnibus:</th>       <td>1589.015</td> <th>  Durbin-Watson:     </th> <td>   1.989</td>\n</tr>\n<tr>\n  <th>Prob(Omnibus):</th>  <td> 0.000</td>  <th>  Jarque-Bera (JB):  </th> <td>2887.438</td>\n</tr>\n<tr>\n  <th>Skew:</th>           <td> 1.176</td>  <th>  Prob(JB):          </th> <td>    0.00</td>\n</tr>\n<tr>\n  <th>Kurtosis:</th>       <td> 4.613</td>  <th>  Cond. No.          </th> <td>    16.2</td>\n</tr>\n</table><br/><br/>Warnings:<br/>[1] Standard Errors assume that the covariance matrix of the errors is correctly specified."
     },
     "metadata": {},
     "execution_count": 58
    }
   ],
   "source": [
    "import statsmodels.formula.api as smf\n",
    "anova1 = smf.ols(formula='Item_Outlet_Sales ~Item_Fat_Content',data=data).fit()\n",
    "anova1.summary()"
   ]
  },
  {
   "cell_type": "code",
   "execution_count": null,
   "metadata": {},
   "outputs": [],
   "source": []
  }
 ],
 "metadata": {
  "kernelspec": {
   "display_name": "Python 3",
   "language": "python",
   "name": "python3"
  },
  "language_info": {
   "codemirror_mode": {
    "name": "ipython",
    "version": 3
   },
   "file_extension": ".py",
   "mimetype": "text/x-python",
   "name": "python",
   "nbconvert_exporter": "python",
   "pygments_lexer": "ipython3",
   "version": "3.7.6-final"
  }
 },
 "nbformat": 4,
 "nbformat_minor": 4
}