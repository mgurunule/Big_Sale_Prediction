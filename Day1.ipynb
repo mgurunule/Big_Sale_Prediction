{
 "cells": [
  {
   "cell_type": "code",
   "execution_count": 217,
   "metadata": {},
   "outputs": [],
   "source": [
    "import numpy as np\n",
    "import pandas as pd\n",
    "import matplotlib.pyplot as plt\n",
    "%matplotlib inline\n",
    "import seaborn as sns\n",
    "import scipy"
   ]
  },
  {
   "cell_type": "code",
   "execution_count": 219,
   "metadata": {},
   "outputs": [],
   "source": [
    "data = pd.read_csv(\"train.csv\")"
   ]
  },
  {
   "cell_type": "code",
   "execution_count": 165,
   "metadata": {},
   "outputs": [
    {
     "data": {
      "text/html": [
       "<div>\n",
       "<style scoped>\n",
       "    .dataframe tbody tr th:only-of-type {\n",
       "        vertical-align: middle;\n",
       "    }\n",
       "\n",
       "    .dataframe tbody tr th {\n",
       "        vertical-align: top;\n",
       "    }\n",
       "\n",
       "    .dataframe thead th {\n",
       "        text-align: right;\n",
       "    }\n",
       "</style>\n",
       "<table border=\"1\" class=\"dataframe\">\n",
       "  <thead>\n",
       "    <tr style=\"text-align: right;\">\n",
       "      <th></th>\n",
       "      <th>Item_Identifier</th>\n",
       "      <th>Item_Weight</th>\n",
       "      <th>Item_Fat_Content</th>\n",
       "      <th>Item_Visibility</th>\n",
       "      <th>Item_Type</th>\n",
       "      <th>Item_MRP</th>\n",
       "      <th>Outlet_Identifier</th>\n",
       "      <th>Outlet_Establishment_Year</th>\n",
       "      <th>Outlet_Size</th>\n",
       "      <th>Outlet_Location_Type</th>\n",
       "      <th>Outlet_Type</th>\n",
       "      <th>Item_Outlet_Sales</th>\n",
       "    </tr>\n",
       "  </thead>\n",
       "  <tbody>\n",
       "    <tr>\n",
       "      <th>0</th>\n",
       "      <td>FDA15</td>\n",
       "      <td>9.30</td>\n",
       "      <td>Low Fat</td>\n",
       "      <td>0.016047</td>\n",
       "      <td>Dairy</td>\n",
       "      <td>249.8092</td>\n",
       "      <td>OUT049</td>\n",
       "      <td>1999</td>\n",
       "      <td>Medium</td>\n",
       "      <td>Tier 1</td>\n",
       "      <td>Supermarket Type1</td>\n",
       "      <td>3735.1380</td>\n",
       "    </tr>\n",
       "    <tr>\n",
       "      <th>1</th>\n",
       "      <td>DRC01</td>\n",
       "      <td>5.92</td>\n",
       "      <td>Regular</td>\n",
       "      <td>0.019278</td>\n",
       "      <td>Soft Drinks</td>\n",
       "      <td>48.2692</td>\n",
       "      <td>OUT018</td>\n",
       "      <td>2009</td>\n",
       "      <td>Medium</td>\n",
       "      <td>Tier 3</td>\n",
       "      <td>Supermarket Type2</td>\n",
       "      <td>443.4228</td>\n",
       "    </tr>\n",
       "    <tr>\n",
       "      <th>2</th>\n",
       "      <td>FDN15</td>\n",
       "      <td>17.50</td>\n",
       "      <td>Low Fat</td>\n",
       "      <td>0.016760</td>\n",
       "      <td>Meat</td>\n",
       "      <td>141.6180</td>\n",
       "      <td>OUT049</td>\n",
       "      <td>1999</td>\n",
       "      <td>Medium</td>\n",
       "      <td>Tier 1</td>\n",
       "      <td>Supermarket Type1</td>\n",
       "      <td>2097.2700</td>\n",
       "    </tr>\n",
       "    <tr>\n",
       "      <th>3</th>\n",
       "      <td>FDX07</td>\n",
       "      <td>19.20</td>\n",
       "      <td>Regular</td>\n",
       "      <td>0.000000</td>\n",
       "      <td>Fruits and Vegetables</td>\n",
       "      <td>182.0950</td>\n",
       "      <td>OUT010</td>\n",
       "      <td>1998</td>\n",
       "      <td>NaN</td>\n",
       "      <td>Tier 3</td>\n",
       "      <td>Grocery Store</td>\n",
       "      <td>732.3800</td>\n",
       "    </tr>\n",
       "    <tr>\n",
       "      <th>4</th>\n",
       "      <td>NCD19</td>\n",
       "      <td>8.93</td>\n",
       "      <td>Low Fat</td>\n",
       "      <td>0.000000</td>\n",
       "      <td>Household</td>\n",
       "      <td>53.8614</td>\n",
       "      <td>OUT013</td>\n",
       "      <td>1987</td>\n",
       "      <td>High</td>\n",
       "      <td>Tier 3</td>\n",
       "      <td>Supermarket Type1</td>\n",
       "      <td>994.7052</td>\n",
       "    </tr>\n",
       "  </tbody>\n",
       "</table>\n",
       "</div>"
      ],
      "text/plain": [
       "  Item_Identifier  Item_Weight Item_Fat_Content  Item_Visibility  \\\n",
       "0           FDA15         9.30          Low Fat         0.016047   \n",
       "1           DRC01         5.92          Regular         0.019278   \n",
       "2           FDN15        17.50          Low Fat         0.016760   \n",
       "3           FDX07        19.20          Regular         0.000000   \n",
       "4           NCD19         8.93          Low Fat         0.000000   \n",
       "\n",
       "               Item_Type  Item_MRP Outlet_Identifier  \\\n",
       "0                  Dairy  249.8092            OUT049   \n",
       "1            Soft Drinks   48.2692            OUT018   \n",
       "2                   Meat  141.6180            OUT049   \n",
       "3  Fruits and Vegetables  182.0950            OUT010   \n",
       "4              Household   53.8614            OUT013   \n",
       "\n",
       "   Outlet_Establishment_Year Outlet_Size Outlet_Location_Type  \\\n",
       "0                       1999      Medium               Tier 1   \n",
       "1                       2009      Medium               Tier 3   \n",
       "2                       1999      Medium               Tier 1   \n",
       "3                       1998         NaN               Tier 3   \n",
       "4                       1987        High               Tier 3   \n",
       "\n",
       "         Outlet_Type  Item_Outlet_Sales  \n",
       "0  Supermarket Type1          3735.1380  \n",
       "1  Supermarket Type2           443.4228  \n",
       "2  Supermarket Type1          2097.2700  \n",
       "3      Grocery Store           732.3800  \n",
       "4  Supermarket Type1           994.7052  "
      ]
     },
     "execution_count": 165,
     "metadata": {},
     "output_type": "execute_result"
    }
   ],
   "source": [
    "data.head()"
   ]
  },
  {
   "cell_type": "code",
   "execution_count": 166,
   "metadata": {},
   "outputs": [
    {
     "data": {
      "text/plain": [
       "Index(['Item_Identifier', 'Item_Weight', 'Item_Fat_Content', 'Item_Visibility',\n",
       "       'Item_Type', 'Item_MRP', 'Outlet_Identifier',\n",
       "       'Outlet_Establishment_Year', 'Outlet_Size', 'Outlet_Location_Type',\n",
       "       'Outlet_Type', 'Item_Outlet_Sales'],\n",
       "      dtype='object')"
      ]
     },
     "execution_count": 166,
     "metadata": {},
     "output_type": "execute_result"
    }
   ],
   "source": [
    "data.columns"
   ]
  },
  {
   "cell_type": "code",
   "execution_count": 167,
   "metadata": {},
   "outputs": [
    {
     "name": "stdout",
     "output_type": "stream",
     "text": [
      "<class 'pandas.core.frame.DataFrame'>\n",
      "RangeIndex: 8523 entries, 0 to 8522\n",
      "Data columns (total 12 columns):\n",
      " #   Column                     Non-Null Count  Dtype  \n",
      "---  ------                     --------------  -----  \n",
      " 0   Item_Identifier            8523 non-null   object \n",
      " 1   Item_Weight                7060 non-null   float64\n",
      " 2   Item_Fat_Content           8523 non-null   object \n",
      " 3   Item_Visibility            8523 non-null   float64\n",
      " 4   Item_Type                  8523 non-null   object \n",
      " 5   Item_MRP                   8523 non-null   float64\n",
      " 6   Outlet_Identifier          8523 non-null   object \n",
      " 7   Outlet_Establishment_Year  8523 non-null   int64  \n",
      " 8   Outlet_Size                6113 non-null   object \n",
      " 9   Outlet_Location_Type       8523 non-null   object \n",
      " 10  Outlet_Type                8523 non-null   object \n",
      " 11  Item_Outlet_Sales          8523 non-null   float64\n",
      "dtypes: float64(4), int64(1), object(7)\n",
      "memory usage: 799.2+ KB\n"
     ]
    }
   ],
   "source": [
    "data.info()"
   ]
  },
  {
   "cell_type": "code",
   "execution_count": 168,
   "metadata": {},
   "outputs": [
    {
     "data": {
      "text/html": [
       "<div>\n",
       "<style scoped>\n",
       "    .dataframe tbody tr th:only-of-type {\n",
       "        vertical-align: middle;\n",
       "    }\n",
       "\n",
       "    .dataframe tbody tr th {\n",
       "        vertical-align: top;\n",
       "    }\n",
       "\n",
       "    .dataframe thead th {\n",
       "        text-align: right;\n",
       "    }\n",
       "</style>\n",
       "<table border=\"1\" class=\"dataframe\">\n",
       "  <thead>\n",
       "    <tr style=\"text-align: right;\">\n",
       "      <th></th>\n",
       "      <th>Item_Weight</th>\n",
       "      <th>Item_Visibility</th>\n",
       "      <th>Item_MRP</th>\n",
       "      <th>Outlet_Establishment_Year</th>\n",
       "      <th>Item_Outlet_Sales</th>\n",
       "    </tr>\n",
       "  </thead>\n",
       "  <tbody>\n",
       "    <tr>\n",
       "      <th>count</th>\n",
       "      <td>7060.000000</td>\n",
       "      <td>8523.000000</td>\n",
       "      <td>8523.000000</td>\n",
       "      <td>8523.000000</td>\n",
       "      <td>8523.000000</td>\n",
       "    </tr>\n",
       "    <tr>\n",
       "      <th>mean</th>\n",
       "      <td>12.857645</td>\n",
       "      <td>0.066132</td>\n",
       "      <td>140.992782</td>\n",
       "      <td>1997.831867</td>\n",
       "      <td>2181.288914</td>\n",
       "    </tr>\n",
       "    <tr>\n",
       "      <th>std</th>\n",
       "      <td>4.643456</td>\n",
       "      <td>0.051598</td>\n",
       "      <td>62.275067</td>\n",
       "      <td>8.371760</td>\n",
       "      <td>1706.499616</td>\n",
       "    </tr>\n",
       "    <tr>\n",
       "      <th>min</th>\n",
       "      <td>4.555000</td>\n",
       "      <td>0.000000</td>\n",
       "      <td>31.290000</td>\n",
       "      <td>1985.000000</td>\n",
       "      <td>33.290000</td>\n",
       "    </tr>\n",
       "    <tr>\n",
       "      <th>25%</th>\n",
       "      <td>8.773750</td>\n",
       "      <td>0.026989</td>\n",
       "      <td>93.826500</td>\n",
       "      <td>1987.000000</td>\n",
       "      <td>834.247400</td>\n",
       "    </tr>\n",
       "    <tr>\n",
       "      <th>50%</th>\n",
       "      <td>12.600000</td>\n",
       "      <td>0.053931</td>\n",
       "      <td>143.012800</td>\n",
       "      <td>1999.000000</td>\n",
       "      <td>1794.331000</td>\n",
       "    </tr>\n",
       "    <tr>\n",
       "      <th>75%</th>\n",
       "      <td>16.850000</td>\n",
       "      <td>0.094585</td>\n",
       "      <td>185.643700</td>\n",
       "      <td>2004.000000</td>\n",
       "      <td>3101.296400</td>\n",
       "    </tr>\n",
       "    <tr>\n",
       "      <th>max</th>\n",
       "      <td>21.350000</td>\n",
       "      <td>0.328391</td>\n",
       "      <td>266.888400</td>\n",
       "      <td>2009.000000</td>\n",
       "      <td>13086.964800</td>\n",
       "    </tr>\n",
       "  </tbody>\n",
       "</table>\n",
       "</div>"
      ],
      "text/plain": [
       "       Item_Weight  Item_Visibility     Item_MRP  Outlet_Establishment_Year  \\\n",
       "count  7060.000000      8523.000000  8523.000000                8523.000000   \n",
       "mean     12.857645         0.066132   140.992782                1997.831867   \n",
       "std       4.643456         0.051598    62.275067                   8.371760   \n",
       "min       4.555000         0.000000    31.290000                1985.000000   \n",
       "25%       8.773750         0.026989    93.826500                1987.000000   \n",
       "50%      12.600000         0.053931   143.012800                1999.000000   \n",
       "75%      16.850000         0.094585   185.643700                2004.000000   \n",
       "max      21.350000         0.328391   266.888400                2009.000000   \n",
       "\n",
       "       Item_Outlet_Sales  \n",
       "count        8523.000000  \n",
       "mean         2181.288914  \n",
       "std          1706.499616  \n",
       "min            33.290000  \n",
       "25%           834.247400  \n",
       "50%          1794.331000  \n",
       "75%          3101.296400  \n",
       "max         13086.964800  "
      ]
     },
     "execution_count": 168,
     "metadata": {},
     "output_type": "execute_result"
    }
   ],
   "source": [
    "data.describe()"
   ]
  },
  {
   "cell_type": "code",
   "execution_count": 169,
   "metadata": {},
   "outputs": [
    {
     "data": {
      "text/html": [
       "<div>\n",
       "<style scoped>\n",
       "    .dataframe tbody tr th:only-of-type {\n",
       "        vertical-align: middle;\n",
       "    }\n",
       "\n",
       "    .dataframe tbody tr th {\n",
       "        vertical-align: top;\n",
       "    }\n",
       "\n",
       "    .dataframe thead th {\n",
       "        text-align: right;\n",
       "    }\n",
       "</style>\n",
       "<table border=\"1\" class=\"dataframe\">\n",
       "  <thead>\n",
       "    <tr style=\"text-align: right;\">\n",
       "      <th></th>\n",
       "      <th>Item_Identifier</th>\n",
       "      <th>Item_Fat_Content</th>\n",
       "      <th>Item_Type</th>\n",
       "      <th>Outlet_Identifier</th>\n",
       "      <th>Outlet_Size</th>\n",
       "      <th>Outlet_Location_Type</th>\n",
       "      <th>Outlet_Type</th>\n",
       "    </tr>\n",
       "  </thead>\n",
       "  <tbody>\n",
       "    <tr>\n",
       "      <th>count</th>\n",
       "      <td>8523</td>\n",
       "      <td>8523</td>\n",
       "      <td>8523</td>\n",
       "      <td>8523</td>\n",
       "      <td>6113</td>\n",
       "      <td>8523</td>\n",
       "      <td>8523</td>\n",
       "    </tr>\n",
       "    <tr>\n",
       "      <th>unique</th>\n",
       "      <td>1559</td>\n",
       "      <td>5</td>\n",
       "      <td>16</td>\n",
       "      <td>10</td>\n",
       "      <td>3</td>\n",
       "      <td>3</td>\n",
       "      <td>4</td>\n",
       "    </tr>\n",
       "    <tr>\n",
       "      <th>top</th>\n",
       "      <td>FDW13</td>\n",
       "      <td>Low Fat</td>\n",
       "      <td>Fruits and Vegetables</td>\n",
       "      <td>OUT027</td>\n",
       "      <td>Medium</td>\n",
       "      <td>Tier 3</td>\n",
       "      <td>Supermarket Type1</td>\n",
       "    </tr>\n",
       "    <tr>\n",
       "      <th>freq</th>\n",
       "      <td>10</td>\n",
       "      <td>5089</td>\n",
       "      <td>1232</td>\n",
       "      <td>935</td>\n",
       "      <td>2793</td>\n",
       "      <td>3350</td>\n",
       "      <td>5577</td>\n",
       "    </tr>\n",
       "  </tbody>\n",
       "</table>\n",
       "</div>"
      ],
      "text/plain": [
       "       Item_Identifier Item_Fat_Content              Item_Type  \\\n",
       "count             8523             8523                   8523   \n",
       "unique            1559                5                     16   \n",
       "top              FDW13          Low Fat  Fruits and Vegetables   \n",
       "freq                10             5089                   1232   \n",
       "\n",
       "       Outlet_Identifier Outlet_Size Outlet_Location_Type        Outlet_Type  \n",
       "count               8523        6113                 8523               8523  \n",
       "unique                10           3                    3                  4  \n",
       "top               OUT027      Medium               Tier 3  Supermarket Type1  \n",
       "freq                 935        2793                 3350               5577  "
      ]
     },
     "execution_count": 169,
     "metadata": {},
     "output_type": "execute_result"
    }
   ],
   "source": [
    "data.describe(include='O')"
   ]
  },
  {
   "cell_type": "code",
   "execution_count": 170,
   "metadata": {},
   "outputs": [
    {
     "data": {
      "text/plain": [
       "Item_Identifier               0.000000\n",
       "Item_Weight                  17.165317\n",
       "Item_Fat_Content              0.000000\n",
       "Item_Visibility               0.000000\n",
       "Item_Type                     0.000000\n",
       "Item_MRP                      0.000000\n",
       "Outlet_Identifier             0.000000\n",
       "Outlet_Establishment_Year     0.000000\n",
       "Outlet_Size                  28.276428\n",
       "Outlet_Location_Type          0.000000\n",
       "Outlet_Type                   0.000000\n",
       "Item_Outlet_Sales             0.000000\n",
       "dtype: float64"
      ]
     },
     "execution_count": 170,
     "metadata": {},
     "output_type": "execute_result"
    }
   ],
   "source": [
    "data.isnull().mean() * 100"
   ]
  },
  {
   "cell_type": "code",
   "execution_count": 13,
   "metadata": {},
   "outputs": [],
   "source": [
    "#data.dropna(how='any',axis=0,inplace=True)\n",
    "#data.shape (4650,12) # dropping almost half of the records which will not be good for the Model"
   ]
  },
  {
   "cell_type": "code",
   "execution_count": null,
   "metadata": {},
   "outputs": [],
   "source": []
  },
  {
   "cell_type": "markdown",
   "metadata": {},
   "source": [
    "### There are total 12 columns\n",
    "- **11 are Independent variable**               \n",
    "    Item_Identifier                    \n",
    "    Item_Weight                    \n",
    "    Item_Fat_Content                    \n",
    "    Item_Visibility                  \n",
    "    Item_Type                      \n",
    "    Item_MRP                      \n",
    "    Outlet_Identifier                    \n",
    "    Outlet_Establishment_Year                \n",
    "    Outlet_Size                             \n",
    "    Outlet_Location_Type                    \n",
    "    Outlet_Type    \n",
    "    \n",
    "    \n",
    "\n",
    "- **1 target variable (numerical feature)**               \n",
    "    Item_Outlet_Sales                  "
   ]
  },
  {
   "cell_type": "markdown",
   "metadata": {},
   "source": [
    "## **Independent Variable**\n",
    "\n",
    "**Numerical features**                   \n",
    "Item_Weight ;                                                                                              \t\n",
    "Item_Visibility                         \n",
    "Item_MRP                      \n",
    "Outlet_Establishment_Year                          \n",
    "\n",
    "**Categorical features**                  \n",
    "Item_Identifier              \n",
    "Item_Fat_Content               \n",
    "Item_Type                    \n",
    "Outlet_Identifier                 \n",
    "Outlet_Size                  \n",
    "Outlet_Location_Type                 \n",
    "Outlet_Type                      \n",
    "\n",
    "\n",
    "\n"
   ]
  },
  {
   "cell_type": "markdown",
   "metadata": {},
   "source": [
    "## UNIVARIATE\n",
    "\n",
    "### Numerical\n",
    "\n",
    "\n",
    "\n",
    "\n"
   ]
  },
  {
   "cell_type": "code",
   "execution_count": 209,
   "metadata": {},
   "outputs": [
    {
     "name": "stderr",
     "output_type": "stream",
     "text": [
      "C:\\Users\\aarti\\anaconda3\\lib\\site-packages\\ipykernel_launcher.py:2: SettingWithCopyWarning: \n",
      "A value is trying to be set on a copy of a slice from a DataFrame.\n",
      "Try using .loc[row_indexer,col_indexer] = value instead\n",
      "\n",
      "See the caveats in the documentation: https://pandas.pydata.org/pandas-docs/stable/user_guide/indexing.html#returning-a-view-versus-a-copy\n",
      "  \n"
     ]
    }
   ],
   "source": [
    "#data['Item_Visibility'] = np.log(data['Item_Visibility'])\n",
    "data[data['Item_Visibility']== 0]['Item_Visibility'] = data['Item_Visibility'].mean()"
   ]
  },
  {
   "cell_type": "code",
   "execution_count": 221,
   "metadata": {},
   "outputs": [
    {
     "ename": "ValueError",
     "evalue": "Data must be positive.",
     "output_type": "error",
     "traceback": [
      "\u001b[1;31m---------------------------------------------------------------------------\u001b[0m",
      "\u001b[1;31mValueError\u001b[0m                                Traceback (most recent call last)",
      "\u001b[1;32m<ipython-input-221-7fe888315348>\u001b[0m in \u001b[0;36m<module>\u001b[1;34m\u001b[0m\n\u001b[1;32m----> 1\u001b[1;33m \u001b[0mtdata\u001b[0m \u001b[1;33m=\u001b[0m \u001b[0mscipy\u001b[0m\u001b[1;33m.\u001b[0m\u001b[0mstats\u001b[0m\u001b[1;33m.\u001b[0m\u001b[0mboxcox\u001b[0m\u001b[1;33m(\u001b[0m\u001b[0mdata\u001b[0m\u001b[1;33m[\u001b[0m\u001b[1;34m'Item_Visibility'\u001b[0m\u001b[1;33m]\u001b[0m\u001b[1;33m)\u001b[0m\u001b[1;33m[\u001b[0m\u001b[1;36m0\u001b[0m\u001b[1;33m]\u001b[0m\u001b[1;33m\u001b[0m\u001b[1;33m\u001b[0m\u001b[0m\n\u001b[0m\u001b[0;32m      2\u001b[0m \u001b[0mplt\u001b[0m\u001b[1;33m.\u001b[0m\u001b[0mfigure\u001b[0m\u001b[1;33m(\u001b[0m\u001b[0mfigsize\u001b[0m \u001b[1;33m=\u001b[0m \u001b[1;33m(\u001b[0m\u001b[1;36m8\u001b[0m\u001b[1;33m,\u001b[0m \u001b[1;36m8\u001b[0m\u001b[1;33m)\u001b[0m\u001b[1;33m)\u001b[0m\u001b[1;33m\u001b[0m\u001b[1;33m\u001b[0m\u001b[0m\n\u001b[0;32m      3\u001b[0m \u001b[0msns\u001b[0m\u001b[1;33m.\u001b[0m\u001b[0mdistplot\u001b[0m\u001b[1;33m(\u001b[0m\u001b[0mtdata\u001b[0m\u001b[1;33m)\u001b[0m\u001b[1;33m\u001b[0m\u001b[1;33m\u001b[0m\u001b[0m\n\u001b[0;32m      4\u001b[0m \u001b[0mplt\u001b[0m\u001b[1;33m.\u001b[0m\u001b[0mshow\u001b[0m\u001b[1;33m(\u001b[0m\u001b[1;33m)\u001b[0m\u001b[1;33m\u001b[0m\u001b[1;33m\u001b[0m\u001b[0m\n",
      "\u001b[1;32m~\\anaconda3\\lib\\site-packages\\scipy\\stats\\morestats.py\u001b[0m in \u001b[0;36mboxcox\u001b[1;34m(x, lmbda, alpha)\u001b[0m\n\u001b[0;32m   1043\u001b[0m \u001b[1;33m\u001b[0m\u001b[0m\n\u001b[0;32m   1044\u001b[0m     \u001b[1;32mif\u001b[0m \u001b[0many\u001b[0m\u001b[1;33m(\u001b[0m\u001b[0mx\u001b[0m \u001b[1;33m<=\u001b[0m \u001b[1;36m0\u001b[0m\u001b[1;33m)\u001b[0m\u001b[1;33m:\u001b[0m\u001b[1;33m\u001b[0m\u001b[1;33m\u001b[0m\u001b[0m\n\u001b[1;32m-> 1045\u001b[1;33m         \u001b[1;32mraise\u001b[0m \u001b[0mValueError\u001b[0m\u001b[1;33m(\u001b[0m\u001b[1;34m\"Data must be positive.\"\u001b[0m\u001b[1;33m)\u001b[0m\u001b[1;33m\u001b[0m\u001b[1;33m\u001b[0m\u001b[0m\n\u001b[0m\u001b[0;32m   1046\u001b[0m \u001b[1;33m\u001b[0m\u001b[0m\n\u001b[0;32m   1047\u001b[0m     \u001b[1;32mif\u001b[0m \u001b[0mlmbda\u001b[0m \u001b[1;32mis\u001b[0m \u001b[1;32mnot\u001b[0m \u001b[1;32mNone\u001b[0m\u001b[1;33m:\u001b[0m  \u001b[1;31m# single transformation\u001b[0m\u001b[1;33m\u001b[0m\u001b[1;33m\u001b[0m\u001b[0m\n",
      "\u001b[1;31mValueError\u001b[0m: Data must be positive."
     ]
    }
   ],
   "source": [
    "tdata = scipy.stats.boxcox(data['Item_Visibility'])[0]\n",
    "plt.figure(figsize = (8, 8))\n",
    "sns.distplot(tdata)\n",
    "plt.show()"
   ]
  },
  {
   "cell_type": "code",
   "execution_count": null,
   "metadata": {},
   "outputs": [],
   "source": []
  },
  {
   "cell_type": "code",
   "execution_count": 208,
   "metadata": {},
   "outputs": [
    {
     "data": {
      "text/html": [
       "<div>\n",
       "<style scoped>\n",
       "    .dataframe tbody tr th:only-of-type {\n",
       "        vertical-align: middle;\n",
       "    }\n",
       "\n",
       "    .dataframe tbody tr th {\n",
       "        vertical-align: top;\n",
       "    }\n",
       "\n",
       "    .dataframe thead th {\n",
       "        text-align: right;\n",
       "    }\n",
       "</style>\n",
       "<table border=\"1\" class=\"dataframe\">\n",
       "  <thead>\n",
       "    <tr style=\"text-align: right;\">\n",
       "      <th></th>\n",
       "      <th>Item_Visibility</th>\n",
       "    </tr>\n",
       "  </thead>\n",
       "  <tbody>\n",
       "    <tr>\n",
       "      <th>0</th>\n",
       "      <td>False</td>\n",
       "    </tr>\n",
       "    <tr>\n",
       "      <th>1</th>\n",
       "      <td>False</td>\n",
       "    </tr>\n",
       "    <tr>\n",
       "      <th>2</th>\n",
       "      <td>False</td>\n",
       "    </tr>\n",
       "    <tr>\n",
       "      <th>3</th>\n",
       "      <td>True</td>\n",
       "    </tr>\n",
       "    <tr>\n",
       "      <th>4</th>\n",
       "      <td>True</td>\n",
       "    </tr>\n",
       "    <tr>\n",
       "      <th>...</th>\n",
       "      <td>...</td>\n",
       "    </tr>\n",
       "    <tr>\n",
       "      <th>8518</th>\n",
       "      <td>False</td>\n",
       "    </tr>\n",
       "    <tr>\n",
       "      <th>8519</th>\n",
       "      <td>False</td>\n",
       "    </tr>\n",
       "    <tr>\n",
       "      <th>8520</th>\n",
       "      <td>False</td>\n",
       "    </tr>\n",
       "    <tr>\n",
       "      <th>8521</th>\n",
       "      <td>False</td>\n",
       "    </tr>\n",
       "    <tr>\n",
       "      <th>8522</th>\n",
       "      <td>False</td>\n",
       "    </tr>\n",
       "  </tbody>\n",
       "</table>\n",
       "<p>8523 rows × 1 columns</p>\n",
       "</div>"
      ],
      "text/plain": [
       "      Item_Visibility\n",
       "0               False\n",
       "1               False\n",
       "2               False\n",
       "3                True\n",
       "4                True\n",
       "...               ...\n",
       "8518            False\n",
       "8519            False\n",
       "8520            False\n",
       "8521            False\n",
       "8522            False\n",
       "\n",
       "[8523 rows x 1 columns]"
      ]
     },
     "execution_count": 208,
     "metadata": {},
     "output_type": "execute_result"
    }
   ],
   "source": [
    "data.loc[:,['Item_Visibility']] == 0"
   ]
  },
  {
   "cell_type": "code",
   "execution_count": null,
   "metadata": {},
   "outputs": [],
   "source": []
  },
  {
   "cell_type": "code",
   "execution_count": 194,
   "metadata": {},
   "outputs": [
    {
     "ename": "AttributeError",
     "evalue": "'DataFrame' object has no attribute 'reshape'",
     "output_type": "error",
     "traceback": [
      "\u001b[1;31m---------------------------------------------------------------------------\u001b[0m",
      "\u001b[1;31mAttributeError\u001b[0m                            Traceback (most recent call last)",
      "\u001b[1;32m<ipython-input-194-4c9ef525d702>\u001b[0m in \u001b[0;36m<module>\u001b[1;34m\u001b[0m\n\u001b[0;32m      2\u001b[0m \u001b[0mscaler\u001b[0m \u001b[1;33m=\u001b[0m \u001b[0mPowerTransformer\u001b[0m\u001b[1;33m(\u001b[0m\u001b[0mmethod\u001b[0m \u001b[1;33m=\u001b[0m \u001b[1;34m'box-cox'\u001b[0m\u001b[1;33m)\u001b[0m\u001b[1;33m\u001b[0m\u001b[1;33m\u001b[0m\u001b[0m\n\u001b[0;32m      3\u001b[0m \u001b[1;33m\u001b[0m\u001b[0m\n\u001b[1;32m----> 4\u001b[1;33m \u001b[0mdata\u001b[0m\u001b[1;33m[\u001b[0m\u001b[1;34m'Item_Visibility_1'\u001b[0m\u001b[1;33m]\u001b[0m \u001b[1;33m=\u001b[0m \u001b[0mscaler\u001b[0m\u001b[1;33m.\u001b[0m\u001b[0mfit_transform\u001b[0m\u001b[1;33m(\u001b[0m\u001b[0mdata\u001b[0m\u001b[1;33m[\u001b[0m\u001b[1;33m[\u001b[0m\u001b[1;34m'Item_Visibility'\u001b[0m\u001b[1;33m]\u001b[0m\u001b[1;33m]\u001b[0m\u001b[1;33m.\u001b[0m\u001b[0mreshape\u001b[0m\u001b[1;33m(\u001b[0m\u001b[1;33m-\u001b[0m\u001b[1;36m1\u001b[0m\u001b[1;33m,\u001b[0m \u001b[1;36m1\u001b[0m\u001b[1;33m)\u001b[0m\u001b[1;33m)\u001b[0m\u001b[1;33m\u001b[0m\u001b[1;33m\u001b[0m\u001b[0m\n\u001b[0m\u001b[0;32m      5\u001b[0m \u001b[1;31m#data['Item_Visibility_1'].hist()\u001b[0m\u001b[1;33m\u001b[0m\u001b[1;33m\u001b[0m\u001b[1;33m\u001b[0m\u001b[0m\n",
      "\u001b[1;32m~\\anaconda3\\lib\\site-packages\\pandas\\core\\generic.py\u001b[0m in \u001b[0;36m__getattr__\u001b[1;34m(self, name)\u001b[0m\n\u001b[0;32m   5272\u001b[0m             \u001b[1;32mif\u001b[0m \u001b[0mself\u001b[0m\u001b[1;33m.\u001b[0m\u001b[0m_info_axis\u001b[0m\u001b[1;33m.\u001b[0m\u001b[0m_can_hold_identifiers_and_holds_name\u001b[0m\u001b[1;33m(\u001b[0m\u001b[0mname\u001b[0m\u001b[1;33m)\u001b[0m\u001b[1;33m:\u001b[0m\u001b[1;33m\u001b[0m\u001b[1;33m\u001b[0m\u001b[0m\n\u001b[0;32m   5273\u001b[0m                 \u001b[1;32mreturn\u001b[0m \u001b[0mself\u001b[0m\u001b[1;33m[\u001b[0m\u001b[0mname\u001b[0m\u001b[1;33m]\u001b[0m\u001b[1;33m\u001b[0m\u001b[1;33m\u001b[0m\u001b[0m\n\u001b[1;32m-> 5274\u001b[1;33m             \u001b[1;32mreturn\u001b[0m \u001b[0mobject\u001b[0m\u001b[1;33m.\u001b[0m\u001b[0m__getattribute__\u001b[0m\u001b[1;33m(\u001b[0m\u001b[0mself\u001b[0m\u001b[1;33m,\u001b[0m \u001b[0mname\u001b[0m\u001b[1;33m)\u001b[0m\u001b[1;33m\u001b[0m\u001b[1;33m\u001b[0m\u001b[0m\n\u001b[0m\u001b[0;32m   5275\u001b[0m \u001b[1;33m\u001b[0m\u001b[0m\n\u001b[0;32m   5276\u001b[0m     \u001b[1;32mdef\u001b[0m \u001b[0m__setattr__\u001b[0m\u001b[1;33m(\u001b[0m\u001b[0mself\u001b[0m\u001b[1;33m,\u001b[0m \u001b[0mname\u001b[0m\u001b[1;33m:\u001b[0m \u001b[0mstr\u001b[0m\u001b[1;33m,\u001b[0m \u001b[0mvalue\u001b[0m\u001b[1;33m)\u001b[0m \u001b[1;33m->\u001b[0m \u001b[1;32mNone\u001b[0m\u001b[1;33m:\u001b[0m\u001b[1;33m\u001b[0m\u001b[1;33m\u001b[0m\u001b[0m\n",
      "\u001b[1;31mAttributeError\u001b[0m: 'DataFrame' object has no attribute 'reshape'"
     ]
    }
   ],
   "source": [
    "from sklearn.preprocessing import PowerTransformer\n",
    "scaler = PowerTransformer(method = 'box-cox')\n",
    "\n",
    "data['Item_Visibility_1'] = scaler.fit_transform(data[['Item_Visibility']].reshape(-1, 1))\n",
    "#data['Item_Visibility_1'].hist()"
   ]
  },
  {
   "cell_type": "code",
   "execution_count": 186,
   "metadata": {},
   "outputs": [
    {
     "data": {
      "text/plain": [
       "3       0.0\n",
       "4       0.0\n",
       "5       0.0\n",
       "10      0.0\n",
       "32      0.0\n",
       "       ... \n",
       "8480    0.0\n",
       "8484    0.0\n",
       "8486    0.0\n",
       "8494    0.0\n",
       "8500    0.0\n",
       "Name: Item_Visibility, Length: 526, dtype: float64"
      ]
     },
     "execution_count": 186,
     "metadata": {},
     "output_type": "execute_result"
    }
   ],
   "source": [
    "data[data['Item_Visibility']== 0]['Item_Visibility'] "
   ]
  },
  {
   "cell_type": "code",
   "execution_count": 15,
   "metadata": {},
   "outputs": [
    {
     "data": {
      "image/png": "[encoded data removed]",
      "text/plain": [
       "<Figure size 432x288 with 2 Axes>"
      ]
     },
     "metadata": {
      "needs_background": "light"
     },
     "output_type": "display_data"
    }
   ],
   "source": [
    "# remove Nan values before plotting graph otherwise it will throw error\n",
    "plt.figure(1)\n",
    "plt.subplot(121)\n",
    "sns.distplot(data['Item_Visibility'])\n",
    "\n",
    "plt.subplot(122)\n",
    "\n",
    "data['Item_Visibility'].plot.box()\n",
    "plt.show()"
   ]
  },
  {
   "cell_type": "markdown",
   "metadata": {},
   "source": [
    "### Categorical"
   ]
  },
  {
   "cell_type": "markdown",
   "metadata": {},
   "source": [
    "Item_Fat_Content              \n",
    "Item_Type                  \n",
    "Outlet_Identifier            \n",
    "Outlet_Size                 \n",
    "Outlet_Location_Type              \n",
    "Outlet_Type            "
   ]
  },
  {
   "cell_type": "code",
   "execution_count": 16,
   "metadata": {},
   "outputs": [
    {
     "data": {
      "text/plain": [
       "Low Fat    5089\n",
       "Regular    2889\n",
       "LF          316\n",
       "reg         117\n",
       "low fat     112\n",
       "Name: Item_Fat_Content, dtype: int64"
      ]
     },
     "execution_count": 16,
     "metadata": {},
     "output_type": "execute_result"
    }
   ],
   "source": [
    "data['Item_Fat_Content'].value_counts()"
   ]
  },
  {
   "cell_type": "code",
   "execution_count": 17,
   "metadata": {},
   "outputs": [],
   "source": [
    "fat_content = {\n",
    "    'Low Fat': 'Low Fat',\n",
    "    'LF': 'Low Fat',\n",
    "    'low fat': 'Low Fat',\n",
    "    'Regular': 'Regular',\n",
    "    'reg': 'Regular',\n",
    "}"
   ]
  },
  {
   "cell_type": "code",
   "execution_count": 18,
   "metadata": {},
   "outputs": [],
   "source": [
    "data['Item_Fat_Content'] = data['Item_Fat_Content'].map(fat_content)"
   ]
  },
  {
   "cell_type": "code",
   "execution_count": 19,
   "metadata": {},
   "outputs": [
    {
     "data": {
      "text/plain": [
       "Low Fat    5517\n",
       "Regular    3006\n",
       "Name: Item_Fat_Content, dtype: int64"
      ]
     },
     "execution_count": 19,
     "metadata": {},
     "output_type": "execute_result"
    }
   ],
   "source": [
    "data['Item_Fat_Content'].value_counts()"
   ]
  },
  {
   "cell_type": "code",
   "execution_count": 20,
   "metadata": {},
   "outputs": [
    {
     "data": {
      "text/plain": [
       "Fruits and Vegetables    1232\n",
       "Snack Foods              1200\n",
       "Household                 910\n",
       "Frozen Foods              856\n",
       "Dairy                     682\n",
       "Canned                    649\n",
       "Baking Goods              648\n",
       "Health and Hygiene        520\n",
       "Soft Drinks               445\n",
       "Meat                      425\n",
       "Breads                    251\n",
       "Hard Drinks               214\n",
       "Others                    169\n",
       "Starchy Foods             148\n",
       "Breakfast                 110\n",
       "Seafood                    64\n",
       "Name: Item_Type, dtype: int64"
      ]
     },
     "execution_count": 20,
     "metadata": {},
     "output_type": "execute_result"
    }
   ],
   "source": [
    "data['Item_Type'].value_counts()"
   ]
  },
  {
   "cell_type": "code",
   "execution_count": 21,
   "metadata": {},
   "outputs": [
    {
     "data": {
      "text/plain": [
       "OUT027    935\n",
       "OUT013    932\n",
       "OUT049    930\n",
       "OUT035    930\n",
       "OUT046    930\n",
       "OUT045    929\n",
       "OUT018    928\n",
       "OUT017    926\n",
       "OUT010    555\n",
       "OUT019    528\n",
       "Name: Outlet_Identifier, dtype: int64"
      ]
     },
     "execution_count": 21,
     "metadata": {},
     "output_type": "execute_result"
    }
   ],
   "source": [
    "data['Outlet_Identifier'].value_counts()"
   ]
  },
  {
   "cell_type": "code",
   "execution_count": 22,
   "metadata": {},
   "outputs": [
    {
     "data": {
      "text/plain": [
       "Medium    2793\n",
       "Small     2388\n",
       "High       932\n",
       "Name: Outlet_Size, dtype: int64"
      ]
     },
     "execution_count": 22,
     "metadata": {},
     "output_type": "execute_result"
    }
   ],
   "source": [
    "data['Outlet_Size'].value_counts()"
   ]
  },
  {
   "cell_type": "code",
   "execution_count": 23,
   "metadata": {},
   "outputs": [
    {
     "data": {
      "text/plain": [
       "Tier 3    3350\n",
       "Tier 2    2785\n",
       "Tier 1    2388\n",
       "Name: Outlet_Location_Type, dtype: int64"
      ]
     },
     "execution_count": 23,
     "metadata": {},
     "output_type": "execute_result"
    }
   ],
   "source": [
    "data['Outlet_Location_Type'].value_counts()"
   ]
  },
  {
   "cell_type": "code",
   "execution_count": 24,
   "metadata": {},
   "outputs": [
    {
     "data": {
      "text/plain": [
       "Supermarket Type1    5577\n",
       "Grocery Store        1083\n",
       "Supermarket Type3     935\n",
       "Supermarket Type2     928\n",
       "Name: Outlet_Type, dtype: int64"
      ]
     },
     "execution_count": 24,
     "metadata": {},
     "output_type": "execute_result"
    }
   ],
   "source": [
    "data['Outlet_Type'].value_counts()"
   ]
  },
  {
   "cell_type": "markdown",
   "metadata": {},
   "source": [
    "## BI-VARIATE"
   ]
  },
  {
   "cell_type": "code",
   "execution_count": 25,
   "metadata": {},
   "outputs": [],
   "source": [
    "import statsmodels.formula.api as smf"
   ]
  },
  {
   "cell_type": "code",
   "execution_count": 26,
   "metadata": {},
   "outputs": [
    {
     "data": {
      "text/html": [
       "<table class=\"simpletable\">\n",
       "<caption>OLS Regression Results</caption>\n",
       "<tr>\n",
       "  <th>Dep. Variable:</th>    <td>Item_Outlet_Sales</td> <th>  R-squared:         </th> <td>   0.017</td> \n",
       "</tr>\n",
       "<tr>\n",
       "  <th>Model:</th>                   <td>OLS</td>        <th>  Adj. R-squared:    </th> <td>   0.016</td> \n",
       "</tr>\n",
       "<tr>\n",
       "  <th>Method:</th>             <td>Least Squares</td>   <th>  F-statistic:       </th> <td>   143.3</td> \n",
       "</tr>\n",
       "<tr>\n",
       "  <th>Date:</th>             <td>Tue, 24 Nov 2020</td>  <th>  Prob (F-statistic):</th> <td>9.04e-33</td> \n",
       "</tr>\n",
       "<tr>\n",
       "  <th>Time:</th>                 <td>08:40:51</td>      <th>  Log-Likelihood:    </th> <td> -75452.</td> \n",
       "</tr>\n",
       "<tr>\n",
       "  <th>No. Observations:</th>      <td>  8523</td>       <th>  AIC:               </th> <td>1.509e+05</td>\n",
       "</tr>\n",
       "<tr>\n",
       "  <th>Df Residuals:</th>          <td>  8521</td>       <th>  BIC:               </th> <td>1.509e+05</td>\n",
       "</tr>\n",
       "<tr>\n",
       "  <th>Df Model:</th>              <td>     1</td>       <th>                     </th>     <td> </td>    \n",
       "</tr>\n",
       "<tr>\n",
       "  <th>Covariance Type:</th>      <td>nonrobust</td>     <th>                     </th>     <td> </td>    \n",
       "</tr>\n",
       "</table>\n",
       "<table class=\"simpletable\">\n",
       "<tr>\n",
       "         <td></td>            <th>coef</th>     <th>std err</th>      <th>t</th>      <th>P>|t|</th>  <th>[0.025</th>    <th>0.975]</th>  \n",
       "</tr>\n",
       "<tr>\n",
       "  <th>Intercept</th>       <td> 2462.6155</td> <td>   29.803</td> <td>   82.631</td> <td> 0.000</td> <td> 2404.195</td> <td> 2521.036</td>\n",
       "</tr>\n",
       "<tr>\n",
       "  <th>Item_Visibility</th> <td>-4254.0139</td> <td>  355.310</td> <td>  -11.973</td> <td> 0.000</td> <td>-4950.507</td> <td>-3557.521</td>\n",
       "</tr>\n",
       "</table>\n",
       "<table class=\"simpletable\">\n",
       "<tr>\n",
       "  <th>Omnibus:</th>       <td>1625.343</td> <th>  Durbin-Watson:     </th> <td>   1.992</td>\n",
       "</tr>\n",
       "<tr>\n",
       "  <th>Prob(Omnibus):</th>  <td> 0.000</td>  <th>  Jarque-Bera (JB):  </th> <td>2993.949</td>\n",
       "</tr>\n",
       "<tr>\n",
       "  <th>Skew:</th>           <td> 1.193</td>  <th>  Prob(JB):          </th> <td>    0.00</td>\n",
       "</tr>\n",
       "<tr>\n",
       "  <th>Kurtosis:</th>       <td> 4.654</td>  <th>  Cond. No.          </th> <td>    19.5</td>\n",
       "</tr>\n",
       "</table><br/><br/>Warnings:<br/>[1] Standard Errors assume that the covariance matrix of the errors is correctly specified."
      ],
      "text/plain": [
       "<class 'statsmodels.iolib.summary.Summary'>\n",
       "\"\"\"\n",
       "                            OLS Regression Results                            \n",
       "==============================================================================\n",
       "Dep. Variable:      Item_Outlet_Sales   R-squared:                       0.017\n",
       "Model:                            OLS   Adj. R-squared:                  0.016\n",
       "Method:                 Least Squares   F-statistic:                     143.3\n",
       "Date:                Tue, 24 Nov 2020   Prob (F-statistic):           9.04e-33\n",
       "Time:                        08:40:51   Log-Likelihood:                -75452.\n",
       "No. Observations:                8523   AIC:                         1.509e+05\n",
       "Df Residuals:                    8521   BIC:                         1.509e+05\n",
       "Df Model:                           1                                         \n",
       "Covariance Type:            nonrobust                                         \n",
       "===================================================================================\n",
       "                      coef    std err          t      P>|t|      [0.025      0.975]\n",
       "-----------------------------------------------------------------------------------\n",
       "Intercept        2462.6155     29.803     82.631      0.000    2404.195    2521.036\n",
       "Item_Visibility -4254.0139    355.310    -11.973      0.000   -4950.507   -3557.521\n",
       "==============================================================================\n",
       "Omnibus:                     1625.343   Durbin-Watson:                   1.992\n",
       "Prob(Omnibus):                  0.000   Jarque-Bera (JB):             2993.949\n",
       "Skew:                           1.193   Prob(JB):                         0.00\n",
       "Kurtosis:                       4.654   Cond. No.                         19.5\n",
       "==============================================================================\n",
       "\n",
       "Warnings:\n",
       "[1] Standard Errors assume that the covariance matrix of the errors is correctly specified.\n",
       "\"\"\""
      ]
     },
     "execution_count": 26,
     "metadata": {},
     "output_type": "execute_result"
    }
   ],
   "source": [
    "ols = smf.ols(formula='Item_Outlet_Sales ~ Item_Visibility',data=data).fit()\n",
    "ols.summary()"
   ]
  },
  {
   "cell_type": "code",
   "execution_count": 27,
   "metadata": {},
   "outputs": [
    {
     "data": {
      "text/html": [
       "<table class=\"simpletable\">\n",
       "<caption>OLS Regression Results</caption>\n",
       "<tr>\n",
       "  <th>Dep. Variable:</th>    <td>Item_Outlet_Sales</td> <th>  R-squared:         </th> <td>   0.322</td> \n",
       "</tr>\n",
       "<tr>\n",
       "  <th>Model:</th>                   <td>OLS</td>        <th>  Adj. R-squared:    </th> <td>   0.322</td> \n",
       "</tr>\n",
       "<tr>\n",
       "  <th>Method:</th>             <td>Least Squares</td>   <th>  F-statistic:       </th> <td>   4049.</td> \n",
       "</tr>\n",
       "<tr>\n",
       "  <th>Date:</th>             <td>Tue, 24 Nov 2020</td>  <th>  Prob (F-statistic):</th>  <td>  0.00</td>  \n",
       "</tr>\n",
       "<tr>\n",
       "  <th>Time:</th>                 <td>08:40:52</td>      <th>  Log-Likelihood:    </th> <td> -73866.</td> \n",
       "</tr>\n",
       "<tr>\n",
       "  <th>No. Observations:</th>      <td>  8523</td>       <th>  AIC:               </th> <td>1.477e+05</td>\n",
       "</tr>\n",
       "<tr>\n",
       "  <th>Df Residuals:</th>          <td>  8521</td>       <th>  BIC:               </th> <td>1.478e+05</td>\n",
       "</tr>\n",
       "<tr>\n",
       "  <th>Df Model:</th>              <td>     1</td>       <th>                     </th>     <td> </td>    \n",
       "</tr>\n",
       "<tr>\n",
       "  <th>Covariance Type:</th>      <td>nonrobust</td>     <th>                     </th>     <td> </td>    \n",
       "</tr>\n",
       "</table>\n",
       "<table class=\"simpletable\">\n",
       "<tr>\n",
       "      <td></td>         <th>coef</th>     <th>std err</th>      <th>t</th>      <th>P>|t|</th>  <th>[0.025</th>    <th>0.975]</th>  \n",
       "</tr>\n",
       "<tr>\n",
       "  <th>Intercept</th> <td>  -11.5751</td> <td>   37.671</td> <td>   -0.307</td> <td> 0.759</td> <td>  -85.420</td> <td>   62.270</td>\n",
       "</tr>\n",
       "<tr>\n",
       "  <th>Item_MRP</th>  <td>   15.5530</td> <td>    0.244</td> <td>   63.635</td> <td> 0.000</td> <td>   15.074</td> <td>   16.032</td>\n",
       "</tr>\n",
       "</table>\n",
       "<table class=\"simpletable\">\n",
       "<tr>\n",
       "  <th>Omnibus:</th>       <td>751.910</td> <th>  Durbin-Watson:     </th> <td>   1.988</td>\n",
       "</tr>\n",
       "<tr>\n",
       "  <th>Prob(Omnibus):</th> <td> 0.000</td>  <th>  Jarque-Bera (JB):  </th> <td>1620.941</td>\n",
       "</tr>\n",
       "<tr>\n",
       "  <th>Skew:</th>          <td> 0.566</td>  <th>  Prob(JB):          </th> <td>    0.00</td>\n",
       "</tr>\n",
       "<tr>\n",
       "  <th>Kurtosis:</th>      <td> 4.812</td>  <th>  Cond. No.          </th> <td>    382.</td>\n",
       "</tr>\n",
       "</table><br/><br/>Warnings:<br/>[1] Standard Errors assume that the covariance matrix of the errors is correctly specified."
      ],
      "text/plain": [
       "<class 'statsmodels.iolib.summary.Summary'>\n",
       "\"\"\"\n",
       "                            OLS Regression Results                            \n",
       "==============================================================================\n",
       "Dep. Variable:      Item_Outlet_Sales   R-squared:                       0.322\n",
       "Model:                            OLS   Adj. R-squared:                  0.322\n",
       "Method:                 Least Squares   F-statistic:                     4049.\n",
       "Date:                Tue, 24 Nov 2020   Prob (F-statistic):               0.00\n",
       "Time:                        08:40:52   Log-Likelihood:                -73866.\n",
       "No. Observations:                8523   AIC:                         1.477e+05\n",
       "Df Residuals:                    8521   BIC:                         1.478e+05\n",
       "Df Model:                           1                                         \n",
       "Covariance Type:            nonrobust                                         \n",
       "==============================================================================\n",
       "                 coef    std err          t      P>|t|      [0.025      0.975]\n",
       "------------------------------------------------------------------------------\n",
       "Intercept    -11.5751     37.671     -0.307      0.759     -85.420      62.270\n",
       "Item_MRP      15.5530      0.244     63.635      0.000      15.074      16.032\n",
       "==============================================================================\n",
       "Omnibus:                      751.910   Durbin-Watson:                   1.988\n",
       "Prob(Omnibus):                  0.000   Jarque-Bera (JB):             1620.941\n",
       "Skew:                           0.566   Prob(JB):                         0.00\n",
       "Kurtosis:                       4.812   Cond. No.                         382.\n",
       "==============================================================================\n",
       "\n",
       "Warnings:\n",
       "[1] Standard Errors assume that the covariance matrix of the errors is correctly specified.\n",
       "\"\"\""
      ]
     },
     "execution_count": 27,
     "metadata": {},
     "output_type": "execute_result"
    }
   ],
   "source": [
    "ols2 = smf.ols(formula='Item_Outlet_Sales ~ Item_MRP',data=data).fit()\n",
    "ols2.summary()"
   ]
  },
  {
   "cell_type": "code",
   "execution_count": 28,
   "metadata": {},
   "outputs": [
    {
     "data": {
      "text/html": [
       "<table class=\"simpletable\">\n",
       "<caption>OLS Regression Results</caption>\n",
       "<tr>\n",
       "  <th>Dep. Variable:</th>    <td>Item_Outlet_Sales</td> <th>  R-squared:         </th> <td>   0.002</td> \n",
       "</tr>\n",
       "<tr>\n",
       "  <th>Model:</th>                   <td>OLS</td>        <th>  Adj. R-squared:    </th> <td>   0.002</td> \n",
       "</tr>\n",
       "<tr>\n",
       "  <th>Method:</th>             <td>Least Squares</td>   <th>  F-statistic:       </th> <td>   20.62</td> \n",
       "</tr>\n",
       "<tr>\n",
       "  <th>Date:</th>             <td>Tue, 24 Nov 2020</td>  <th>  Prob (F-statistic):</th> <td>5.67e-06</td> \n",
       "</tr>\n",
       "<tr>\n",
       "  <th>Time:</th>                 <td>08:40:53</td>      <th>  Log-Likelihood:    </th> <td> -75513.</td> \n",
       "</tr>\n",
       "<tr>\n",
       "  <th>No. Observations:</th>      <td>  8523</td>       <th>  AIC:               </th> <td>1.510e+05</td>\n",
       "</tr>\n",
       "<tr>\n",
       "  <th>Df Residuals:</th>          <td>  8521</td>       <th>  BIC:               </th> <td>1.510e+05</td>\n",
       "</tr>\n",
       "<tr>\n",
       "  <th>Df Model:</th>              <td>     1</td>       <th>                     </th>     <td> </td>    \n",
       "</tr>\n",
       "<tr>\n",
       "  <th>Covariance Type:</th>      <td>nonrobust</td>     <th>                     </th>     <td> </td>    \n",
       "</tr>\n",
       "</table>\n",
       "<table class=\"simpletable\">\n",
       "<tr>\n",
       "              <td></td>                 <th>coef</th>     <th>std err</th>      <th>t</th>      <th>P>|t|</th>  <th>[0.025</th>    <th>0.975]</th>  \n",
       "</tr>\n",
       "<tr>\n",
       "  <th>Intercept</th>                 <td> 2.219e+04</td> <td> 4406.380</td> <td>    5.036</td> <td> 0.000</td> <td> 1.36e+04</td> <td> 3.08e+04</td>\n",
       "</tr>\n",
       "<tr>\n",
       "  <th>Outlet_Establishment_Year</th> <td>  -10.0157</td> <td>    2.206</td> <td>   -4.541</td> <td> 0.000</td> <td>  -14.339</td> <td>   -5.692</td>\n",
       "</tr>\n",
       "</table>\n",
       "<table class=\"simpletable\">\n",
       "<tr>\n",
       "  <th>Omnibus:</th>       <td>1502.025</td> <th>  Durbin-Watson:     </th> <td>   1.987</td>\n",
       "</tr>\n",
       "<tr>\n",
       "  <th>Prob(Omnibus):</th>  <td> 0.000</td>  <th>  Jarque-Bera (JB):  </th> <td>2634.450</td>\n",
       "</tr>\n",
       "<tr>\n",
       "  <th>Skew:</th>           <td> 1.136</td>  <th>  Prob(JB):          </th> <td>    0.00</td>\n",
       "</tr>\n",
       "<tr>\n",
       "  <th>Kurtosis:</th>       <td> 4.503</td>  <th>  Cond. No.          </th> <td>4.77e+05</td>\n",
       "</tr>\n",
       "</table><br/><br/>Warnings:<br/>[1] Standard Errors assume that the covariance matrix of the errors is correctly specified.<br/>[2] The condition number is large, 4.77e+05. This might indicate that there are<br/>strong multicollinearity or other numerical problems."
      ],
      "text/plain": [
       "<class 'statsmodels.iolib.summary.Summary'>\n",
       "\"\"\"\n",
       "                            OLS Regression Results                            \n",
       "==============================================================================\n",
       "Dep. Variable:      Item_Outlet_Sales   R-squared:                       0.002\n",
       "Model:                            OLS   Adj. R-squared:                  0.002\n",
       "Method:                 Least Squares   F-statistic:                     20.62\n",
       "Date:                Tue, 24 Nov 2020   Prob (F-statistic):           5.67e-06\n",
       "Time:                        08:40:53   Log-Likelihood:                -75513.\n",
       "No. Observations:                8523   AIC:                         1.510e+05\n",
       "Df Residuals:                    8521   BIC:                         1.510e+05\n",
       "Df Model:                           1                                         \n",
       "Covariance Type:            nonrobust                                         \n",
       "=============================================================================================\n",
       "                                coef    std err          t      P>|t|      [0.025      0.975]\n",
       "---------------------------------------------------------------------------------------------\n",
       "Intercept                  2.219e+04   4406.380      5.036      0.000    1.36e+04    3.08e+04\n",
       "Outlet_Establishment_Year   -10.0157      2.206     -4.541      0.000     -14.339      -5.692\n",
       "==============================================================================\n",
       "Omnibus:                     1502.025   Durbin-Watson:                   1.987\n",
       "Prob(Omnibus):                  0.000   Jarque-Bera (JB):             2634.450\n",
       "Skew:                           1.136   Prob(JB):                         0.00\n",
       "Kurtosis:                       4.503   Cond. No.                     4.77e+05\n",
       "==============================================================================\n",
       "\n",
       "Warnings:\n",
       "[1] Standard Errors assume that the covariance matrix of the errors is correctly specified.\n",
       "[2] The condition number is large, 4.77e+05. This might indicate that there are\n",
       "strong multicollinearity or other numerical problems.\n",
       "\"\"\""
      ]
     },
     "execution_count": 28,
     "metadata": {},
     "output_type": "execute_result"
    }
   ],
   "source": [
    "ols2 = smf.ols(formula='Item_Outlet_Sales ~ Outlet_Establishment_Year',data=data).fit()\n",
    "ols2.summary()"
   ]
  },
  {
   "cell_type": "markdown",
   "metadata": {},
   "source": [
    "## ANOVA TEST\n",
    "\n",
    "**1) Item_Fat_Content and Item_Outlet_Sales**                  \n",
    "\n",
    "**NULL hypothesis**: there is no relationship b/w Item_Fat_Content and Item_Outlet_Sales          \n",
    "**Alternate hypothesis**: there is relatioship b/w Item_Fat_Content and Item_Outlet_Sales    \n",
    "\n",
    "Below ols.summary() result shows that p-value(Prob (F-statistic):\t0.0840) is greater than 0.05, which means we should accept the NULL hypothesis.           \n",
    "\n",
    "But here we should not reply on ANOVA test as the categorical column have more than 2 categories. So we will go for tukey's test.\n",
    "\n",
    "\n",
    "Field : **Item_Fat_Content**             \n",
    "Low Fat 5517 ,Regular 3006\n"
   ]
  },
  {
   "cell_type": "code",
   "execution_count": 29,
   "metadata": {},
   "outputs": [
    {
     "data": {
      "image/png": "[encoded data removed]",
      "text/plain": [
       "<Figure size 360x360 with 1 Axes>"
      ]
     },
     "metadata": {
      "needs_background": "light"
     },
     "output_type": "display_data"
    }
   ],
   "source": [
    "# METHOD 1 (VISUALIZATION)\n",
    "sns.catplot(data=data,x='Item_Fat_Content',y='Item_Outlet_Sales',kind='bar')\n",
    "plt.show()\n",
    "# From the below image we can say that the mean of all the categories are alomst same...."
   ]
  },
  {
   "cell_type": "code",
   "execution_count": 30,
   "metadata": {},
   "outputs": [
    {
     "data": {
      "text/plain": [
       "<matplotlib.axes._subplots.AxesSubplot at 0x1fe1d17b308>"
      ]
     },
     "execution_count": 30,
     "metadata": {},
     "output_type": "execute_result"
    },
    {
     "data": {
      "image/png": "[encoded data removed]",
      "text/plain": [
       "<Figure size 432x288 with 1 Axes>"
      ]
     },
     "metadata": {
      "needs_background": "light"
     },
     "output_type": "display_data"
    }
   ],
   "source": [
    "# METHOD 2 (VISUALIZATION)\n",
    "data.boxplot('Item_Outlet_Sales',by='Item_Fat_Content')"
   ]
  },
  {
   "cell_type": "code",
   "execution_count": 31,
   "metadata": {},
   "outputs": [
    {
     "data": {
      "text/html": [
       "<table class=\"simpletable\">\n",
       "<caption>OLS Regression Results</caption>\n",
       "<tr>\n",
       "  <th>Dep. Variable:</th>    <td>Item_Outlet_Sales</td> <th>  R-squared:         </th> <td>   0.000</td> \n",
       "</tr>\n",
       "<tr>\n",
       "  <th>Model:</th>                   <td>OLS</td>        <th>  Adj. R-squared:    </th> <td>   0.000</td> \n",
       "</tr>\n",
       "<tr>\n",
       "  <th>Method:</th>             <td>Least Squares</td>   <th>  F-statistic:       </th> <td>   2.987</td> \n",
       "</tr>\n",
       "<tr>\n",
       "  <th>Date:</th>             <td>Tue, 24 Nov 2020</td>  <th>  Prob (F-statistic):</th>  <td>0.0840</td>  \n",
       "</tr>\n",
       "<tr>\n",
       "  <th>Time:</th>                 <td>08:41:17</td>      <th>  Log-Likelihood:    </th> <td> -75521.</td> \n",
       "</tr>\n",
       "<tr>\n",
       "  <th>No. Observations:</th>      <td>  8523</td>       <th>  AIC:               </th> <td>1.510e+05</td>\n",
       "</tr>\n",
       "<tr>\n",
       "  <th>Df Residuals:</th>          <td>  8521</td>       <th>  BIC:               </th> <td>1.511e+05</td>\n",
       "</tr>\n",
       "<tr>\n",
       "  <th>Df Model:</th>              <td>     1</td>       <th>                     </th>     <td> </td>    \n",
       "</tr>\n",
       "<tr>\n",
       "  <th>Covariance Type:</th>      <td>nonrobust</td>     <th>                     </th>     <td> </td>    \n",
       "</tr>\n",
       "</table>\n",
       "<table class=\"simpletable\">\n",
       "<tr>\n",
       "               <td></td>                  <th>coef</th>     <th>std err</th>      <th>t</th>      <th>P>|t|</th>  <th>[0.025</th>    <th>0.975]</th>  \n",
       "</tr>\n",
       "<tr>\n",
       "  <th>Intercept</th>                   <td> 2157.7115</td> <td>   22.972</td> <td>   93.927</td> <td> 0.000</td> <td> 2112.680</td> <td> 2202.743</td>\n",
       "</tr>\n",
       "<tr>\n",
       "  <th>Item_Fat_Content[T.Regular]</th> <td>   66.8496</td> <td>   38.682</td> <td>    1.728</td> <td> 0.084</td> <td>   -8.976</td> <td>  142.675</td>\n",
       "</tr>\n",
       "</table>\n",
       "<table class=\"simpletable\">\n",
       "<tr>\n",
       "  <th>Omnibus:</th>       <td>1592.405</td> <th>  Durbin-Watson:     </th> <td>   1.988</td>\n",
       "</tr>\n",
       "<tr>\n",
       "  <th>Prob(Omnibus):</th>  <td> 0.000</td>  <th>  Jarque-Bera (JB):  </th> <td>2897.868</td>\n",
       "</tr>\n",
       "<tr>\n",
       "  <th>Skew:</th>           <td> 1.177</td>  <th>  Prob(JB):          </th> <td>    0.00</td>\n",
       "</tr>\n",
       "<tr>\n",
       "  <th>Kurtosis:</th>       <td> 4.618</td>  <th>  Cond. No.          </th> <td>    2.42</td>\n",
       "</tr>\n",
       "</table><br/><br/>Warnings:<br/>[1] Standard Errors assume that the covariance matrix of the errors is correctly specified."
      ],
      "text/plain": [
       "<class 'statsmodels.iolib.summary.Summary'>\n",
       "\"\"\"\n",
       "                            OLS Regression Results                            \n",
       "==============================================================================\n",
       "Dep. Variable:      Item_Outlet_Sales   R-squared:                       0.000\n",
       "Model:                            OLS   Adj. R-squared:                  0.000\n",
       "Method:                 Least Squares   F-statistic:                     2.987\n",
       "Date:                Tue, 24 Nov 2020   Prob (F-statistic):             0.0840\n",
       "Time:                        08:41:17   Log-Likelihood:                -75521.\n",
       "No. Observations:                8523   AIC:                         1.510e+05\n",
       "Df Residuals:                    8521   BIC:                         1.511e+05\n",
       "Df Model:                           1                                         \n",
       "Covariance Type:            nonrobust                                         \n",
       "===============================================================================================\n",
       "                                  coef    std err          t      P>|t|      [0.025      0.975]\n",
       "-----------------------------------------------------------------------------------------------\n",
       "Intercept                    2157.7115     22.972     93.927      0.000    2112.680    2202.743\n",
       "Item_Fat_Content[T.Regular]    66.8496     38.682      1.728      0.084      -8.976     142.675\n",
       "==============================================================================\n",
       "Omnibus:                     1592.405   Durbin-Watson:                   1.988\n",
       "Prob(Omnibus):                  0.000   Jarque-Bera (JB):             2897.868\n",
       "Skew:                           1.177   Prob(JB):                         0.00\n",
       "Kurtosis:                       4.618   Cond. No.                         2.42\n",
       "==============================================================================\n",
       "\n",
       "Warnings:\n",
       "[1] Standard Errors assume that the covariance matrix of the errors is correctly specified.\n",
       "\"\"\""
      ]
     },
     "execution_count": 31,
     "metadata": {},
     "output_type": "execute_result"
    }
   ],
   "source": [
    "# METHOD 3 (Statistical)\n",
    "import statsmodels.formula.api as smf\n",
    "anova1 = smf.ols(formula='Item_Outlet_Sales ~(Item_Fat_Content)',data=data).fit()\n",
    "anova1.summary()"
   ]
  },
  {
   "attachments": {},
   "cell_type": "markdown",
   "metadata": {},
   "source": [
    "### **2) Item_Type and Item_Outlet_Sales**                  \n",
    "\n",
    "**NULL hypothesis**: there is no relationship b/w Item_Type and Item_Outlet_Sales          \n",
    "**Alternate hypothesis**: there is relatioship b/w Item_Type and Item_Outlet_Sales    \n",
    "\n",
    "Below ols.summary() result shows that p-value(Prob (F-statistic):\t0.0840) is greater than 0.05, which means we should accept the NULL hypothesis.           \n",
    "\n",
    "But here we should not reply on ANOVA test as the categorical column have more than 2 categories. So we will go for tukey's test.\n",
    "\n",
    "\n",
    "Field : **Item_Type**             \n",
    "Fruits and Vegetables----1232                         \n",
    "Snack Foods--------------1200                     \n",
    "Household-----------------910                        \n",
    "Frozen Foods--------------856                          \n",
    "Dairy---------------------682                       \n",
    "Canned--------------------649                     \n",
    "Baking Goods--------------648                       \n",
    "Health and Hygiene--------520                      \n",
    "Soft Drinks---------------445                            \n",
    "Meat----------------------425                            \n",
    "Breads--------------------251                            \n",
    "Hard Drinks---------------214                              \n",
    "Others--------------------169                           \n",
    "Starchy Foods-------------148                        \n",
    "Breakfast-----------------110                   \n",
    "Seafood--------------------64                  "
   ]
  },
  {
   "cell_type": "code",
   "execution_count": 88,
   "metadata": {},
   "outputs": [
    {
     "data": {
      "text/plain": [
       "<seaborn.axisgrid.FacetGrid at 0x1fe1e9e0988>"
      ]
     },
     "execution_count": 88,
     "metadata": {},
     "output_type": "execute_result"
    },
    {
     "data": {
      "image/png": "[encoded data removed]",
      "text/plain": [
       "<Figure size 1080x720 with 1 Axes>"
      ]
     },
     "metadata": {
      "needs_background": "light"
     },
     "output_type": "display_data"
    }
   ],
   "source": [
    "# METHOD - 1\n",
    "sns.catplot(data=data,x='Item_Type' , y ='Item_Outlet_Sales',kind='bar',ci=None,height=10, aspect=1.5)\n"
   ]
  },
  {
   "cell_type": "code",
   "execution_count": 42,
   "metadata": {},
   "outputs": [
    {
     "data": {
      "text/plain": [
       "<matplotlib.axes._subplots.AxesSubplot at 0x1fe20441488>"
      ]
     },
     "execution_count": 42,
     "metadata": {},
     "output_type": "execute_result"
    },
    {
     "data": {
      "image/png": "[encoded data removed]",
      "text/plain": [
       "<Figure size 1440x720 with 1 Axes>"
      ]
     },
     "metadata": {
      "needs_background": "light"
     },
     "output_type": "display_data"
    }
   ],
   "source": [
    "# METHOD - 2 \n",
    "data.boxplot('Item_Outlet_Sales',by='Item_Type',figsize=(20,10))"
   ]
  },
  {
   "cell_type": "code",
   "execution_count": 44,
   "metadata": {},
   "outputs": [],
   "source": [
    "import statsmodels"
   ]
  },
  {
   "cell_type": "code",
   "execution_count": 67,
   "metadata": {},
   "outputs": [
    {
     "name": "stdout",
     "output_type": "stream",
     "text": [
      "                  Multiple Comparison of Means - Tukey HSD, FWER=0.05                   \n",
      "========================================================================================\n",
      "        group1                group2         meandiff p-adj    lower      upper   reject\n",
      "----------------------------------------------------------------------------------------\n",
      "         Baking Goods                Breads   251.161 0.8108  -183.0066  685.3286  False\n",
      "         Baking Goods             Breakfast  158.8374    0.9  -443.3791   761.054  False\n",
      "         Baking Goods                Canned  272.2237 0.2272   -52.0876   596.535  False\n",
      "         Baking Goods                 Dairy  279.5714 0.1733   -40.7958  599.9386  False\n",
      "         Baking Goods          Frozen Foods  179.8965 0.7817   -124.193  483.9861  False\n",
      "         Baking Goods Fruits and Vegetables  336.0384  0.005    52.6461  619.4307   True\n",
      "         Baking Goods           Hard Drinks  186.2504    0.9   -274.177  646.6778  False\n",
      "         Baking Goods    Health and Hygiene   57.0291    0.9  -286.7934  400.8515  False\n",
      "         Baking Goods             Household  305.8131 0.0407     5.6361  605.9901   True\n",
      "         Baking Goods                  Meat  206.0067 0.8404   -158.512  570.5254  False\n",
      "         Baking Goods                Others  -26.8315    0.9  -531.2397  477.5767  False\n",
      "         Baking Goods               Seafood  373.0947    0.9  -392.0868 1138.2762  False\n",
      "         Baking Goods           Snack Foods  324.3505 0.0093    39.6588  609.0422   True\n",
      "         Baking Goods           Soft Drinks   53.5405    0.9  -305.9972  413.0783  False\n",
      "         Baking Goods         Starchy Foods  421.3616 0.3215  -110.6733  953.3965  False\n",
      "               Breads             Breakfast  -92.3236    0.9  -760.0866  575.4394  False\n",
      "               Breads                Canned   21.0627    0.9  -413.0115  455.1369  False\n",
      "               Breads                 Dairy   28.4104    0.9  -402.7251  459.5458  False\n",
      "               Breads          Frozen Foods  -71.2645    0.9  -490.4459  347.9169  False\n",
      "               Breads Fruits and Vegetables   84.8774    0.9  -319.5405  489.2952  False\n",
      "               Breads           Hard Drinks  -64.9106    0.9  -608.2669  478.4456  False\n",
      "               Breads    Health and Hygiene  -194.132    0.9   -642.971   254.707  False\n",
      "               Breads             Household   54.6521    0.9  -361.6998  471.0039  False\n",
      "               Breads                  Meat  -45.1543    0.9  -510.0376   419.729  False\n",
      "               Breads                Others -277.9925    0.9  -859.0865  303.1015  False\n",
      "               Breads               Seafood  121.9337    0.9  -695.8348  939.7022  False\n",
      "               Breads           Snack Foods   73.1895    0.9  -332.1399   478.519  False\n",
      "               Breads           Soft Drinks -197.6205    0.9  -658.6086  263.3676  False\n",
      "               Breads         Starchy Foods  170.2005    0.9  -435.0298  775.4309  False\n",
      "            Breakfast                Canned  113.3863    0.9   -488.763  715.5355  False\n",
      "            Breakfast                 Dairy  120.7339    0.9  -479.3002  720.7681  False\n",
      "            Breakfast          Frozen Foods   21.0591    0.9  -570.4444  612.5625  False\n",
      "            Breakfast Fruits and Vegetables  177.2009    0.9  -403.9333  758.3352  False\n",
      "            Breakfast           Hard Drinks    27.413    0.9  -657.7142  712.5402  False\n",
      "            Breakfast    Health and Hygiene -101.8084    0.9  -714.6866  511.0699  False\n",
      "            Breakfast             Household  146.9756    0.9  -442.5259  736.4772  False\n",
      "            Breakfast                  Meat   47.1693    0.9  -577.5545   671.893  False\n",
      "            Breakfast                Others -185.6689    0.9  -901.0943  529.7564  False\n",
      "            Breakfast               Seafood  214.2573    0.9  -703.8432 1132.3578  False\n",
      "            Breakfast           Snack Foods  165.5131    0.9   -416.256  747.2822  False\n",
      "            Breakfast           Soft Drinks -105.2969    0.9  -727.1275  516.5337  False\n",
      "            Breakfast         Starchy Foods  262.5241    0.9  -472.6405  997.6887  False\n",
      "               Canned                 Dairy    7.3477    0.9  -312.8929  327.5883  False\n",
      "               Canned          Frozen Foods  -92.3272    0.9  -396.2833   211.629  False\n",
      "               Canned Fruits and Vegetables   63.8147    0.9  -219.4345  347.0639  False\n",
      "               Canned           Hard Drinks  -85.9733    0.9  -546.3126  374.3661  False\n",
      "               Canned    Health and Hygiene -215.1946 0.7052  -558.8991  128.5098  False\n",
      "               Canned             Household   33.5894    0.9  -266.4525  333.6313  False\n",
      "               Canned                  Meat   -66.217    0.9  -430.6245  298.1905  False\n",
      "               Canned                Others -299.0552 0.7787   -803.383  205.2726  False\n",
      "               Canned               Seafood   100.871    0.9  -664.2575  865.9995  False\n",
      "               Canned           Snack Foods   52.1268    0.9  -232.4224  336.6761  False\n",
      "               Canned           Soft Drinks -218.6832 0.7444  -578.1081  140.7418  False\n",
      "               Canned         Starchy Foods  149.1379    0.9  -382.8208  681.0965  False\n",
      "                Dairy          Frozen Foods  -99.6749    0.9  -399.4192  200.0695  False\n",
      "                Dairy Fruits and Vegetables    56.467    0.9  -222.2576  335.1916  False\n",
      "                Dairy           Hard Drinks   -93.321    0.9  -550.8903  364.2483  False\n",
      "                Dairy    Health and Hygiene -222.5423  0.642  -562.5278  117.4431  False\n",
      "                Dairy             Household   26.2417    0.9  -269.5327  322.0161  False\n",
      "                Dairy                  Meat  -73.5647    0.9  -434.4665  287.3372  False\n",
      "                Dairy                Others -306.4029 0.7396  -808.2035  195.3977  False\n",
      "                Dairy               Seafood   93.5233    0.9  -669.9418  856.9884  False\n",
      "                Dairy           Snack Foods   44.7791    0.9  -235.2666  324.8249  False\n",
      "                Dairy           Soft Drinks -226.0309 0.6851  -581.9011  129.8394  False\n",
      "                Dairy         Starchy Foods  141.7902    0.9  -387.7732  671.3536  False\n",
      "         Frozen Foods Fruits and Vegetables  156.1418 0.7611  -103.7095  415.9932  False\n",
      "         Frozen Foods           Hard Drinks    6.3539    0.9  -439.9699  452.6777  False\n",
      "         Frozen Foods    Health and Hygiene -122.8675    0.9  -447.5602  201.8253  False\n",
      "         Frozen Foods             Household  125.9166    0.9  -152.1442  403.9773  False\n",
      "         Frozen Foods                  Meat   26.1102    0.9  -320.4233  372.6436  False\n",
      "         Frozen Foods                Others  -206.728    0.9  -698.2961    284.84  False\n",
      "         Frozen Foods               Seafood  193.1982    0.9  -563.5807   949.977  False\n",
      "         Frozen Foods           Snack Foods   144.454 0.8676  -116.8139  405.7219  False\n",
      "         Frozen Foods           Soft Drinks  -126.356    0.9  -467.6461  214.9341  False\n",
      "         Frozen Foods         Starchy Foods   241.465    0.9  -278.4125  761.3426  False\n",
      "Fruits and Vegetables           Hard Drinks  -149.788    0.9  -582.2758  282.6998  False\n",
      "Fruits and Vegetables    Health and Hygiene -279.0093 0.1206  -584.4044   26.3857  False\n",
      "Fruits and Vegetables             Household  -30.2253    0.9   -285.487  225.0364  False\n",
      "Fruits and Vegetables                  Meat -130.0317    0.9  -458.5529  198.4895  False\n",
      "Fruits and Vegetables                Others -362.8699 0.4056  -841.9105  116.1707  False\n",
      "Fruits and Vegetables               Seafood   37.0563    0.9  -711.6458  785.7585  False\n",
      "Fruits and Vegetables           Snack Foods  -11.6879    0.9  -248.5457    225.17  False\n",
      "Fruits and Vegetables           Soft Drinks -282.4979 0.1703  -605.4834   40.4877  False\n",
      "Fruits and Vegetables         Starchy Foods   85.3232    0.9  -422.7254  593.3718  False\n",
      "          Hard Drinks    Health and Hygiene -129.2214    0.9  -603.5086  345.0659  False\n",
      "          Hard Drinks             Household  119.5627    0.9  -324.1047  563.2301  False\n",
      "          Hard Drinks                  Meat   19.7563    0.9  -469.7418  509.2544  False\n",
      "          Hard Drinks                Others -213.0819    0.9  -814.0496  387.8857  False\n",
      "          Hard Drinks               Seafood  186.8443    0.9  -645.1636 1018.8522  False\n",
      "          Hard Drinks           Snack Foods  138.1001    0.9  -295.2402  571.4405  False\n",
      "          Hard Drinks           Soft Drinks -132.7099    0.9  -618.5102  353.0904  False\n",
      "          Hard Drinks         Starchy Foods  235.1112    0.9   -389.225  859.4473  False\n",
      "   Health and Hygiene             Household   248.784 0.3618   -72.2474  569.8155  False\n",
      "   Health and Hygiene                  Meat  148.9776    0.9  -232.8978  530.8531  False\n",
      "   Health and Hygiene                Others  -83.8606    0.9   -600.951  433.2299  False\n",
      "   Health and Hygiene               Seafood  316.0657    0.9  -457.5348 1089.6661  False\n",
      "   Health and Hygiene           Snack Foods  267.3215 0.1744   -39.2797  573.9227  False\n",
      "   Health and Hygiene           Soft Drinks   -3.4885    0.9  -380.6123  373.6353  False\n",
      "   Health and Hygiene         Starchy Foods  364.3325 0.6086  -179.7411  908.4061  False\n",
      "            Household                  Meat  -99.8064    0.9  -442.9117  243.2989  False\n",
      "            Household                Others -332.6446 0.5855   -821.802  156.5128  False\n",
      "            Household               Seafood   67.2816    0.9  -687.9336  822.4969  False\n",
      "            Household           Snack Foods   18.5374    0.9  -238.1661   275.241  False\n",
      "            Household           Soft Drinks -252.2726 0.4326  -590.0813   85.5362  False\n",
      "            Household         Starchy Foods  115.5485    0.9  -402.0503  633.1472  False\n",
      "                 Meat                Others -232.8382    0.9   -763.915  298.2386  False\n",
      "                 Meat               Seafood   167.088    0.9  -615.9303  950.1063  False\n",
      "                 Meat           Snack Foods  118.3438    0.9  -211.2989  447.9866  False\n",
      "                 Meat           Soft Drinks -152.4662    0.9    -548.55  243.6176  False\n",
      "                 Meat         Starchy Foods  215.3549    0.9  -342.0284  772.7381  False\n",
      "               Others               Seafood  399.9262    0.9  -457.2035  1257.056  False\n",
      "               Others           Snack Foods   351.182 0.4691  -128.6284  830.9925  False\n",
      "               Others           Soft Drinks    80.372    0.9  -447.2984  608.0425  False\n",
      "               Others         Starchy Foods  448.1931 0.5818  -209.2488 1105.6349  False\n",
      "              Seafood           Snack Foods  -48.7442    0.9  -797.9392  700.4508  False\n",
      "              Seafood           Soft Drinks -319.5542    0.9 -1100.2662  461.1578  False\n",
      "              Seafood         Starchy Foods   48.2668    0.9  -825.4064  921.9401  False\n",
      "          Snack Foods           Soft Drinks   -270.81 0.2341  -594.9363   53.3163  False\n",
      "          Snack Foods         Starchy Foods    97.011    0.9  -411.7635  605.7856  False\n",
      "          Soft Drinks         Starchy Foods   367.821 0.6216  -186.3176  921.9597  False\n",
      "----------------------------------------------------------------------------------------\n"
     ]
    }
   ],
   "source": [
    "mc = statsmodels.stats.multicomp.MultiComparison(data['Item_Outlet_Sales'],data['Item_Type'])\n",
    "mc_results = mc.tukeyhsd()\n",
    "print(mc_results)"
   ]
  },
  {
   "cell_type": "code",
   "execution_count": 46,
   "metadata": {},
   "outputs": [
    {
     "data": {
      "text/html": [
       "<table class=\"simpletable\">\n",
       "<caption>Multiple Comparison of Means - Tukey HSD, FWER=0.05</caption>\n",
       "<tr>\n",
       "         <th>group1</th>                <th>group2</th>         <th>meandiff</th>   <th>p-adj</th>    <th>lower</th>     <th>upper</th>   <th>reject</th>\n",
       "</tr>\n",
       "<tr>\n",
       "      <td>Baking Goods</td>             <td>Breads</td>          <td>251.161</td>  <td>0.8108</td>  <td>-183.0066</td> <td>685.3286</td>   <td>False</td>\n",
       "</tr>\n",
       "<tr>\n",
       "      <td>Baking Goods</td>            <td>Breakfast</td>       <td>158.8374</td>    <td>0.9</td>   <td>-443.3791</td>  <td>761.054</td>   <td>False</td>\n",
       "</tr>\n",
       "<tr>\n",
       "      <td>Baking Goods</td>             <td>Canned</td>         <td>272.2237</td>  <td>0.2272</td>  <td>-52.0876</td>   <td>596.535</td>   <td>False</td>\n",
       "</tr>\n",
       "<tr>\n",
       "      <td>Baking Goods</td>              <td>Dairy</td>         <td>279.5714</td>  <td>0.1733</td>  <td>-40.7958</td>  <td>599.9386</td>   <td>False</td>\n",
       "</tr>\n",
       "<tr>\n",
       "      <td>Baking Goods</td>          <td>Frozen Foods</td>      <td>179.8965</td>  <td>0.7817</td>  <td>-124.193</td>  <td>483.9861</td>   <td>False</td>\n",
       "</tr>\n",
       "<tr>\n",
       "      <td>Baking Goods</td>      <td>Fruits and Vegetables</td> <td>336.0384</td>   <td>0.005</td>   <td>52.6461</td>  <td>619.4307</td>   <td>True</td> \n",
       "</tr>\n",
       "<tr>\n",
       "      <td>Baking Goods</td>           <td>Hard Drinks</td>      <td>186.2504</td>    <td>0.9</td>   <td>-274.177</td>  <td>646.6778</td>   <td>False</td>\n",
       "</tr>\n",
       "<tr>\n",
       "      <td>Baking Goods</td>       <td>Health and Hygiene</td>    <td>57.0291</td>    <td>0.9</td>   <td>-286.7934</td> <td>400.8515</td>   <td>False</td>\n",
       "</tr>\n",
       "<tr>\n",
       "      <td>Baking Goods</td>            <td>Household</td>       <td>305.8131</td>  <td>0.0407</td>   <td>5.6361</td>   <td>605.9901</td>   <td>True</td> \n",
       "</tr>\n",
       "<tr>\n",
       "      <td>Baking Goods</td>              <td>Meat</td>          <td>206.0067</td>  <td>0.8404</td>  <td>-158.512</td>  <td>570.5254</td>   <td>False</td>\n",
       "</tr>\n",
       "<tr>\n",
       "      <td>Baking Goods</td>             <td>Others</td>         <td>-26.8315</td>    <td>0.9</td>   <td>-531.2397</td> <td>477.5767</td>   <td>False</td>\n",
       "</tr>\n",
       "<tr>\n",
       "      <td>Baking Goods</td>             <td>Seafood</td>        <td>373.0947</td>    <td>0.9</td>   <td>-392.0868</td> <td>1138.2762</td>  <td>False</td>\n",
       "</tr>\n",
       "<tr>\n",
       "      <td>Baking Goods</td>           <td>Snack Foods</td>      <td>324.3505</td>  <td>0.0093</td>   <td>39.6588</td>  <td>609.0422</td>   <td>True</td> \n",
       "</tr>\n",
       "<tr>\n",
       "      <td>Baking Goods</td>           <td>Soft Drinks</td>       <td>53.5405</td>    <td>0.9</td>   <td>-305.9972</td> <td>413.0783</td>   <td>False</td>\n",
       "</tr>\n",
       "<tr>\n",
       "      <td>Baking Goods</td>          <td>Starchy Foods</td>     <td>421.3616</td>  <td>0.3215</td>  <td>-110.6733</td> <td>953.3965</td>   <td>False</td>\n",
       "</tr>\n",
       "<tr>\n",
       "         <td>Breads</td>               <td>Breakfast</td>       <td>-92.3236</td>    <td>0.9</td>   <td>-760.0866</td> <td>575.4394</td>   <td>False</td>\n",
       "</tr>\n",
       "<tr>\n",
       "         <td>Breads</td>                <td>Canned</td>          <td>21.0627</td>    <td>0.9</td>   <td>-413.0115</td> <td>455.1369</td>   <td>False</td>\n",
       "</tr>\n",
       "<tr>\n",
       "         <td>Breads</td>                 <td>Dairy</td>          <td>28.4104</td>    <td>0.9</td>   <td>-402.7251</td> <td>459.5458</td>   <td>False</td>\n",
       "</tr>\n",
       "<tr>\n",
       "         <td>Breads</td>             <td>Frozen Foods</td>      <td>-71.2645</td>    <td>0.9</td>   <td>-490.4459</td> <td>347.9169</td>   <td>False</td>\n",
       "</tr>\n",
       "<tr>\n",
       "         <td>Breads</td>         <td>Fruits and Vegetables</td>  <td>84.8774</td>    <td>0.9</td>   <td>-319.5405</td> <td>489.2952</td>   <td>False</td>\n",
       "</tr>\n",
       "<tr>\n",
       "         <td>Breads</td>              <td>Hard Drinks</td>      <td>-64.9106</td>    <td>0.9</td>   <td>-608.2669</td> <td>478.4456</td>   <td>False</td>\n",
       "</tr>\n",
       "<tr>\n",
       "         <td>Breads</td>          <td>Health and Hygiene</td>   <td>-194.132</td>    <td>0.9</td>   <td>-642.971</td>   <td>254.707</td>   <td>False</td>\n",
       "</tr>\n",
       "<tr>\n",
       "         <td>Breads</td>               <td>Household</td>        <td>54.6521</td>    <td>0.9</td>   <td>-361.6998</td> <td>471.0039</td>   <td>False</td>\n",
       "</tr>\n",
       "<tr>\n",
       "         <td>Breads</td>                 <td>Meat</td>          <td>-45.1543</td>    <td>0.9</td>   <td>-510.0376</td>  <td>419.729</td>   <td>False</td>\n",
       "</tr>\n",
       "<tr>\n",
       "         <td>Breads</td>                <td>Others</td>         <td>-277.9925</td>   <td>0.9</td>   <td>-859.0865</td> <td>303.1015</td>   <td>False</td>\n",
       "</tr>\n",
       "<tr>\n",
       "         <td>Breads</td>                <td>Seafood</td>        <td>121.9337</td>    <td>0.9</td>   <td>-695.8348</td> <td>939.7022</td>   <td>False</td>\n",
       "</tr>\n",
       "<tr>\n",
       "         <td>Breads</td>              <td>Snack Foods</td>       <td>73.1895</td>    <td>0.9</td>   <td>-332.1399</td>  <td>478.519</td>   <td>False</td>\n",
       "</tr>\n",
       "<tr>\n",
       "         <td>Breads</td>              <td>Soft Drinks</td>      <td>-197.6205</td>   <td>0.9</td>   <td>-658.6086</td> <td>263.3676</td>   <td>False</td>\n",
       "</tr>\n",
       "<tr>\n",
       "         <td>Breads</td>             <td>Starchy Foods</td>     <td>170.2005</td>    <td>0.9</td>   <td>-435.0298</td> <td>775.4309</td>   <td>False</td>\n",
       "</tr>\n",
       "<tr>\n",
       "        <td>Breakfast</td>              <td>Canned</td>         <td>113.3863</td>    <td>0.9</td>   <td>-488.763</td>  <td>715.5355</td>   <td>False</td>\n",
       "</tr>\n",
       "<tr>\n",
       "        <td>Breakfast</td>               <td>Dairy</td>         <td>120.7339</td>    <td>0.9</td>   <td>-479.3002</td> <td>720.7681</td>   <td>False</td>\n",
       "</tr>\n",
       "<tr>\n",
       "        <td>Breakfast</td>           <td>Frozen Foods</td>       <td>21.0591</td>    <td>0.9</td>   <td>-570.4444</td> <td>612.5625</td>   <td>False</td>\n",
       "</tr>\n",
       "<tr>\n",
       "        <td>Breakfast</td>       <td>Fruits and Vegetables</td> <td>177.2009</td>    <td>0.9</td>   <td>-403.9333</td> <td>758.3352</td>   <td>False</td>\n",
       "</tr>\n",
       "<tr>\n",
       "        <td>Breakfast</td>            <td>Hard Drinks</td>       <td>27.413</td>     <td>0.9</td>   <td>-657.7142</td> <td>712.5402</td>   <td>False</td>\n",
       "</tr>\n",
       "<tr>\n",
       "        <td>Breakfast</td>        <td>Health and Hygiene</td>   <td>-101.8084</td>   <td>0.9</td>   <td>-714.6866</td> <td>511.0699</td>   <td>False</td>\n",
       "</tr>\n",
       "<tr>\n",
       "        <td>Breakfast</td>             <td>Household</td>       <td>146.9756</td>    <td>0.9</td>   <td>-442.5259</td> <td>736.4772</td>   <td>False</td>\n",
       "</tr>\n",
       "<tr>\n",
       "        <td>Breakfast</td>               <td>Meat</td>           <td>47.1693</td>    <td>0.9</td>   <td>-577.5545</td>  <td>671.893</td>   <td>False</td>\n",
       "</tr>\n",
       "<tr>\n",
       "        <td>Breakfast</td>              <td>Others</td>         <td>-185.6689</td>   <td>0.9</td>   <td>-901.0943</td> <td>529.7564</td>   <td>False</td>\n",
       "</tr>\n",
       "<tr>\n",
       "        <td>Breakfast</td>              <td>Seafood</td>        <td>214.2573</td>    <td>0.9</td>   <td>-703.8432</td> <td>1132.3578</td>  <td>False</td>\n",
       "</tr>\n",
       "<tr>\n",
       "        <td>Breakfast</td>            <td>Snack Foods</td>      <td>165.5131</td>    <td>0.9</td>   <td>-416.256</td>  <td>747.2822</td>   <td>False</td>\n",
       "</tr>\n",
       "<tr>\n",
       "        <td>Breakfast</td>            <td>Soft Drinks</td>      <td>-105.2969</td>   <td>0.9</td>   <td>-727.1275</td> <td>516.5337</td>   <td>False</td>\n",
       "</tr>\n",
       "<tr>\n",
       "        <td>Breakfast</td>           <td>Starchy Foods</td>     <td>262.5241</td>    <td>0.9</td>   <td>-472.6405</td> <td>997.6887</td>   <td>False</td>\n",
       "</tr>\n",
       "<tr>\n",
       "         <td>Canned</td>                 <td>Dairy</td>          <td>7.3477</td>     <td>0.9</td>   <td>-312.8929</td> <td>327.5883</td>   <td>False</td>\n",
       "</tr>\n",
       "<tr>\n",
       "         <td>Canned</td>             <td>Frozen Foods</td>      <td>-92.3272</td>    <td>0.9</td>   <td>-396.2833</td>  <td>211.629</td>   <td>False</td>\n",
       "</tr>\n",
       "<tr>\n",
       "         <td>Canned</td>         <td>Fruits and Vegetables</td>  <td>63.8147</td>    <td>0.9</td>   <td>-219.4345</td> <td>347.0639</td>   <td>False</td>\n",
       "</tr>\n",
       "<tr>\n",
       "         <td>Canned</td>              <td>Hard Drinks</td>      <td>-85.9733</td>    <td>0.9</td>   <td>-546.3126</td> <td>374.3661</td>   <td>False</td>\n",
       "</tr>\n",
       "<tr>\n",
       "         <td>Canned</td>          <td>Health and Hygiene</td>   <td>-215.1946</td> <td>0.7052</td>  <td>-558.8991</td> <td>128.5098</td>   <td>False</td>\n",
       "</tr>\n",
       "<tr>\n",
       "         <td>Canned</td>               <td>Household</td>        <td>33.5894</td>    <td>0.9</td>   <td>-266.4525</td> <td>333.6313</td>   <td>False</td>\n",
       "</tr>\n",
       "<tr>\n",
       "         <td>Canned</td>                 <td>Meat</td>           <td>-66.217</td>    <td>0.9</td>   <td>-430.6245</td> <td>298.1905</td>   <td>False</td>\n",
       "</tr>\n",
       "<tr>\n",
       "         <td>Canned</td>                <td>Others</td>         <td>-299.0552</td> <td>0.7787</td>  <td>-803.383</td>  <td>205.2726</td>   <td>False</td>\n",
       "</tr>\n",
       "<tr>\n",
       "         <td>Canned</td>                <td>Seafood</td>         <td>100.871</td>    <td>0.9</td>   <td>-664.2575</td> <td>865.9995</td>   <td>False</td>\n",
       "</tr>\n",
       "<tr>\n",
       "         <td>Canned</td>              <td>Snack Foods</td>       <td>52.1268</td>    <td>0.9</td>   <td>-232.4224</td> <td>336.6761</td>   <td>False</td>\n",
       "</tr>\n",
       "<tr>\n",
       "         <td>Canned</td>              <td>Soft Drinks</td>      <td>-218.6832</td> <td>0.7444</td>  <td>-578.1081</td> <td>140.7418</td>   <td>False</td>\n",
       "</tr>\n",
       "<tr>\n",
       "         <td>Canned</td>             <td>Starchy Foods</td>     <td>149.1379</td>    <td>0.9</td>   <td>-382.8208</td> <td>681.0965</td>   <td>False</td>\n",
       "</tr>\n",
       "<tr>\n",
       "          <td>Dairy</td>             <td>Frozen Foods</td>      <td>-99.6749</td>    <td>0.9</td>   <td>-399.4192</td> <td>200.0695</td>   <td>False</td>\n",
       "</tr>\n",
       "<tr>\n",
       "          <td>Dairy</td>         <td>Fruits and Vegetables</td>  <td>56.467</td>     <td>0.9</td>   <td>-222.2576</td> <td>335.1916</td>   <td>False</td>\n",
       "</tr>\n",
       "<tr>\n",
       "          <td>Dairy</td>              <td>Hard Drinks</td>       <td>-93.321</td>    <td>0.9</td>   <td>-550.8903</td> <td>364.2483</td>   <td>False</td>\n",
       "</tr>\n",
       "<tr>\n",
       "          <td>Dairy</td>          <td>Health and Hygiene</td>   <td>-222.5423</td>  <td>0.642</td>  <td>-562.5278</td> <td>117.4431</td>   <td>False</td>\n",
       "</tr>\n",
       "<tr>\n",
       "          <td>Dairy</td>               <td>Household</td>        <td>26.2417</td>    <td>0.9</td>   <td>-269.5327</td> <td>322.0161</td>   <td>False</td>\n",
       "</tr>\n",
       "<tr>\n",
       "          <td>Dairy</td>                 <td>Meat</td>          <td>-73.5647</td>    <td>0.9</td>   <td>-434.4665</td> <td>287.3372</td>   <td>False</td>\n",
       "</tr>\n",
       "<tr>\n",
       "          <td>Dairy</td>                <td>Others</td>         <td>-306.4029</td> <td>0.7396</td>  <td>-808.2035</td> <td>195.3977</td>   <td>False</td>\n",
       "</tr>\n",
       "<tr>\n",
       "          <td>Dairy</td>                <td>Seafood</td>         <td>93.5233</td>    <td>0.9</td>   <td>-669.9418</td> <td>856.9884</td>   <td>False</td>\n",
       "</tr>\n",
       "<tr>\n",
       "          <td>Dairy</td>              <td>Snack Foods</td>       <td>44.7791</td>    <td>0.9</td>   <td>-235.2666</td> <td>324.8249</td>   <td>False</td>\n",
       "</tr>\n",
       "<tr>\n",
       "          <td>Dairy</td>              <td>Soft Drinks</td>      <td>-226.0309</td> <td>0.6851</td>  <td>-581.9011</td> <td>129.8394</td>   <td>False</td>\n",
       "</tr>\n",
       "<tr>\n",
       "          <td>Dairy</td>             <td>Starchy Foods</td>     <td>141.7902</td>    <td>0.9</td>   <td>-387.7732</td> <td>671.3536</td>   <td>False</td>\n",
       "</tr>\n",
       "<tr>\n",
       "      <td>Frozen Foods</td>      <td>Fruits and Vegetables</td> <td>156.1418</td>  <td>0.7611</td>  <td>-103.7095</td> <td>415.9932</td>   <td>False</td>\n",
       "</tr>\n",
       "<tr>\n",
       "      <td>Frozen Foods</td>           <td>Hard Drinks</td>       <td>6.3539</td>     <td>0.9</td>   <td>-439.9699</td> <td>452.6777</td>   <td>False</td>\n",
       "</tr>\n",
       "<tr>\n",
       "      <td>Frozen Foods</td>       <td>Health and Hygiene</td>   <td>-122.8675</td>   <td>0.9</td>   <td>-447.5602</td> <td>201.8253</td>   <td>False</td>\n",
       "</tr>\n",
       "<tr>\n",
       "      <td>Frozen Foods</td>            <td>Household</td>       <td>125.9166</td>    <td>0.9</td>   <td>-152.1442</td> <td>403.9773</td>   <td>False</td>\n",
       "</tr>\n",
       "<tr>\n",
       "      <td>Frozen Foods</td>              <td>Meat</td>           <td>26.1102</td>    <td>0.9</td>   <td>-320.4233</td> <td>372.6436</td>   <td>False</td>\n",
       "</tr>\n",
       "<tr>\n",
       "      <td>Frozen Foods</td>             <td>Others</td>         <td>-206.728</td>    <td>0.9</td>   <td>-698.2961</td>  <td>284.84</td>    <td>False</td>\n",
       "</tr>\n",
       "<tr>\n",
       "      <td>Frozen Foods</td>             <td>Seafood</td>        <td>193.1982</td>    <td>0.9</td>   <td>-563.5807</td>  <td>949.977</td>   <td>False</td>\n",
       "</tr>\n",
       "<tr>\n",
       "      <td>Frozen Foods</td>           <td>Snack Foods</td>       <td>144.454</td>  <td>0.8676</td>  <td>-116.8139</td> <td>405.7219</td>   <td>False</td>\n",
       "</tr>\n",
       "<tr>\n",
       "      <td>Frozen Foods</td>           <td>Soft Drinks</td>      <td>-126.356</td>    <td>0.9</td>   <td>-467.6461</td> <td>214.9341</td>   <td>False</td>\n",
       "</tr>\n",
       "<tr>\n",
       "      <td>Frozen Foods</td>          <td>Starchy Foods</td>      <td>241.465</td>    <td>0.9</td>   <td>-278.4125</td> <td>761.3426</td>   <td>False</td>\n",
       "</tr>\n",
       "<tr>\n",
       "  <td>Fruits and Vegetables</td>      <td>Hard Drinks</td>      <td>-149.788</td>    <td>0.9</td>   <td>-582.2758</td> <td>282.6998</td>   <td>False</td>\n",
       "</tr>\n",
       "<tr>\n",
       "  <td>Fruits and Vegetables</td>  <td>Health and Hygiene</td>   <td>-279.0093</td> <td>0.1206</td>  <td>-584.4044</td>  <td>26.3857</td>   <td>False</td>\n",
       "</tr>\n",
       "<tr>\n",
       "  <td>Fruits and Vegetables</td>       <td>Household</td>       <td>-30.2253</td>    <td>0.9</td>   <td>-285.487</td>  <td>225.0364</td>   <td>False</td>\n",
       "</tr>\n",
       "<tr>\n",
       "  <td>Fruits and Vegetables</td>         <td>Meat</td>          <td>-130.0317</td>   <td>0.9</td>   <td>-458.5529</td> <td>198.4895</td>   <td>False</td>\n",
       "</tr>\n",
       "<tr>\n",
       "  <td>Fruits and Vegetables</td>        <td>Others</td>         <td>-362.8699</td> <td>0.4056</td>  <td>-841.9105</td> <td>116.1707</td>   <td>False</td>\n",
       "</tr>\n",
       "<tr>\n",
       "  <td>Fruits and Vegetables</td>        <td>Seafood</td>         <td>37.0563</td>    <td>0.9</td>   <td>-711.6458</td> <td>785.7585</td>   <td>False</td>\n",
       "</tr>\n",
       "<tr>\n",
       "  <td>Fruits and Vegetables</td>      <td>Snack Foods</td>      <td>-11.6879</td>    <td>0.9</td>   <td>-248.5457</td>  <td>225.17</td>    <td>False</td>\n",
       "</tr>\n",
       "<tr>\n",
       "  <td>Fruits and Vegetables</td>      <td>Soft Drinks</td>      <td>-282.4979</td> <td>0.1703</td>  <td>-605.4834</td>  <td>40.4877</td>   <td>False</td>\n",
       "</tr>\n",
       "<tr>\n",
       "  <td>Fruits and Vegetables</td>     <td>Starchy Foods</td>      <td>85.3232</td>    <td>0.9</td>   <td>-422.7254</td> <td>593.3718</td>   <td>False</td>\n",
       "</tr>\n",
       "<tr>\n",
       "       <td>Hard Drinks</td>       <td>Health and Hygiene</td>   <td>-129.2214</td>   <td>0.9</td>   <td>-603.5086</td> <td>345.0659</td>   <td>False</td>\n",
       "</tr>\n",
       "<tr>\n",
       "       <td>Hard Drinks</td>            <td>Household</td>       <td>119.5627</td>    <td>0.9</td>   <td>-324.1047</td> <td>563.2301</td>   <td>False</td>\n",
       "</tr>\n",
       "<tr>\n",
       "       <td>Hard Drinks</td>              <td>Meat</td>           <td>19.7563</td>    <td>0.9</td>   <td>-469.7418</td> <td>509.2544</td>   <td>False</td>\n",
       "</tr>\n",
       "<tr>\n",
       "       <td>Hard Drinks</td>             <td>Others</td>         <td>-213.0819</td>   <td>0.9</td>   <td>-814.0496</td> <td>387.8857</td>   <td>False</td>\n",
       "</tr>\n",
       "<tr>\n",
       "       <td>Hard Drinks</td>             <td>Seafood</td>        <td>186.8443</td>    <td>0.9</td>   <td>-645.1636</td> <td>1018.8522</td>  <td>False</td>\n",
       "</tr>\n",
       "<tr>\n",
       "       <td>Hard Drinks</td>           <td>Snack Foods</td>      <td>138.1001</td>    <td>0.9</td>   <td>-295.2402</td> <td>571.4405</td>   <td>False</td>\n",
       "</tr>\n",
       "<tr>\n",
       "       <td>Hard Drinks</td>           <td>Soft Drinks</td>      <td>-132.7099</td>   <td>0.9</td>   <td>-618.5102</td> <td>353.0904</td>   <td>False</td>\n",
       "</tr>\n",
       "<tr>\n",
       "       <td>Hard Drinks</td>          <td>Starchy Foods</td>     <td>235.1112</td>    <td>0.9</td>   <td>-389.225</td>  <td>859.4473</td>   <td>False</td>\n",
       "</tr>\n",
       "<tr>\n",
       "   <td>Health and Hygiene</td>         <td>Household</td>        <td>248.784</td>  <td>0.3618</td>  <td>-72.2474</td>  <td>569.8155</td>   <td>False</td>\n",
       "</tr>\n",
       "<tr>\n",
       "   <td>Health and Hygiene</td>           <td>Meat</td>          <td>148.9776</td>    <td>0.9</td>   <td>-232.8978</td> <td>530.8531</td>   <td>False</td>\n",
       "</tr>\n",
       "<tr>\n",
       "   <td>Health and Hygiene</td>          <td>Others</td>         <td>-83.8606</td>    <td>0.9</td>   <td>-600.951</td>  <td>433.2299</td>   <td>False</td>\n",
       "</tr>\n",
       "<tr>\n",
       "   <td>Health and Hygiene</td>          <td>Seafood</td>        <td>316.0657</td>    <td>0.9</td>   <td>-457.5348</td> <td>1089.6661</td>  <td>False</td>\n",
       "</tr>\n",
       "<tr>\n",
       "   <td>Health and Hygiene</td>        <td>Snack Foods</td>      <td>267.3215</td>  <td>0.1744</td>  <td>-39.2797</td>  <td>573.9227</td>   <td>False</td>\n",
       "</tr>\n",
       "<tr>\n",
       "   <td>Health and Hygiene</td>        <td>Soft Drinks</td>       <td>-3.4885</td>    <td>0.9</td>   <td>-380.6123</td> <td>373.6353</td>   <td>False</td>\n",
       "</tr>\n",
       "<tr>\n",
       "   <td>Health and Hygiene</td>       <td>Starchy Foods</td>     <td>364.3325</td>  <td>0.6086</td>  <td>-179.7411</td> <td>908.4061</td>   <td>False</td>\n",
       "</tr>\n",
       "<tr>\n",
       "        <td>Household</td>               <td>Meat</td>          <td>-99.8064</td>    <td>0.9</td>   <td>-442.9117</td> <td>243.2989</td>   <td>False</td>\n",
       "</tr>\n",
       "<tr>\n",
       "        <td>Household</td>              <td>Others</td>         <td>-332.6446</td> <td>0.5855</td>  <td>-821.802</td>  <td>156.5128</td>   <td>False</td>\n",
       "</tr>\n",
       "<tr>\n",
       "        <td>Household</td>              <td>Seafood</td>         <td>67.2816</td>    <td>0.9</td>   <td>-687.9336</td> <td>822.4969</td>   <td>False</td>\n",
       "</tr>\n",
       "<tr>\n",
       "        <td>Household</td>            <td>Snack Foods</td>       <td>18.5374</td>    <td>0.9</td>   <td>-238.1661</td>  <td>275.241</td>   <td>False</td>\n",
       "</tr>\n",
       "<tr>\n",
       "        <td>Household</td>            <td>Soft Drinks</td>      <td>-252.2726</td> <td>0.4326</td>  <td>-590.0813</td>  <td>85.5362</td>   <td>False</td>\n",
       "</tr>\n",
       "<tr>\n",
       "        <td>Household</td>           <td>Starchy Foods</td>     <td>115.5485</td>    <td>0.9</td>   <td>-402.0503</td> <td>633.1472</td>   <td>False</td>\n",
       "</tr>\n",
       "<tr>\n",
       "          <td>Meat</td>                 <td>Others</td>         <td>-232.8382</td>   <td>0.9</td>   <td>-763.915</td>  <td>298.2386</td>   <td>False</td>\n",
       "</tr>\n",
       "<tr>\n",
       "          <td>Meat</td>                 <td>Seafood</td>         <td>167.088</td>    <td>0.9</td>   <td>-615.9303</td> <td>950.1063</td>   <td>False</td>\n",
       "</tr>\n",
       "<tr>\n",
       "          <td>Meat</td>               <td>Snack Foods</td>      <td>118.3438</td>    <td>0.9</td>   <td>-211.2989</td> <td>447.9866</td>   <td>False</td>\n",
       "</tr>\n",
       "<tr>\n",
       "          <td>Meat</td>               <td>Soft Drinks</td>      <td>-152.4662</td>   <td>0.9</td>    <td>-548.55</td>  <td>243.6176</td>   <td>False</td>\n",
       "</tr>\n",
       "<tr>\n",
       "          <td>Meat</td>              <td>Starchy Foods</td>     <td>215.3549</td>    <td>0.9</td>   <td>-342.0284</td> <td>772.7381</td>   <td>False</td>\n",
       "</tr>\n",
       "<tr>\n",
       "         <td>Others</td>                <td>Seafood</td>        <td>399.9262</td>    <td>0.9</td>   <td>-457.2035</td> <td>1257.056</td>   <td>False</td>\n",
       "</tr>\n",
       "<tr>\n",
       "         <td>Others</td>              <td>Snack Foods</td>       <td>351.182</td>  <td>0.4691</td>  <td>-128.6284</td> <td>830.9925</td>   <td>False</td>\n",
       "</tr>\n",
       "<tr>\n",
       "         <td>Others</td>              <td>Soft Drinks</td>       <td>80.372</td>     <td>0.9</td>   <td>-447.2984</td> <td>608.0425</td>   <td>False</td>\n",
       "</tr>\n",
       "<tr>\n",
       "         <td>Others</td>             <td>Starchy Foods</td>     <td>448.1931</td>  <td>0.5818</td>  <td>-209.2488</td> <td>1105.6349</td>  <td>False</td>\n",
       "</tr>\n",
       "<tr>\n",
       "         <td>Seafood</td>             <td>Snack Foods</td>      <td>-48.7442</td>    <td>0.9</td>   <td>-797.9392</td> <td>700.4508</td>   <td>False</td>\n",
       "</tr>\n",
       "<tr>\n",
       "         <td>Seafood</td>             <td>Soft Drinks</td>      <td>-319.5542</td>   <td>0.9</td>  <td>-1100.2662</td> <td>461.1578</td>   <td>False</td>\n",
       "</tr>\n",
       "<tr>\n",
       "         <td>Seafood</td>            <td>Starchy Foods</td>      <td>48.2668</td>    <td>0.9</td>   <td>-825.4064</td> <td>921.9401</td>   <td>False</td>\n",
       "</tr>\n",
       "<tr>\n",
       "       <td>Snack Foods</td>           <td>Soft Drinks</td>       <td>-270.81</td>  <td>0.2341</td>  <td>-594.9363</td>  <td>53.3163</td>   <td>False</td>\n",
       "</tr>\n",
       "<tr>\n",
       "       <td>Snack Foods</td>          <td>Starchy Foods</td>      <td>97.011</td>     <td>0.9</td>   <td>-411.7635</td> <td>605.7856</td>   <td>False</td>\n",
       "</tr>\n",
       "<tr>\n",
       "       <td>Soft Drinks</td>          <td>Starchy Foods</td>      <td>367.821</td>  <td>0.6216</td>  <td>-186.3176</td> <td>921.9597</td>   <td>False</td>\n",
       "</tr>\n",
       "</table>"
      ],
      "text/plain": [
       "<class 'statsmodels.iolib.table.SimpleTable'>"
      ]
     },
     "execution_count": 46,
     "metadata": {},
     "output_type": "execute_result"
    },
    {
     "data": {
      "image/png": "[encoded data removed]",
      "text/plain": [
       "<Figure size 720x432 with 1 Axes>"
      ]
     },
     "metadata": {
      "needs_background": "light"
     },
     "output_type": "display_data"
    }
   ],
   "source": [
    "from statsmodels.stats.multicomp import pairwise_tukeyhsd\n",
    "\n",
    "tukey = pairwise_tukeyhsd(endog=data['Item_Outlet_Sales'],     # Data\n",
    "                          groups=data['Item_Type'],   # Groups\n",
    "                          alpha=0.05)          # Significance level\n",
    "\n",
    "tukey.plot_simultaneous()    # Plot group confidence intervals\n",
    "plt.vlines(x=49.57,ymin=-0.5,ymax=4.5, color=\"red\")\n",
    "\n",
    "tukey.summary() "
   ]
  },
  {
   "cell_type": "markdown",
   "metadata": {},
   "source": [
    "## VARIABLE #\n",
    "### 3. Outlet_Identifier\n"
   ]
  },
  {
   "cell_type": "code",
   "execution_count": 89,
   "metadata": {},
   "outputs": [
    {
     "data": {
      "text/plain": [
       "<seaborn.axisgrid.FacetGrid at 0x1fe21c73b88>"
      ]
     },
     "execution_count": 89,
     "metadata": {},
     "output_type": "execute_result"
    },
    {
     "data": {
      "image/png": "[encoded data removed]",
      "text/plain": [
       "<Figure size 432x360 with 1 Axes>"
      ]
     },
     "metadata": {
      "needs_background": "light"
     },
     "output_type": "display_data"
    }
   ],
   "source": [
    "sns.catplot(data=data,x='Outlet_Identifier',y='Item_Outlet_Sales',kind='bar',height=5,aspect=1.2)"
   ]
  },
  {
   "cell_type": "code",
   "execution_count": 71,
   "metadata": {},
   "outputs": [
    {
     "name": "stdout",
     "output_type": "stream",
     "text": [
      "    Multiple Comparison of Means - Tukey HSD, FWER=0.05     \n",
      "============================================================\n",
      "group1 group2  meandiff  p-adj    lower      upper    reject\n",
      "------------------------------------------------------------\n",
      "OUT010 OUT013  1959.6436  0.001  1707.2275  2212.0596   True\n",
      "OUT010 OUT017  2001.3236  0.001  1748.6025  2254.0447   True\n",
      "OUT010 OUT018  1656.1471  0.001  1403.5281  1908.7661   True\n",
      "OUT010 OUT019     0.9781    0.9    -285.22   287.1761  False\n",
      "OUT010 OUT027  3354.6869  0.001   3102.422  3606.9518   True\n",
      "OUT010 OUT035  2099.4902  0.001  1846.9729  2352.0075   True\n",
      "OUT010 OUT045  1853.0331  0.001   1600.465  2105.6013   True\n",
      "OUT010 OUT046  1938.4926  0.001  1685.9753  2191.0099   True\n",
      "OUT010 OUT049   2009.003  0.001  1756.4856  2261.5203   True\n",
      "OUT013 OUT017      41.68    0.9  -176.7566   260.1166  False\n",
      "OUT013 OUT018  -303.4965  0.001   -521.815   -85.1781   True\n",
      "OUT013 OUT019 -1958.6655  0.001 -2215.0947 -1702.2363   True\n",
      "OUT013 OUT027  1395.0433  0.001  1177.1347  1612.9519   True\n",
      "OUT013 OUT035   139.8466 0.5676   -78.3542   358.0474  False\n",
      "OUT013 OUT045  -106.6105 0.8641    -324.87   111.6491  False\n",
      "OUT013 OUT046    -21.151    0.9  -239.3518   197.0498  False\n",
      "OUT013 OUT049    49.3594    0.9  -168.8414   267.5602  False\n",
      "OUT017 OUT018  -345.1765  0.001  -563.8476  -126.5055   True\n",
      "OUT017 OUT019 -2000.3455  0.001  -2257.075 -1743.6161   True\n",
      "OUT017 OUT027  1353.3633  0.001  1135.1014  1571.6251   True\n",
      "OUT017 OUT035    98.1666    0.9   -120.387   316.7202  False\n",
      "OUT017 OUT045  -148.2905 0.4947  -366.9027    70.3218  False\n",
      "OUT017 OUT046    -62.831    0.9  -281.3846   155.7226  False\n",
      "OUT017 OUT049     7.6794    0.9  -210.8742    226.233  False\n",
      "OUT018 OUT019  -1655.169  0.001  -1911.798   -1398.54   True\n",
      "OUT018 OUT027  1698.5398  0.001  1480.3962  1916.6835   True\n",
      "OUT018 OUT035   443.3431  0.001   224.9076   661.7787   True\n",
      "OUT018 OUT045   196.8861 0.1202   -21.6082   415.3803  False\n",
      "OUT018 OUT046   282.3455 0.0018      63.91   500.7811   True\n",
      "OUT018 OUT049   352.8559  0.001   134.4203   571.2915   True\n",
      "OUT019 OUT027  3353.7088  0.001  3097.4285  3609.9892   True\n",
      "OUT019 OUT035  2098.5121  0.001  1841.9833   2355.041   True\n",
      "OUT019 OUT045  1852.0551  0.001  1595.4762   2108.634   True\n",
      "OUT019 OUT046  1937.5145  0.001  1680.9857  2194.0434   True\n",
      "OUT019 OUT049  2008.0249  0.001   1751.496  2264.5538   True\n",
      "OUT027 OUT035 -1255.1967  0.001 -1473.2226 -1037.1708   True\n",
      "OUT027 OUT045 -1501.6538  0.001 -1719.7385  -1283.569   True\n",
      "OUT027 OUT046 -1416.1943  0.001 -1634.2202 -1198.1684   True\n",
      "OUT027 OUT049 -1345.6839  0.001 -1563.7098  -1127.658   True\n",
      "OUT035 OUT045  -246.4571 0.0132  -464.8338   -28.0804   True\n",
      "OUT035 OUT046  -160.9976 0.3687  -379.3156    57.3204  False\n",
      "OUT035 OUT049   -90.4872    0.9  -308.8052   127.8307  False\n",
      "OUT045 OUT046    85.4595    0.9  -132.9172   303.8362  False\n",
      "OUT045 OUT049   155.9698 0.4187   -62.4069   374.3465  False\n",
      "OUT046 OUT049    70.5104    0.9  -147.8076   288.8283  False\n",
      "------------------------------------------------------------\n"
     ]
    }
   ],
   "source": [
    "mc = statsmodels.stats.multicomp.MultiComparison(data['Item_Outlet_Sales'],data['Outlet_Identifier'])\n",
    "mc_results = mc.tukeyhsd()\n",
    "print(mc_results)"
   ]
  },
  {
   "cell_type": "markdown",
   "metadata": {},
   "source": [
    "## 4. Outlet_Location_Type"
   ]
  },
  {
   "cell_type": "code",
   "execution_count": 90,
   "metadata": {},
   "outputs": [
    {
     "data": {
      "text/plain": [
       "<seaborn.axisgrid.FacetGrid at 0x1fe20e30508>"
      ]
     },
     "execution_count": 90,
     "metadata": {},
     "output_type": "execute_result"
    },
    {
     "data": {
      "image/png": "[encoded data removed]",
      "text/plain": [
       "<Figure size 360x360 with 1 Axes>"
      ]
     },
     "metadata": {
      "needs_background": "light"
     },
     "output_type": "display_data"
    }
   ],
   "source": [
    "sns.catplot(x='Outlet_Location_Type',y='Item_Outlet_Sales',kind='bar',data=data)"
   ]
  },
  {
   "cell_type": "code",
   "execution_count": 94,
   "metadata": {},
   "outputs": [
    {
     "data": {
      "text/plain": [
       "<matplotlib.axes._subplots.AxesSubplot at 0x1fe2445e948>"
      ]
     },
     "execution_count": 94,
     "metadata": {},
     "output_type": "execute_result"
    },
    {
     "data": {
      "image/png": "[encoded data removed]",
      "text/plain": [
       "<Figure size 720x360 with 1 Axes>"
      ]
     },
     "metadata": {
      "needs_background": "light"
     },
     "output_type": "display_data"
    }
   ],
   "source": [
    "data.boxplot('Item_Outlet_Sales',by='Outlet_Size',figsize=(10,5))"
   ]
  },
  {
   "cell_type": "code",
   "execution_count": 138,
   "metadata": {},
   "outputs": [
    {
     "name": "stdout",
     "output_type": "stream",
     "text": [
      " Multiple Comparison of Means - Tukey HSD, FWER=0.05  \n",
      "======================================================\n",
      "group1 group2 meandiff p-adj   lower    upper   reject\n",
      "------------------------------------------------------\n",
      "Tier 1 Tier 2 447.0814 0.001  336.2033 557.9595   True\n",
      "Tier 1 Tier 3 402.7185 0.001  296.2441 509.1928   True\n",
      "Tier 2 Tier 3 -44.3629  0.56 -146.3104  57.5846  False\n",
      "------------------------------------------------------\n"
     ]
    }
   ],
   "source": [
    "mc = statsmodels.stats.multicomp.MultiComparison(data['Item_Outlet_Sales'],data['Outlet_Location_Type'])\n",
    "mc_results = mc.tukeyhsd()\n",
    "print(mc_results)\n",
    "\n",
    "## Remove Nan values first otherwise it will throw error"
   ]
  },
  {
   "cell_type": "code",
   "execution_count": 95,
   "metadata": {},
   "outputs": [
    {
     "ename": "TypeError",
     "evalue": "'<' not supported between instances of 'str' and 'float'",
     "output_type": "error",
     "traceback": [
      "\u001b[1;31m---------------------------------------------------------------------------\u001b[0m",
      "\u001b[1;31mTypeError\u001b[0m                                 Traceback (most recent call last)",
      "\u001b[1;32m<ipython-input-95-eb8f4e86c717>\u001b[0m in \u001b[0;36m<module>\u001b[1;34m\u001b[0m\n\u001b[1;32m----> 1\u001b[1;33m \u001b[0mmc\u001b[0m \u001b[1;33m=\u001b[0m \u001b[0mstatsmodels\u001b[0m\u001b[1;33m.\u001b[0m\u001b[0mstats\u001b[0m\u001b[1;33m.\u001b[0m\u001b[0mmulticomp\u001b[0m\u001b[1;33m.\u001b[0m\u001b[0mMultiComparison\u001b[0m\u001b[1;33m(\u001b[0m\u001b[0mdata\u001b[0m\u001b[1;33m[\u001b[0m\u001b[1;34m'Item_Outlet_Sales'\u001b[0m\u001b[1;33m]\u001b[0m\u001b[1;33m,\u001b[0m\u001b[0mdata\u001b[0m\u001b[1;33m[\u001b[0m\u001b[1;34m'Outlet_Size'\u001b[0m\u001b[1;33m]\u001b[0m\u001b[1;33m)\u001b[0m\u001b[1;33m\u001b[0m\u001b[1;33m\u001b[0m\u001b[0m\n\u001b[0m\u001b[0;32m      2\u001b[0m \u001b[0mmc_results\u001b[0m \u001b[1;33m=\u001b[0m \u001b[0mmc\u001b[0m\u001b[1;33m.\u001b[0m\u001b[0mtukeyhsd\u001b[0m\u001b[1;33m(\u001b[0m\u001b[1;33m)\u001b[0m\u001b[1;33m\u001b[0m\u001b[1;33m\u001b[0m\u001b[0m\n\u001b[0;32m      3\u001b[0m \u001b[0mprint\u001b[0m\u001b[1;33m(\u001b[0m\u001b[0mmc_results\u001b[0m\u001b[1;33m)\u001b[0m\u001b[1;33m\u001b[0m\u001b[1;33m\u001b[0m\u001b[0m\n",
      "\u001b[1;32m~\\anaconda3\\lib\\site-packages\\statsmodels\\sandbox\\stats\\multicomp.py\u001b[0m in \u001b[0;36m__init__\u001b[1;34m(self, data, groups, group_order)\u001b[0m\n\u001b[0;32m    807\u001b[0m         \u001b[1;32mif\u001b[0m \u001b[0mgroup_order\u001b[0m \u001b[1;32mis\u001b[0m \u001b[1;32mNone\u001b[0m\u001b[1;33m:\u001b[0m\u001b[1;33m\u001b[0m\u001b[1;33m\u001b[0m\u001b[0m\n\u001b[0;32m    808\u001b[0m             self.groupsunique, self.groupintlab = np.unique(groups,\n\u001b[1;32m--> 809\u001b[1;33m                                                             return_inverse=True)\n\u001b[0m\u001b[0;32m    810\u001b[0m         \u001b[1;32melse\u001b[0m\u001b[1;33m:\u001b[0m\u001b[1;33m\u001b[0m\u001b[1;33m\u001b[0m\u001b[0m\n\u001b[0;32m    811\u001b[0m             \u001b[1;31m#check if group_order has any names not in groups\u001b[0m\u001b[1;33m\u001b[0m\u001b[1;33m\u001b[0m\u001b[1;33m\u001b[0m\u001b[0m\n",
      "\u001b[1;32m<__array_function__ internals>\u001b[0m in \u001b[0;36munique\u001b[1;34m(*args, **kwargs)\u001b[0m\n",
      "\u001b[1;32m~\\anaconda3\\lib\\site-packages\\numpy\\lib\\arraysetops.py\u001b[0m in \u001b[0;36munique\u001b[1;34m(ar, return_index, return_inverse, return_counts, axis)\u001b[0m\n\u001b[0;32m    261\u001b[0m     \u001b[0mar\u001b[0m \u001b[1;33m=\u001b[0m \u001b[0mnp\u001b[0m\u001b[1;33m.\u001b[0m\u001b[0masanyarray\u001b[0m\u001b[1;33m(\u001b[0m\u001b[0mar\u001b[0m\u001b[1;33m)\u001b[0m\u001b[1;33m\u001b[0m\u001b[1;33m\u001b[0m\u001b[0m\n\u001b[0;32m    262\u001b[0m     \u001b[1;32mif\u001b[0m \u001b[0maxis\u001b[0m \u001b[1;32mis\u001b[0m \u001b[1;32mNone\u001b[0m\u001b[1;33m:\u001b[0m\u001b[1;33m\u001b[0m\u001b[1;33m\u001b[0m\u001b[0m\n\u001b[1;32m--> 263\u001b[1;33m         \u001b[0mret\u001b[0m \u001b[1;33m=\u001b[0m \u001b[0m_unique1d\u001b[0m\u001b[1;33m(\u001b[0m\u001b[0mar\u001b[0m\u001b[1;33m,\u001b[0m \u001b[0mreturn_index\u001b[0m\u001b[1;33m,\u001b[0m \u001b[0mreturn_inverse\u001b[0m\u001b[1;33m,\u001b[0m \u001b[0mreturn_counts\u001b[0m\u001b[1;33m)\u001b[0m\u001b[1;33m\u001b[0m\u001b[1;33m\u001b[0m\u001b[0m\n\u001b[0m\u001b[0;32m    264\u001b[0m         \u001b[1;32mreturn\u001b[0m \u001b[0m_unpack_tuple\u001b[0m\u001b[1;33m(\u001b[0m\u001b[0mret\u001b[0m\u001b[1;33m)\u001b[0m\u001b[1;33m\u001b[0m\u001b[1;33m\u001b[0m\u001b[0m\n\u001b[0;32m    265\u001b[0m \u001b[1;33m\u001b[0m\u001b[0m\n",
      "\u001b[1;32m~\\anaconda3\\lib\\site-packages\\numpy\\lib\\arraysetops.py\u001b[0m in \u001b[0;36m_unique1d\u001b[1;34m(ar, return_index, return_inverse, return_counts)\u001b[0m\n\u001b[0;32m    306\u001b[0m \u001b[1;33m\u001b[0m\u001b[0m\n\u001b[0;32m    307\u001b[0m     \u001b[1;32mif\u001b[0m \u001b[0moptional_indices\u001b[0m\u001b[1;33m:\u001b[0m\u001b[1;33m\u001b[0m\u001b[1;33m\u001b[0m\u001b[0m\n\u001b[1;32m--> 308\u001b[1;33m         \u001b[0mperm\u001b[0m \u001b[1;33m=\u001b[0m \u001b[0mar\u001b[0m\u001b[1;33m.\u001b[0m\u001b[0margsort\u001b[0m\u001b[1;33m(\u001b[0m\u001b[0mkind\u001b[0m\u001b[1;33m=\u001b[0m\u001b[1;34m'mergesort'\u001b[0m \u001b[1;32mif\u001b[0m \u001b[0mreturn_index\u001b[0m \u001b[1;32melse\u001b[0m \u001b[1;34m'quicksort'\u001b[0m\u001b[1;33m)\u001b[0m\u001b[1;33m\u001b[0m\u001b[1;33m\u001b[0m\u001b[0m\n\u001b[0m\u001b[0;32m    309\u001b[0m         \u001b[0maux\u001b[0m \u001b[1;33m=\u001b[0m \u001b[0mar\u001b[0m\u001b[1;33m[\u001b[0m\u001b[0mperm\u001b[0m\u001b[1;33m]\u001b[0m\u001b[1;33m\u001b[0m\u001b[1;33m\u001b[0m\u001b[0m\n\u001b[0;32m    310\u001b[0m     \u001b[1;32melse\u001b[0m\u001b[1;33m:\u001b[0m\u001b[1;33m\u001b[0m\u001b[1;33m\u001b[0m\u001b[0m\n",
      "\u001b[1;31mTypeError\u001b[0m: '<' not supported between instances of 'str' and 'float'"
     ]
    }
   ],
   "source": [
    "mc = statsmodels.stats.multicomp.MultiComparison(data['Item_Outlet_Sales'],data['Outlet_Size'])\n",
    "mc_results = mc.tukeyhsd()\n",
    "print(mc_results)\n",
    "\n",
    "## Remove Nan values first otherwise it will throw error"
   ]
  },
  {
   "cell_type": "markdown",
   "metadata": {},
   "source": [
    "## 6. Outlet_Type"
   ]
  },
  {
   "cell_type": "code",
   "execution_count": 98,
   "metadata": {},
   "outputs": [
    {
     "data": {
      "text/plain": [
       "<seaborn.axisgrid.FacetGrid at 0x1fe245d8f88>"
      ]
     },
     "execution_count": 98,
     "metadata": {},
     "output_type": "execute_result"
    },
    {
     "data": {
      "image/png": "[encoded data removed]",
      "text/plain": [
       "<Figure size 360x360 with 1 Axes>"
      ]
     },
     "metadata": {
      "needs_background": "light"
     },
     "output_type": "display_data"
    }
   ],
   "source": [
    "sns.catplot(x='Outlet_Type',y='Item_Outlet_Sales',kind='bar',data=data)"
   ]
  },
  {
   "cell_type": "code",
   "execution_count": 100,
   "metadata": {},
   "outputs": [
    {
     "data": {
      "text/plain": [
       "<matplotlib.axes._subplots.AxesSubplot at 0x1fe246e8788>"
      ]
     },
     "execution_count": 100,
     "metadata": {},
     "output_type": "execute_result"
    },
    {
     "data": {
      "image/png": "[encoded data removed]",
      "text/plain": [
       "<Figure size 720x360 with 1 Axes>"
      ]
     },
     "metadata": {
      "needs_background": "light"
     },
     "output_type": "display_data"
    }
   ],
   "source": [
    "data.boxplot('Item_Outlet_Sales',by='Outlet_Type',figsize=(10,5))"
   ]
  },
  {
   "cell_type": "code",
   "execution_count": 101,
   "metadata": {},
   "outputs": [
    {
     "name": "stdout",
     "output_type": "stream",
     "text": [
      "             Multiple Comparison of Means - Tukey HSD, FWER=0.05              \n",
      "==============================================================================\n",
      "      group1            group2       meandiff p-adj   lower     upper   reject\n",
      "------------------------------------------------------------------------------\n",
      "    Grocery Store Supermarket Type1 1976.3526 0.001 1849.3577 2103.3476   True\n",
      "    Grocery Store Supermarket Type2 1655.6702 0.001 1484.5971 1826.7434   True\n",
      "    Grocery Store Supermarket Type3 3354.2101 0.001 3183.4821  3524.938   True\n",
      "Supermarket Type1 Supermarket Type2 -320.6824 0.001 -456.2679 -185.0969   True\n",
      "Supermarket Type1 Supermarket Type3 1377.8574 0.001 1242.7077 1513.0071   True\n",
      "Supermarket Type2 Supermarket Type3 1698.5398 0.001 1521.3288 1875.7508   True\n",
      "------------------------------------------------------------------------------\n"
     ]
    }
   ],
   "source": [
    "mc = statsmodels.stats.multicomp.MultiComparison(data['Item_Outlet_Sales'],data['Outlet_Type'])\n",
    "mc_results = mc.tukeyhsd()\n",
    "print(mc_results)\n",
    "\n",
    "## Remove Nan values first otherwise it will throw error"
   ]
  },
  {
   "cell_type": "code",
   "execution_count": 102,
   "metadata": {},
   "outputs": [],
   "source": [
    "from sklearn.preprocessing import LabelEncoder"
   ]
  },
  {
   "cell_type": "code",
   "execution_count": 103,
   "metadata": {},
   "outputs": [],
   "source": [
    "LE = LabelEncoder()"
   ]
  },
  {
   "cell_type": "code",
   "execution_count": 104,
   "metadata": {},
   "outputs": [
    {
     "data": {
      "text/plain": [
       "LabelEncoder()"
      ]
     },
     "execution_count": 104,
     "metadata": {},
     "output_type": "execute_result"
    }
   ],
   "source": [
    "LE.fit(data['Outlet_Type'])"
   ]
  },
  {
   "cell_type": "code",
   "execution_count": 105,
   "metadata": {},
   "outputs": [
    {
     "data": {
      "text/plain": [
       "array(['Supermarket Type1', 'Supermarket Type2', 'Supermarket Type1', ...,\n",
       "       'Supermarket Type1', 'Supermarket Type2', 'Supermarket Type1'],\n",
       "      dtype=object)"
      ]
     },
     "execution_count": 105,
     "metadata": {},
     "output_type": "execute_result"
    }
   ],
   "source": [
    "data['Outlet_Type'].values"
   ]
  },
  {
   "cell_type": "code",
   "execution_count": 106,
   "metadata": {},
   "outputs": [],
   "source": [
    "data['Outlet_Type'] = LE.transform(data['Outlet_Type'])"
   ]
  },
  {
   "cell_type": "code",
   "execution_count": 107,
   "metadata": {},
   "outputs": [
    {
     "data": {
      "text/plain": [
       "array([1, 2, 1, ..., 1, 2, 1])"
      ]
     },
     "execution_count": 107,
     "metadata": {},
     "output_type": "execute_result"
    }
   ],
   "source": [
    "data['Outlet_Type'].values"
   ]
  },
  {
   "cell_type": "code",
   "execution_count": 139,
   "metadata": {},
   "outputs": [],
   "source": [
    "data1= pd.get_dummies(data,columns=['Item_Type','Item_Fat_Content','Outlet_Identifier','Outlet_Location_Type'],drop_first=True)"
   ]
  },
  {
   "cell_type": "code",
   "execution_count": 141,
   "metadata": {},
   "outputs": [],
   "source": [
    "# df = pd.DataFrame({'A': ['a', 'b', 'a'], 'B': ['b', 'a', 'c'],\n",
    "#                     'C': ['a', 'd', 'e']})\n",
    "\n",
    "# pd.get_dummies(df)\n",
    "# #    C  col1_a  col1_b  col2_a  col2_b  col2_c\n",
    "# # 0  1       1       0       0       1       0\n",
    "# # 1  2       0       1       1       0       0\n",
    "# # 2  3       1       0       0       0       1"
   ]
  },
  {
   "cell_type": "code",
   "execution_count": 142,
   "metadata": {
    "scrolled": true
   },
   "outputs": [],
   "source": [
    "#len(data.columns)"
   ]
  },
  {
   "cell_type": "code",
   "execution_count": 143,
   "metadata": {},
   "outputs": [],
   "source": [
    "#len(data.Item_Type.value_counts())"
   ]
  },
  {
   "cell_type": "code",
   "execution_count": 144,
   "metadata": {},
   "outputs": [],
   "source": [
    "#len(data1.columns)"
   ]
  },
  {
   "cell_type": "code",
   "execution_count": 145,
   "metadata": {},
   "outputs": [],
   "source": [
    "#data1.head()"
   ]
  },
  {
   "cell_type": "code",
   "execution_count": 146,
   "metadata": {},
   "outputs": [
    {
     "data": {
      "text/html": [
       "<div>\n",
       "<style scoped>\n",
       "    .dataframe tbody tr th:only-of-type {\n",
       "        vertical-align: middle;\n",
       "    }\n",
       "\n",
       "    .dataframe tbody tr th {\n",
       "        vertical-align: top;\n",
       "    }\n",
       "\n",
       "    .dataframe thead th {\n",
       "        text-align: right;\n",
       "    }\n",
       "</style>\n",
       "<table border=\"1\" class=\"dataframe\">\n",
       "  <thead>\n",
       "    <tr style=\"text-align: right;\">\n",
       "      <th></th>\n",
       "      <th>Item_Identifier</th>\n",
       "      <th>Item_Weight</th>\n",
       "      <th>Item_Visibility</th>\n",
       "      <th>Item_MRP</th>\n",
       "      <th>Outlet_Establishment_Year</th>\n",
       "      <th>Outlet_Size</th>\n",
       "      <th>Outlet_Type</th>\n",
       "      <th>Item_Outlet_Sales</th>\n",
       "      <th>Item_Type_Breads</th>\n",
       "      <th>Item_Type_Breakfast</th>\n",
       "      <th>...</th>\n",
       "      <th>Outlet_Identifier_OUT017</th>\n",
       "      <th>Outlet_Identifier_OUT018</th>\n",
       "      <th>Outlet_Identifier_OUT019</th>\n",
       "      <th>Outlet_Identifier_OUT027</th>\n",
       "      <th>Outlet_Identifier_OUT035</th>\n",
       "      <th>Outlet_Identifier_OUT045</th>\n",
       "      <th>Outlet_Identifier_OUT046</th>\n",
       "      <th>Outlet_Identifier_OUT049</th>\n",
       "      <th>Outlet_Location_Type_Tier 2</th>\n",
       "      <th>Outlet_Location_Type_Tier 3</th>\n",
       "    </tr>\n",
       "  </thead>\n",
       "  <tbody>\n",
       "    <tr>\n",
       "      <th>0</th>\n",
       "      <td>FDA15</td>\n",
       "      <td>9.30</td>\n",
       "      <td>0.016047</td>\n",
       "      <td>249.8092</td>\n",
       "      <td>1999</td>\n",
       "      <td>Medium</td>\n",
       "      <td>1</td>\n",
       "      <td>3735.1380</td>\n",
       "      <td>0</td>\n",
       "      <td>0</td>\n",
       "      <td>...</td>\n",
       "      <td>0</td>\n",
       "      <td>0</td>\n",
       "      <td>0</td>\n",
       "      <td>0</td>\n",
       "      <td>0</td>\n",
       "      <td>0</td>\n",
       "      <td>0</td>\n",
       "      <td>1</td>\n",
       "      <td>0</td>\n",
       "      <td>0</td>\n",
       "    </tr>\n",
       "    <tr>\n",
       "      <th>1</th>\n",
       "      <td>DRC01</td>\n",
       "      <td>5.92</td>\n",
       "      <td>0.019278</td>\n",
       "      <td>48.2692</td>\n",
       "      <td>2009</td>\n",
       "      <td>Medium</td>\n",
       "      <td>2</td>\n",
       "      <td>443.4228</td>\n",
       "      <td>0</td>\n",
       "      <td>0</td>\n",
       "      <td>...</td>\n",
       "      <td>0</td>\n",
       "      <td>1</td>\n",
       "      <td>0</td>\n",
       "      <td>0</td>\n",
       "      <td>0</td>\n",
       "      <td>0</td>\n",
       "      <td>0</td>\n",
       "      <td>0</td>\n",
       "      <td>0</td>\n",
       "      <td>1</td>\n",
       "    </tr>\n",
       "    <tr>\n",
       "      <th>2</th>\n",
       "      <td>FDN15</td>\n",
       "      <td>17.50</td>\n",
       "      <td>0.016760</td>\n",
       "      <td>141.6180</td>\n",
       "      <td>1999</td>\n",
       "      <td>Medium</td>\n",
       "      <td>1</td>\n",
       "      <td>2097.2700</td>\n",
       "      <td>0</td>\n",
       "      <td>0</td>\n",
       "      <td>...</td>\n",
       "      <td>0</td>\n",
       "      <td>0</td>\n",
       "      <td>0</td>\n",
       "      <td>0</td>\n",
       "      <td>0</td>\n",
       "      <td>0</td>\n",
       "      <td>0</td>\n",
       "      <td>1</td>\n",
       "      <td>0</td>\n",
       "      <td>0</td>\n",
       "    </tr>\n",
       "    <tr>\n",
       "      <th>3</th>\n",
       "      <td>FDX07</td>\n",
       "      <td>19.20</td>\n",
       "      <td>0.000000</td>\n",
       "      <td>182.0950</td>\n",
       "      <td>1998</td>\n",
       "      <td>NaN</td>\n",
       "      <td>0</td>\n",
       "      <td>732.3800</td>\n",
       "      <td>0</td>\n",
       "      <td>0</td>\n",
       "      <td>...</td>\n",
       "      <td>0</td>\n",
       "      <td>0</td>\n",
       "      <td>0</td>\n",
       "      <td>0</td>\n",
       "      <td>0</td>\n",
       "      <td>0</td>\n",
       "      <td>0</td>\n",
       "      <td>0</td>\n",
       "      <td>0</td>\n",
       "      <td>1</td>\n",
       "    </tr>\n",
       "    <tr>\n",
       "      <th>4</th>\n",
       "      <td>NCD19</td>\n",
       "      <td>8.93</td>\n",
       "      <td>0.000000</td>\n",
       "      <td>53.8614</td>\n",
       "      <td>1987</td>\n",
       "      <td>High</td>\n",
       "      <td>1</td>\n",
       "      <td>994.7052</td>\n",
       "      <td>0</td>\n",
       "      <td>0</td>\n",
       "      <td>...</td>\n",
       "      <td>0</td>\n",
       "      <td>0</td>\n",
       "      <td>0</td>\n",
       "      <td>0</td>\n",
       "      <td>0</td>\n",
       "      <td>0</td>\n",
       "      <td>0</td>\n",
       "      <td>0</td>\n",
       "      <td>0</td>\n",
       "      <td>1</td>\n",
       "    </tr>\n",
       "  </tbody>\n",
       "</table>\n",
       "<p>5 rows × 35 columns</p>\n",
       "</div>"
      ],
      "text/plain": [
       "  Item_Identifier  Item_Weight  Item_Visibility  Item_MRP  \\\n",
       "0           FDA15         9.30         0.016047  249.8092   \n",
       "1           DRC01         5.92         0.019278   48.2692   \n",
       "2           FDN15        17.50         0.016760  141.6180   \n",
       "3           FDX07        19.20         0.000000  182.0950   \n",
       "4           NCD19         8.93         0.000000   53.8614   \n",
       "\n",
       "   Outlet_Establishment_Year Outlet_Size  Outlet_Type  Item_Outlet_Sales  \\\n",
       "0                       1999      Medium            1          3735.1380   \n",
       "1                       2009      Medium            2           443.4228   \n",
       "2                       1999      Medium            1          2097.2700   \n",
       "3                       1998         NaN            0           732.3800   \n",
       "4                       1987        High            1           994.7052   \n",
       "\n",
       "   Item_Type_Breads  Item_Type_Breakfast  ...  Outlet_Identifier_OUT017  \\\n",
       "0                 0                    0  ...                         0   \n",
       "1                 0                    0  ...                         0   \n",
       "2                 0                    0  ...                         0   \n",
       "3                 0                    0  ...                         0   \n",
       "4                 0                    0  ...                         0   \n",
       "\n",
       "   Outlet_Identifier_OUT018  Outlet_Identifier_OUT019  \\\n",
       "0                         0                         0   \n",
       "1                         1                         0   \n",
       "2                         0                         0   \n",
       "3                         0                         0   \n",
       "4                         0                         0   \n",
       "\n",
       "   Outlet_Identifier_OUT027  Outlet_Identifier_OUT035  \\\n",
       "0                         0                         0   \n",
       "1                         0                         0   \n",
       "2                         0                         0   \n",
       "3                         0                         0   \n",
       "4                         0                         0   \n",
       "\n",
       "   Outlet_Identifier_OUT045  Outlet_Identifier_OUT046  \\\n",
       "0                         0                         0   \n",
       "1                         0                         0   \n",
       "2                         0                         0   \n",
       "3                         0                         0   \n",
       "4                         0                         0   \n",
       "\n",
       "   Outlet_Identifier_OUT049  Outlet_Location_Type_Tier 2  \\\n",
       "0                         1                            0   \n",
       "1                         0                            0   \n",
       "2                         1                            0   \n",
       "3                         0                            0   \n",
       "4                         0                            0   \n",
       "\n",
       "   Outlet_Location_Type_Tier 3  \n",
       "0                            0  \n",
       "1                            1  \n",
       "2                            0  \n",
       "3                            1  \n",
       "4                            1  \n",
       "\n",
       "[5 rows x 35 columns]"
      ]
     },
     "execution_count": 146,
     "metadata": {},
     "output_type": "execute_result"
    }
   ],
   "source": [
    "data1.head()"
   ]
  },
  {
   "cell_type": "code",
   "execution_count": 147,
   "metadata": {},
   "outputs": [],
   "source": [
    "X = data1.drop(['Item_Outlet_Sales','Item_Weight','Outlet_Size','Item_Identifier'],axis=1)\n",
    "Y = data1['Item_Outlet_Sales']"
   ]
  },
  {
   "cell_type": "code",
   "execution_count": 148,
   "metadata": {},
   "outputs": [
    {
     "data": {
      "text/plain": [
       "Item_Visibility                    False\n",
       "Item_MRP                           False\n",
       "Outlet_Establishment_Year          False\n",
       "Outlet_Type                        False\n",
       "Item_Type_Breads                   False\n",
       "Item_Type_Breakfast                False\n",
       "Item_Type_Canned                   False\n",
       "Item_Type_Dairy                    False\n",
       "Item_Type_Frozen Foods             False\n",
       "Item_Type_Fruits and Vegetables    False\n",
       "Item_Type_Hard Drinks              False\n",
       "Item_Type_Health and Hygiene       False\n",
       "Item_Type_Household                False\n",
       "Item_Type_Meat                     False\n",
       "Item_Type_Others                   False\n",
       "Item_Type_Seafood                  False\n",
       "Item_Type_Snack Foods              False\n",
       "Item_Type_Soft Drinks              False\n",
       "Item_Type_Starchy Foods            False\n",
       "Item_Fat_Content_Regular           False\n",
       "Outlet_Identifier_OUT013           False\n",
       "Outlet_Identifier_OUT017           False\n",
       "Outlet_Identifier_OUT018           False\n",
       "Outlet_Identifier_OUT019           False\n",
       "Outlet_Identifier_OUT027           False\n",
       "Outlet_Identifier_OUT035           False\n",
       "Outlet_Identifier_OUT045           False\n",
       "Outlet_Identifier_OUT046           False\n",
       "Outlet_Identifier_OUT049           False\n",
       "Outlet_Location_Type_Tier 2        False\n",
       "Outlet_Location_Type_Tier 3        False\n",
       "dtype: bool"
      ]
     },
     "execution_count": 148,
     "metadata": {},
     "output_type": "execute_result"
    }
   ],
   "source": [
    "X.isnull().any()"
   ]
  },
  {
   "cell_type": "code",
   "execution_count": 149,
   "metadata": {},
   "outputs": [],
   "source": [
    "from sklearn.model_selection import train_test_split\n",
    "x_train , x_test , y_train , y_test = train_test_split(X,Y,test_size=0.3)"
   ]
  },
  {
   "cell_type": "code",
   "execution_count": 150,
   "metadata": {},
   "outputs": [
    {
     "name": "stdout",
     "output_type": "stream",
     "text": [
      "(5966, 31) (2557, 31)\n",
      "(5966,) (2557,)\n"
     ]
    }
   ],
   "source": [
    "print(x_train.shape,x_test.shape)\n",
    "print(y_train.shape,y_test.shape)"
   ]
  },
  {
   "cell_type": "code",
   "execution_count": 151,
   "metadata": {},
   "outputs": [
    {
     "data": {
      "text/plain": [
       "LinearRegression(copy_X=True, fit_intercept=True, n_jobs=None, normalize=False)"
      ]
     },
     "execution_count": 151,
     "metadata": {},
     "output_type": "execute_result"
    }
   ],
   "source": [
    "from sklearn.linear_model import LinearRegression\n",
    "lr = LinearRegression()\n",
    "lr.fit(x_train,y_train)"
   ]
  },
  {
   "cell_type": "code",
   "execution_count": 156,
   "metadata": {},
   "outputs": [],
   "source": [
    "y_pred = lr.predict(x_test)"
   ]
  },
  {
   "cell_type": "code",
   "execution_count": 154,
   "metadata": {},
   "outputs": [],
   "source": [
    "from sklearn.metrics import r2_score"
   ]
  },
  {
   "cell_type": "code",
   "execution_count": 157,
   "metadata": {},
   "outputs": [
    {
     "data": {
      "text/plain": [
       "0.23815491696973023"
      ]
     },
     "execution_count": 157,
     "metadata": {},
     "output_type": "execute_result"
    }
   ],
   "source": [
    "r2_score(y_pred,y_test)"
   ]
  },
  {
   "cell_type": "code",
   "execution_count": null,
   "metadata": {},
   "outputs": [],
   "source": []
  }
 ],
 "metadata": {
  "kernelspec": {
   "display_name": "Python 3",
   "language": "python",
   "name": "python3"
  },
  "language_info": {
   "codemirror_mode": {
    "name": "ipython",
    "version": 3
   },
   "file_extension": ".py",
   "mimetype": "text/x-python",
   "name": "python",
   "nbconvert_exporter": "python",
   "pygments_lexer": "ipython3",
   "version": "3.7.6"
  }
 },
 "nbformat": 4,
 "nbformat_minor": 4
}
