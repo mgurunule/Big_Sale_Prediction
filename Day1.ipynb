{
 "cells": [
  {
   "cell_type": "code",
   "execution_count": 5,
   "metadata": {},
   "outputs": [],
   "source": [
    "import numpy as np\n",
    "import pandas as pd\n",
    "import matplotlib.pyplot as plt\n",
    "%matplotlib inline\n",
    "import seaborn as sns"
   ]
  },
  {
   "cell_type": "code",
   "execution_count": 6,
   "metadata": {},
   "outputs": [],
   "source": [
    "data = pd.read_csv(\"train.csv\")"
   ]
  },
  {
   "cell_type": "code",
   "execution_count": 7,
   "metadata": {},
   "outputs": [
    {
     "data": {
      "text/html": [
       "<div>\n",
       "<style scoped>\n",
       "    .dataframe tbody tr th:only-of-type {\n",
       "        vertical-align: middle;\n",
       "    }\n",
       "\n",
       "    .dataframe tbody tr th {\n",
       "        vertical-align: top;\n",
       "    }\n",
       "\n",
       "    .dataframe thead th {\n",
       "        text-align: right;\n",
       "    }\n",
       "</style>\n",
       "<table border=\"1\" class=\"dataframe\">\n",
       "  <thead>\n",
       "    <tr style=\"text-align: right;\">\n",
       "      <th></th>\n",
       "      <th>Item_Identifier</th>\n",
       "      <th>Item_Weight</th>\n",
       "      <th>Item_Fat_Content</th>\n",
       "      <th>Item_Visibility</th>\n",
       "      <th>Item_Type</th>\n",
       "      <th>Item_MRP</th>\n",
       "      <th>Outlet_Identifier</th>\n",
       "      <th>Outlet_Establishment_Year</th>\n",
       "      <th>Outlet_Size</th>\n",
       "      <th>Outlet_Location_Type</th>\n",
       "      <th>Outlet_Type</th>\n",
       "      <th>Item_Outlet_Sales</th>\n",
       "    </tr>\n",
       "  </thead>\n",
       "  <tbody>\n",
       "    <tr>\n",
       "      <th>0</th>\n",
       "      <td>FDA15</td>\n",
       "      <td>9.30</td>\n",
       "      <td>Low Fat</td>\n",
       "      <td>0.016047</td>\n",
       "      <td>Dairy</td>\n",
       "      <td>249.8092</td>\n",
       "      <td>OUT049</td>\n",
       "      <td>1999</td>\n",
       "      <td>Medium</td>\n",
       "      <td>Tier 1</td>\n",
       "      <td>Supermarket Type1</td>\n",
       "      <td>3735.1380</td>\n",
       "    </tr>\n",
       "    <tr>\n",
       "      <th>1</th>\n",
       "      <td>DRC01</td>\n",
       "      <td>5.92</td>\n",
       "      <td>Regular</td>\n",
       "      <td>0.019278</td>\n",
       "      <td>Soft Drinks</td>\n",
       "      <td>48.2692</td>\n",
       "      <td>OUT018</td>\n",
       "      <td>2009</td>\n",
       "      <td>Medium</td>\n",
       "      <td>Tier 3</td>\n",
       "      <td>Supermarket Type2</td>\n",
       "      <td>443.4228</td>\n",
       "    </tr>\n",
       "    <tr>\n",
       "      <th>2</th>\n",
       "      <td>FDN15</td>\n",
       "      <td>17.50</td>\n",
       "      <td>Low Fat</td>\n",
       "      <td>0.016760</td>\n",
       "      <td>Meat</td>\n",
       "      <td>141.6180</td>\n",
       "      <td>OUT049</td>\n",
       "      <td>1999</td>\n",
       "      <td>Medium</td>\n",
       "      <td>Tier 1</td>\n",
       "      <td>Supermarket Type1</td>\n",
       "      <td>2097.2700</td>\n",
       "    </tr>\n",
       "    <tr>\n",
       "      <th>3</th>\n",
       "      <td>FDX07</td>\n",
       "      <td>19.20</td>\n",
       "      <td>Regular</td>\n",
       "      <td>0.000000</td>\n",
       "      <td>Fruits and Vegetables</td>\n",
       "      <td>182.0950</td>\n",
       "      <td>OUT010</td>\n",
       "      <td>1998</td>\n",
       "      <td>NaN</td>\n",
       "      <td>Tier 3</td>\n",
       "      <td>Grocery Store</td>\n",
       "      <td>732.3800</td>\n",
       "    </tr>\n",
       "    <tr>\n",
       "      <th>4</th>\n",
       "      <td>NCD19</td>\n",
       "      <td>8.93</td>\n",
       "      <td>Low Fat</td>\n",
       "      <td>0.000000</td>\n",
       "      <td>Household</td>\n",
       "      <td>53.8614</td>\n",
       "      <td>OUT013</td>\n",
       "      <td>1987</td>\n",
       "      <td>High</td>\n",
       "      <td>Tier 3</td>\n",
       "      <td>Supermarket Type1</td>\n",
       "      <td>994.7052</td>\n",
       "    </tr>\n",
       "  </tbody>\n",
       "</table>\n",
       "</div>"
      ],
      "text/plain": [
       "  Item_Identifier  Item_Weight Item_Fat_Content  Item_Visibility  \\\n",
       "0           FDA15         9.30          Low Fat         0.016047   \n",
       "1           DRC01         5.92          Regular         0.019278   \n",
       "2           FDN15        17.50          Low Fat         0.016760   \n",
       "3           FDX07        19.20          Regular         0.000000   \n",
       "4           NCD19         8.93          Low Fat         0.000000   \n",
       "\n",
       "               Item_Type  Item_MRP Outlet_Identifier  \\\n",
       "0                  Dairy  249.8092            OUT049   \n",
       "1            Soft Drinks   48.2692            OUT018   \n",
       "2                   Meat  141.6180            OUT049   \n",
       "3  Fruits and Vegetables  182.0950            OUT010   \n",
       "4              Household   53.8614            OUT013   \n",
       "\n",
       "   Outlet_Establishment_Year Outlet_Size Outlet_Location_Type  \\\n",
       "0                       1999      Medium               Tier 1   \n",
       "1                       2009      Medium               Tier 3   \n",
       "2                       1999      Medium               Tier 1   \n",
       "3                       1998         NaN               Tier 3   \n",
       "4                       1987        High               Tier 3   \n",
       "\n",
       "         Outlet_Type  Item_Outlet_Sales  \n",
       "0  Supermarket Type1          3735.1380  \n",
       "1  Supermarket Type2           443.4228  \n",
       "2  Supermarket Type1          2097.2700  \n",
       "3      Grocery Store           732.3800  \n",
       "4  Supermarket Type1           994.7052  "
      ]
     },
     "execution_count": 7,
     "metadata": {},
     "output_type": "execute_result"
    }
   ],
   "source": [
    "data.head()"
   ]
  },
  {
   "cell_type": "code",
   "execution_count": 8,
   "metadata": {},
   "outputs": [
    {
     "data": {
      "text/plain": [
       "Index(['Item_Identifier', 'Item_Weight', 'Item_Fat_Content', 'Item_Visibility',\n",
       "       'Item_Type', 'Item_MRP', 'Outlet_Identifier',\n",
       "       'Outlet_Establishment_Year', 'Outlet_Size', 'Outlet_Location_Type',\n",
       "       'Outlet_Type', 'Item_Outlet_Sales'],\n",
       "      dtype='object')"
      ]
     },
     "execution_count": 8,
     "metadata": {},
     "output_type": "execute_result"
    }
   ],
   "source": [
    "data.columns"
   ]
  },
  {
   "cell_type": "code",
   "execution_count": 9,
   "metadata": {},
   "outputs": [
    {
     "name": "stdout",
     "output_type": "stream",
     "text": [
      "<class 'pandas.core.frame.DataFrame'>\n",
      "RangeIndex: 8523 entries, 0 to 8522\n",
      "Data columns (total 12 columns):\n",
      " #   Column                     Non-Null Count  Dtype  \n",
      "---  ------                     --------------  -----  \n",
      " 0   Item_Identifier            8523 non-null   object \n",
      " 1   Item_Weight                7060 non-null   float64\n",
      " 2   Item_Fat_Content           8523 non-null   object \n",
      " 3   Item_Visibility            8523 non-null   float64\n",
      " 4   Item_Type                  8523 non-null   object \n",
      " 5   Item_MRP                   8523 non-null   float64\n",
      " 6   Outlet_Identifier          8523 non-null   object \n",
      " 7   Outlet_Establishment_Year  8523 non-null   int64  \n",
      " 8   Outlet_Size                6113 non-null   object \n",
      " 9   Outlet_Location_Type       8523 non-null   object \n",
      " 10  Outlet_Type                8523 non-null   object \n",
      " 11  Item_Outlet_Sales          8523 non-null   float64\n",
      "dtypes: float64(4), int64(1), object(7)\n",
      "memory usage: 799.2+ KB\n"
     ]
    }
   ],
   "source": [
    "data.info()"
   ]
  },
  {
   "cell_type": "code",
   "execution_count": 10,
   "metadata": {},
   "outputs": [
    {
     "data": {
      "text/html": [
       "<div>\n",
       "<style scoped>\n",
       "    .dataframe tbody tr th:only-of-type {\n",
       "        vertical-align: middle;\n",
       "    }\n",
       "\n",
       "    .dataframe tbody tr th {\n",
       "        vertical-align: top;\n",
       "    }\n",
       "\n",
       "    .dataframe thead th {\n",
       "        text-align: right;\n",
       "    }\n",
       "</style>\n",
       "<table border=\"1\" class=\"dataframe\">\n",
       "  <thead>\n",
       "    <tr style=\"text-align: right;\">\n",
       "      <th></th>\n",
       "      <th>Item_Weight</th>\n",
       "      <th>Item_Visibility</th>\n",
       "      <th>Item_MRP</th>\n",
       "      <th>Outlet_Establishment_Year</th>\n",
       "      <th>Item_Outlet_Sales</th>\n",
       "    </tr>\n",
       "  </thead>\n",
       "  <tbody>\n",
       "    <tr>\n",
       "      <th>count</th>\n",
       "      <td>7060.000000</td>\n",
       "      <td>8523.000000</td>\n",
       "      <td>8523.000000</td>\n",
       "      <td>8523.000000</td>\n",
       "      <td>8523.000000</td>\n",
       "    </tr>\n",
       "    <tr>\n",
       "      <th>mean</th>\n",
       "      <td>12.857645</td>\n",
       "      <td>0.066132</td>\n",
       "      <td>140.992782</td>\n",
       "      <td>1997.831867</td>\n",
       "      <td>2181.288914</td>\n",
       "    </tr>\n",
       "    <tr>\n",
       "      <th>std</th>\n",
       "      <td>4.643456</td>\n",
       "      <td>0.051598</td>\n",
       "      <td>62.275067</td>\n",
       "      <td>8.371760</td>\n",
       "      <td>1706.499616</td>\n",
       "    </tr>\n",
       "    <tr>\n",
       "      <th>min</th>\n",
       "      <td>4.555000</td>\n",
       "      <td>0.000000</td>\n",
       "      <td>31.290000</td>\n",
       "      <td>1985.000000</td>\n",
       "      <td>33.290000</td>\n",
       "    </tr>\n",
       "    <tr>\n",
       "      <th>25%</th>\n",
       "      <td>8.773750</td>\n",
       "      <td>0.026989</td>\n",
       "      <td>93.826500</td>\n",
       "      <td>1987.000000</td>\n",
       "      <td>834.247400</td>\n",
       "    </tr>\n",
       "    <tr>\n",
       "      <th>50%</th>\n",
       "      <td>12.600000</td>\n",
       "      <td>0.053931</td>\n",
       "      <td>143.012800</td>\n",
       "      <td>1999.000000</td>\n",
       "      <td>1794.331000</td>\n",
       "    </tr>\n",
       "    <tr>\n",
       "      <th>75%</th>\n",
       "      <td>16.850000</td>\n",
       "      <td>0.094585</td>\n",
       "      <td>185.643700</td>\n",
       "      <td>2004.000000</td>\n",
       "      <td>3101.296400</td>\n",
       "    </tr>\n",
       "    <tr>\n",
       "      <th>max</th>\n",
       "      <td>21.350000</td>\n",
       "      <td>0.328391</td>\n",
       "      <td>266.888400</td>\n",
       "      <td>2009.000000</td>\n",
       "      <td>13086.964800</td>\n",
       "    </tr>\n",
       "  </tbody>\n",
       "</table>\n",
       "</div>"
      ],
      "text/plain": [
       "       Item_Weight  Item_Visibility     Item_MRP  Outlet_Establishment_Year  \\\n",
       "count  7060.000000      8523.000000  8523.000000                8523.000000   \n",
       "mean     12.857645         0.066132   140.992782                1997.831867   \n",
       "std       4.643456         0.051598    62.275067                   8.371760   \n",
       "min       4.555000         0.000000    31.290000                1985.000000   \n",
       "25%       8.773750         0.026989    93.826500                1987.000000   \n",
       "50%      12.600000         0.053931   143.012800                1999.000000   \n",
       "75%      16.850000         0.094585   185.643700                2004.000000   \n",
       "max      21.350000         0.328391   266.888400                2009.000000   \n",
       "\n",
       "       Item_Outlet_Sales  \n",
       "count        8523.000000  \n",
       "mean         2181.288914  \n",
       "std          1706.499616  \n",
       "min            33.290000  \n",
       "25%           834.247400  \n",
       "50%          1794.331000  \n",
       "75%          3101.296400  \n",
       "max         13086.964800  "
      ]
     },
     "execution_count": 10,
     "metadata": {},
     "output_type": "execute_result"
    }
   ],
   "source": [
    "data.describe()"
   ]
  },
  {
   "cell_type": "code",
   "execution_count": 11,
   "metadata": {},
   "outputs": [
    {
     "data": {
      "text/html": [
       "<div>\n",
       "<style scoped>\n",
       "    .dataframe tbody tr th:only-of-type {\n",
       "        vertical-align: middle;\n",
       "    }\n",
       "\n",
       "    .dataframe tbody tr th {\n",
       "        vertical-align: top;\n",
       "    }\n",
       "\n",
       "    .dataframe thead th {\n",
       "        text-align: right;\n",
       "    }\n",
       "</style>\n",
       "<table border=\"1\" class=\"dataframe\">\n",
       "  <thead>\n",
       "    <tr style=\"text-align: right;\">\n",
       "      <th></th>\n",
       "      <th>Item_Identifier</th>\n",
       "      <th>Item_Fat_Content</th>\n",
       "      <th>Item_Type</th>\n",
       "      <th>Outlet_Identifier</th>\n",
       "      <th>Outlet_Size</th>\n",
       "      <th>Outlet_Location_Type</th>\n",
       "      <th>Outlet_Type</th>\n",
       "    </tr>\n",
       "  </thead>\n",
       "  <tbody>\n",
       "    <tr>\n",
       "      <th>count</th>\n",
       "      <td>8523</td>\n",
       "      <td>8523</td>\n",
       "      <td>8523</td>\n",
       "      <td>8523</td>\n",
       "      <td>6113</td>\n",
       "      <td>8523</td>\n",
       "      <td>8523</td>\n",
       "    </tr>\n",
       "    <tr>\n",
       "      <th>unique</th>\n",
       "      <td>1559</td>\n",
       "      <td>5</td>\n",
       "      <td>16</td>\n",
       "      <td>10</td>\n",
       "      <td>3</td>\n",
       "      <td>3</td>\n",
       "      <td>4</td>\n",
       "    </tr>\n",
       "    <tr>\n",
       "      <th>top</th>\n",
       "      <td>FDW13</td>\n",
       "      <td>Low Fat</td>\n",
       "      <td>Fruits and Vegetables</td>\n",
       "      <td>OUT027</td>\n",
       "      <td>Medium</td>\n",
       "      <td>Tier 3</td>\n",
       "      <td>Supermarket Type1</td>\n",
       "    </tr>\n",
       "    <tr>\n",
       "      <th>freq</th>\n",
       "      <td>10</td>\n",
       "      <td>5089</td>\n",
       "      <td>1232</td>\n",
       "      <td>935</td>\n",
       "      <td>2793</td>\n",
       "      <td>3350</td>\n",
       "      <td>5577</td>\n",
       "    </tr>\n",
       "  </tbody>\n",
       "</table>\n",
       "</div>"
      ],
      "text/plain": [
       "       Item_Identifier Item_Fat_Content              Item_Type  \\\n",
       "count             8523             8523                   8523   \n",
       "unique            1559                5                     16   \n",
       "top              FDW13          Low Fat  Fruits and Vegetables   \n",
       "freq                10             5089                   1232   \n",
       "\n",
       "       Outlet_Identifier Outlet_Size Outlet_Location_Type        Outlet_Type  \n",
       "count               8523        6113                 8523               8523  \n",
       "unique                10           3                    3                  4  \n",
       "top               OUT027      Medium               Tier 3  Supermarket Type1  \n",
       "freq                 935        2793                 3350               5577  "
      ]
     },
     "execution_count": 11,
     "metadata": {},
     "output_type": "execute_result"
    }
   ],
   "source": [
    "data.describe(include='O')"
   ]
  },
  {
   "cell_type": "code",
   "execution_count": 12,
   "metadata": {},
   "outputs": [
    {
     "data": {
      "text/plain": [
       "Item_Identifier               0.000000\n",
       "Item_Weight                  17.165317\n",
       "Item_Fat_Content              0.000000\n",
       "Item_Visibility               0.000000\n",
       "Item_Type                     0.000000\n",
       "Item_MRP                      0.000000\n",
       "Outlet_Identifier             0.000000\n",
       "Outlet_Establishment_Year     0.000000\n",
       "Outlet_Size                  28.276428\n",
       "Outlet_Location_Type          0.000000\n",
       "Outlet_Type                   0.000000\n",
       "Item_Outlet_Sales             0.000000\n",
       "dtype: float64"
      ]
     },
     "execution_count": 12,
     "metadata": {},
     "output_type": "execute_result"
    }
   ],
   "source": [
    "data.isnull().mean() * 100"
   ]
  },
  {
   "cell_type": "code",
   "execution_count": 13,
   "metadata": {},
   "outputs": [],
   "source": [
    "#data.dropna(how='any',axis=0,inplace=True)\n",
    "#data.shape (4650,12) # dropping almost half of the records which will not be good for the Model"
   ]
  },
  {
   "cell_type": "code",
   "execution_count": null,
   "metadata": {},
   "outputs": [],
   "source": []
  },
  {
   "cell_type": "markdown",
   "metadata": {},
   "source": [
    "### There are total 12 columns\n",
    "- **11 are Independent variable**               \n",
    "    Item_Identifier                    \n",
    "    Item_Weight                    \n",
    "    Item_Fat_Content                    \n",
    "    Item_Visibility                  \n",
    "    Item_Type                      \n",
    "    Item_MRP                      \n",
    "    Outlet_Identifier                    \n",
    "    Outlet_Establishment_Year                \n",
    "    Outlet_Size                             \n",
    "    Outlet_Location_Type                    \n",
    "    Outlet_Type    \n",
    "    \n",
    "    \n",
    "\n",
    "- **1 target variable (numerical feature)**               \n",
    "    Item_Outlet_Sales                  "
   ]
  },
  {
   "cell_type": "markdown",
   "metadata": {},
   "source": [
    "## **Independent Variable**\n",
    "\n",
    "**Numerical features**                   \n",
    "Item_Weight ;                                                                                              \t\n",
    "Item_Visibility                         \n",
    "Item_MRP                      \n",
    "Outlet_Establishment_Year                          \n",
    "\n",
    "**Categorical features**                  \n",
    "Item_Identifier              \n",
    "Item_Fat_Content               \n",
    "Item_Type                    \n",
    "Outlet_Identifier                 \n",
    "Outlet_Size                  \n",
    "Outlet_Location_Type                 \n",
    "Outlet_Type                      \n",
    "\n",
    "\n",
    "\n"
   ]
  },
  {
   "cell_type": "markdown",
   "metadata": {},
   "source": [
    "## UNIVARIATE\n",
    "\n",
    "### Numerical\n",
    "\n",
    "\n",
    "\n",
    "\n"
   ]
  },
  {
   "cell_type": "code",
   "execution_count": 14,
   "metadata": {},
   "outputs": [
    {
     "data": {
      "text/plain": [
       "<matplotlib.axes._subplots.AxesSubplot at 0x1fe1c0bfa48>"
      ]
     },
     "execution_count": 14,
     "metadata": {},
     "output_type": "execute_result"
    },
    {
     "data": {
      "image/png": "[encoded data removed]",
      "text/plain": [
       "<Figure size 432x288 with 1 Axes>"
      ]
     },
     "metadata": {
      "needs_background": "light"
     },
     "output_type": "display_data"
    }
   ],
   "source": [
    "data['Item_Visibility'].hist()"
   ]
  },
  {
   "cell_type": "code",
   "execution_count": 15,
   "metadata": {},
   "outputs": [
    {
     "data": {
      "image/png": "[encoded data removed]",
      "text/plain": [
       "<Figure size 432x288 with 2 Axes>"
      ]
     },
     "metadata": {
      "needs_background": "light"
     },
     "output_type": "display_data"
    }
   ],
   "source": [
    "# remove Nan values before plotting graph otherwise it will throw error\n",
    "plt.figure(1)\n",
    "plt.subplot(121)\n",
    "sns.distplot(data['Item_Visibility'])\n",
    "\n",
    "plt.subplot(122)\n",
    "\n",
    "data['Item_Visibility'].plot.box()\n",
    "plt.show()"
   ]
  },
  {
   "cell_type": "markdown",
   "metadata": {},
   "source": [
    "### Categorical"
   ]
  },
  {
   "cell_type": "markdown",
   "metadata": {},
   "source": [
    "Item_Fat_Content              \n",
    "Item_Type                  \n",
    "Outlet_Identifier            \n",
    "Outlet_Size                 \n",
    "Outlet_Location_Type              \n",
    "Outlet_Type            "
   ]
  },
  {
   "cell_type": "code",
   "execution_count": 16,
   "metadata": {},
   "outputs": [
    {
     "data": {
      "text/plain": [
       "Low Fat    5089\n",
       "Regular    2889\n",
       "LF          316\n",
       "reg         117\n",
       "low fat     112\n",
       "Name: Item_Fat_Content, dtype: int64"
      ]
     },
     "execution_count": 16,
     "metadata": {},
     "output_type": "execute_result"
    }
   ],
   "source": [
    "data['Item_Fat_Content'].value_counts()"
   ]
  },
  {
   "cell_type": "code",
   "execution_count": 17,
   "metadata": {},
   "outputs": [],
   "source": [
    "fat_content = {\n",
    "    'Low Fat': 'Low Fat',\n",
    "    'LF': 'Low Fat',\n",
    "    'low fat': 'Low Fat',\n",
    "    'Regular': 'Regular',\n",
    "    'reg': 'Regular',\n",
    "}"
   ]
  },
  {
   "cell_type": "code",
   "execution_count": 18,
   "metadata": {},
   "outputs": [],
   "source": [
    "data['Item_Fat_Content'] = data['Item_Fat_Content'].map(fat_content)"
   ]
  },
  {
   "cell_type": "code",
   "execution_count": 19,
   "metadata": {},
   "outputs": [
    {
     "data": {
      "text/plain": [
       "Low Fat    5517\n",
       "Regular    3006\n",
       "Name: Item_Fat_Content, dtype: int64"
      ]
     },
     "execution_count": 19,
     "metadata": {},
     "output_type": "execute_result"
    }
   ],
   "source": [
    "data['Item_Fat_Content'].value_counts()"
   ]
  },
  {
   "cell_type": "code",
   "execution_count": 20,
   "metadata": {},
   "outputs": [
    {
     "data": {
      "text/plain": [
       "Fruits and Vegetables    1232\n",
       "Snack Foods              1200\n",
       "Household                 910\n",
       "Frozen Foods              856\n",
       "Dairy                     682\n",
       "Canned                    649\n",
       "Baking Goods              648\n",
       "Health and Hygiene        520\n",
       "Soft Drinks               445\n",
       "Meat                      425\n",
       "Breads                    251\n",
       "Hard Drinks               214\n",
       "Others                    169\n",
       "Starchy Foods             148\n",
       "Breakfast                 110\n",
       "Seafood                    64\n",
       "Name: Item_Type, dtype: int64"
      ]
     },
     "execution_count": 20,
     "metadata": {},
     "output_type": "execute_result"
    }
   ],
   "source": [
    "data['Item_Type'].value_counts()"
   ]
  },
  {
   "cell_type": "code",
   "execution_count": 21,
   "metadata": {},
   "outputs": [
    {
     "data": {
      "text/plain": [
       "OUT027    935\n",
       "OUT013    932\n",
       "OUT049    930\n",
       "OUT035    930\n",
       "OUT046    930\n",
       "OUT045    929\n",
       "OUT018    928\n",
       "OUT017    926\n",
       "OUT010    555\n",
       "OUT019    528\n",
       "Name: Outlet_Identifier, dtype: int64"
      ]
     },
     "execution_count": 21,
     "metadata": {},
     "output_type": "execute_result"
    }
   ],
   "source": [
    "data['Outlet_Identifier'].value_counts()"
   ]
  },
  {
   "cell_type": "code",
   "execution_count": 22,
   "metadata": {},
   "outputs": [
    {
     "data": {
      "text/plain": [
       "Medium    2793\n",
       "Small     2388\n",
       "High       932\n",
       "Name: Outlet_Size, dtype: int64"
      ]
     },
     "execution_count": 22,
     "metadata": {},
     "output_type": "execute_result"
    }
   ],
   "source": [
    "data['Outlet_Size'].value_counts()"
   ]
  },
  {
   "cell_type": "code",
   "execution_count": 23,
   "metadata": {},
   "outputs": [
    {
     "data": {
      "text/plain": [
       "Tier 3    3350\n",
       "Tier 2    2785\n",
       "Tier 1    2388\n",
       "Name: Outlet_Location_Type, dtype: int64"
      ]
     },
     "execution_count": 23,
     "metadata": {},
     "output_type": "execute_result"
    }
   ],
   "source": [
    "data['Outlet_Location_Type'].value_counts()"
   ]
  },
  {
   "cell_type": "code",
   "execution_count": 24,
   "metadata": {},
   "outputs": [
    {
     "data": {
      "text/plain": [
       "Supermarket Type1    5577\n",
       "Grocery Store        1083\n",
       "Supermarket Type3     935\n",
       "Supermarket Type2     928\n",
       "Name: Outlet_Type, dtype: int64"
      ]
     },
     "execution_count": 24,
     "metadata": {},
     "output_type": "execute_result"
    }
   ],
   "source": [
    "data['Outlet_Type'].value_counts()"
   ]
  },
  {
   "cell_type": "markdown",
   "metadata": {},
   "source": [
    "## BI-VARIATE"
   ]
  },
  {
   "cell_type": "code",
   "execution_count": 25,
   "metadata": {},
   "outputs": [],
   "source": [
    "import statsmodels.formula.api as smf"
   ]
  },
  {
   "cell_type": "code",
   "execution_count": 26,
   "metadata": {},
   "outputs": [
    {
     "data": {
      "text/html": [
       "<table class=\"simpletable\">\n",
       "<caption>OLS Regression Results</caption>\n",
       "<tr>\n",
       "  <th>Dep. Variable:</th>    <td>Item_Outlet_Sales</td> <th>  R-squared:         </th> <td>   0.017</td> \n",
       "</tr>\n",
       "<tr>\n",
       "  <th>Model:</th>                   <td>OLS</td>        <th>  Adj. R-squared:    </th> <td>   0.016</td> \n",
       "</tr>\n",
       "<tr>\n",
       "  <th>Method:</th>             <td>Least Squares</td>   <th>  F-statistic:       </th> <td>   143.3</td> \n",
       "</tr>\n",
       "<tr>\n",
       "  <th>Date:</th>             <td>Tue, 24 Nov 2020</td>  <th>  Prob (F-statistic):</th> <td>9.04e-33</td> \n",
       "</tr>\n",
       "<tr>\n",
       "  <th>Time:</th>                 <td>08:40:51</td>      <th>  Log-Likelihood:    </th> <td> -75452.</td> \n",
       "</tr>\n",
       "<tr>\n",
       "  <th>No. Observations:</th>      <td>  8523</td>       <th>  AIC:               </th> <td>1.509e+05</td>\n",
       "</tr>\n",
       "<tr>\n",
       "  <th>Df Residuals:</th>          <td>  8521</td>       <th>  BIC:               </th> <td>1.509e+05</td>\n",
       "</tr>\n",
       "<tr>\n",
       "  <th>Df Model:</th>              <td>     1</td>       <th>                     </th>     <td> </td>    \n",
       "</tr>\n",
       "<tr>\n",
       "  <th>Covariance Type:</th>      <td>nonrobust</td>     <th>                     </th>     <td> </td>    \n",
       "</tr>\n",
       "</table>\n",
       "<table class=\"simpletable\">\n",
       "<tr>\n",
       "         <td></td>            <th>coef</th>     <th>std err</th>      <th>t</th>      <th>P>|t|</th>  <th>[0.025</th>    <th>0.975]</th>  \n",
       "</tr>\n",
       "<tr>\n",
       "  <th>Intercept</th>       <td> 2462.6155</td> <td>   29.803</td> <td>   82.631</td> <td> 0.000</td> <td> 2404.195</td> <td> 2521.036</td>\n",
       "</tr>\n",
       "<tr>\n",
       "  <th>Item_Visibility</th> <td>-4254.0139</td> <td>  355.310</td> <td>  -11.973</td> <td> 0.000</td> <td>-4950.507</td> <td>-3557.521</td>\n",
       "</tr>\n",
       "</table>\n",
       "<table class=\"simpletable\">\n",
       "<tr>\n",
       "  <th>Omnibus:</th>       <td>1625.343</td> <th>  Durbin-Watson:     </th> <td>   1.992</td>\n",
       "</tr>\n",
       "<tr>\n",
       "  <th>Prob(Omnibus):</th>  <td> 0.000</td>  <th>  Jarque-Bera (JB):  </th> <td>2993.949</td>\n",
       "</tr>\n",
       "<tr>\n",
       "  <th>Skew:</th>           <td> 1.193</td>  <th>  Prob(JB):          </th> <td>    0.00</td>\n",
       "</tr>\n",
       "<tr>\n",
       "  <th>Kurtosis:</th>       <td> 4.654</td>  <th>  Cond. No.          </th> <td>    19.5</td>\n",
       "</tr>\n",
       "</table><br/><br/>Warnings:<br/>[1] Standard Errors assume that the covariance matrix of the errors is correctly specified."
      ],
      "text/plain": [
       "<class 'statsmodels.iolib.summary.Summary'>\n",
       "\"\"\"\n",
       "                            OLS Regression Results                            \n",
       "==============================================================================\n",
       "Dep. Variable:      Item_Outlet_Sales   R-squared:                       0.017\n",
       "Model:                            OLS   Adj. R-squared:                  0.016\n",
       "Method:                 Least Squares   F-statistic:                     143.3\n",
       "Date:                Tue, 24 Nov 2020   Prob (F-statistic):           9.04e-33\n",
       "Time:                        08:40:51   Log-Likelihood:                -75452.\n",
       "No. Observations:                8523   AIC:                         1.509e+05\n",
       "Df Residuals:                    8521   BIC:                         1.509e+05\n",
       "Df Model:                           1                                         \n",
       "Covariance Type:            nonrobust                                         \n",
       "===================================================================================\n",
       "                      coef    std err          t      P>|t|      [0.025      0.975]\n",
       "-----------------------------------------------------------------------------------\n",
       "Intercept        2462.6155     29.803     82.631      0.000    2404.195    2521.036\n",
       "Item_Visibility -4254.0139    355.310    -11.973      0.000   -4950.507   -3557.521\n",
       "==============================================================================\n",
       "Omnibus:                     1625.343   Durbin-Watson:                   1.992\n",
       "Prob(Omnibus):                  0.000   Jarque-Bera (JB):             2993.949\n",
       "Skew:                           1.193   Prob(JB):                         0.00\n",
       "Kurtosis:                       4.654   Cond. No.                         19.5\n",
       "==============================================================================\n",
       "\n",
       "Warnings:\n",
       "[1] Standard Errors assume that the covariance matrix of the errors is correctly specified.\n",
       "\"\"\""
      ]
     },
     "execution_count": 26,
     "metadata": {},
     "output_type": "execute_result"
    }
   ],
   "source": [
    "ols = smf.ols(formula='Item_Outlet_Sales ~ Item_Visibility',data=data).fit()\n",
    "ols.summary()"
   ]
  },
  {
   "cell_type": "code",
   "execution_count": 27,
   "metadata": {},
   "outputs": [
    {
     "data": {
      "text/html": [
       "<table class=\"simpletable\">\n",
       "<caption>OLS Regression Results</caption>\n",
       "<tr>\n",
       "  <th>Dep. Variable:</th>    <td>Item_Outlet_Sales</td> <th>  R-squared:         </th> <td>   0.322</td> \n",
       "</tr>\n",
       "<tr>\n",
       "  <th>Model:</th>                   <td>OLS</td>        <th>  Adj. R-squared:    </th> <td>   0.322</td> \n",
       "</tr>\n",
       "<tr>\n",
       "  <th>Method:</th>             <td>Least Squares</td>   <th>  F-statistic:       </th> <td>   4049.</td> \n",
       "</tr>\n",
       "<tr>\n",
       "  <th>Date:</th>             <td>Tue, 24 Nov 2020</td>  <th>  Prob (F-statistic):</th>  <td>  0.00</td>  \n",
       "</tr>\n",
       "<tr>\n",
       "  <th>Time:</th>                 <td>08:40:52</td>      <th>  Log-Likelihood:    </th> <td> -73866.</td> \n",
       "</tr>\n",
       "<tr>\n",
       "  <th>No. Observations:</th>      <td>  8523</td>       <th>  AIC:               </th> <td>1.477e+05</td>\n",
       "</tr>\n",
       "<tr>\n",
       "  <th>Df Residuals:</th>          <td>  8521</td>       <th>  BIC:               </th> <td>1.478e+05</td>\n",
       "</tr>\n",
       "<tr>\n",
       "  <th>Df Model:</th>              <td>     1</td>       <th>                     </th>     <td> </td>    \n",
       "</tr>\n",
       "<tr>\n",
       "  <th>Covariance Type:</th>      <td>nonrobust</td>     <th>                     </th>     <td> </td>    \n",
       "</tr>\n",
       "</table>\n",
       "<table class=\"simpletable\">\n",
       "<tr>\n",
       "      <td></td>         <th>coef</th>     <th>std err</th>      <th>t</th>      <th>P>|t|</th>  <th>[0.025</th>    <th>0.975]</th>  \n",
       "</tr>\n",
       "<tr>\n",
       "  <th>Intercept</th> <td>  -11.5751</td> <td>   37.671</td> <td>   -0.307</td> <td> 0.759</td> <td>  -85.420</td> <td>   62.270</td>\n",
       "</tr>\n",
       "<tr>\n",
       "  <th>Item_MRP</th>  <td>   15.5530</td> <td>    0.244</td> <td>   63.635</td> <td> 0.000</td> <td>   15.074</td> <td>   16.032</td>\n",
       "</tr>\n",
       "</table>\n",
       "<table class=\"simpletable\">\n",
       "<tr>\n",
       "  <th>Omnibus:</th>       <td>751.910</td> <th>  Durbin-Watson:     </th> <td>   1.988</td>\n",
       "</tr>\n",
       "<tr>\n",
       "  <th>Prob(Omnibus):</th> <td> 0.000</td>  <th>  Jarque-Bera (JB):  </th> <td>1620.941</td>\n",
       "</tr>\n",
       "<tr>\n",
       "  <th>Skew:</th>          <td> 0.566</td>  <th>  Prob(JB):          </th> <td>    0.00</td>\n",
       "</tr>\n",
       "<tr>\n",
       "  <th>Kurtosis:</th>      <td> 4.812</td>  <th>  Cond. No.          </th> <td>    382.</td>\n",
       "</tr>\n",
       "</table><br/><br/>Warnings:<br/>[1] Standard Errors assume that the covariance matrix of the errors is correctly specified."
      ],
      "text/plain": [
       "<class 'statsmodels.iolib.summary.Summary'>\n",
       "\"\"\"\n",
       "                            OLS Regression Results                            \n",
       "==============================================================================\n",
       "Dep. Variable:      Item_Outlet_Sales   R-squared:                       0.322\n",
       "Model:                            OLS   Adj. R-squared:                  0.322\n",
       "Method:                 Least Squares   F-statistic:                     4049.\n",
       "Date:                Tue, 24 Nov 2020   Prob (F-statistic):               0.00\n",
       "Time:                        08:40:52   Log-Likelihood:                -73866.\n",
       "No. Observations:                8523   AIC:                         1.477e+05\n",
       "Df Residuals:                    8521   BIC:                         1.478e+05\n",
       "Df Model:                           1                                         \n",
       "Covariance Type:            nonrobust                                         \n",
       "==============================================================================\n",
       "                 coef    std err          t      P>|t|      [0.025      0.975]\n",
       "------------------------------------------------------------------------------\n",
       "Intercept    -11.5751     37.671     -0.307      0.759     -85.420      62.270\n",
       "Item_MRP      15.5530      0.244     63.635      0.000      15.074      16.032\n",
       "==============================================================================\n",
       "Omnibus:                      751.910   Durbin-Watson:                   1.988\n",
       "Prob(Omnibus):                  0.000   Jarque-Bera (JB):             1620.941\n",
       "Skew:                           0.566   Prob(JB):                         0.00\n",
       "Kurtosis:                       4.812   Cond. No.                         382.\n",
       "==============================================================================\n",
       "\n",
       "Warnings:\n",
       "[1] Standard Errors assume that the covariance matrix of the errors is correctly specified.\n",
       "\"\"\""
      ]
     },
     "execution_count": 27,
     "metadata": {},
     "output_type": "execute_result"
    }
   ],
   "source": [
    "ols2 = smf.ols(formula='Item_Outlet_Sales ~ Item_MRP',data=data).fit()\n",
    "ols2.summary()"
   ]
  },
  {
   "cell_type": "code",
   "execution_count": 28,
   "metadata": {},
   "outputs": [
    {
     "data": {
      "text/html": [
       "<table class=\"simpletable\">\n",
       "<caption>OLS Regression Results</caption>\n",
       "<tr>\n",
       "  <th>Dep. Variable:</th>    <td>Item_Outlet_Sales</td> <th>  R-squared:         </th> <td>   0.002</td> \n",
       "</tr>\n",
       "<tr>\n",
       "  <th>Model:</th>                   <td>OLS</td>        <th>  Adj. R-squared:    </th> <td>   0.002</td> \n",
       "</tr>\n",
       "<tr>\n",
       "  <th>Method:</th>             <td>Least Squares</td>   <th>  F-statistic:       </th> <td>   20.62</td> \n",
       "</tr>\n",
       "<tr>\n",
       "  <th>Date:</th>             <td>Tue, 24 Nov 2020</td>  <th>  Prob (F-statistic):</th> <td>5.67e-06</td> \n",
       "</tr>\n",
       "<tr>\n",
       "  <th>Time:</th>                 <td>08:40:53</td>      <th>  Log-Likelihood:    </th> <td> -75513.</td> \n",
       "</tr>\n",
       "<tr>\n",
       "  <th>No. Observations:</th>      <td>  8523</td>       <th>  AIC:               </th> <td>1.510e+05</td>\n",
       "</tr>\n",
       "<tr>\n",
       "  <th>Df Residuals:</th>          <td>  8521</td>       <th>  BIC:               </th> <td>1.510e+05</td>\n",
       "</tr>\n",
       "<tr>\n",
       "  <th>Df Model:</th>              <td>     1</td>       <th>                     </th>     <td> </td>    \n",
       "</tr>\n",
       "<tr>\n",
       "  <th>Covariance Type:</th>      <td>nonrobust</td>     <th>                     </th>     <td> </td>    \n",
       "</tr>\n",
       "</table>\n",
       "<table class=\"simpletable\">\n",
       "<tr>\n",
       "              <td></td>                 <th>coef</th>     <th>std err</th>      <th>t</th>      <th>P>|t|</th>  <th>[0.025</th>    <th>0.975]</th>  \n",
       "</tr>\n",
       "<tr>\n",
       "  <th>Intercept</th>                 <td> 2.219e+04</td> <td> 4406.380</td> <td>    5.036</td> <td> 0.000</td> <td> 1.36e+04</td> <td> 3.08e+04</td>\n",
       "</tr>\n",
       "<tr>\n",
       "  <th>Outlet_Establishment_Year</th> <td>  -10.0157</td> <td>    2.206</td> <td>   -4.541</td> <td> 0.000</td> <td>  -14.339</td> <td>   -5.692</td>\n",
       "</tr>\n",
       "</table>\n",
       "<table class=\"simpletable\">\n",
       "<tr>\n",
       "  <th>Omnibus:</th>       <td>1502.025</td> <th>  Durbin-Watson:     </th> <td>   1.987</td>\n",
       "</tr>\n",
       "<tr>\n",
       "  <th>Prob(Omnibus):</th>  <td> 0.000</td>  <th>  Jarque-Bera (JB):  </th> <td>2634.450</td>\n",
       "</tr>\n",
       "<tr>\n",
       "  <th>Skew:</th>           <td> 1.136</td>  <th>  Prob(JB):          </th> <td>    0.00</td>\n",
       "</tr>\n",
       "<tr>\n",
       "  <th>Kurtosis:</th>       <td> 4.503</td>  <th>  Cond. No.          </th> <td>4.77e+05</td>\n",
       "</tr>\n",
       "</table><br/><br/>Warnings:<br/>[1] Standard Errors assume that the covariance matrix of the errors is correctly specified.<br/>[2] The condition number is large, 4.77e+05. This might indicate that there are<br/>strong multicollinearity or other numerical problems."
      ],
      "text/plain": [
       "<class 'statsmodels.iolib.summary.Summary'>\n",
       "\"\"\"\n",
       "                            OLS Regression Results                            \n",
       "==============================================================================\n",
       "Dep. Variable:      Item_Outlet_Sales   R-squared:                       0.002\n",
       "Model:                            OLS   Adj. R-squared:                  0.002\n",
       "Method:                 Least Squares   F-statistic:                     20.62\n",
       "Date:                Tue, 24 Nov 2020   Prob (F-statistic):           5.67e-06\n",
       "Time:                        08:40:53   Log-Likelihood:                -75513.\n",
       "No. Observations:                8523   AIC:                         1.510e+05\n",
       "Df Residuals:                    8521   BIC:                         1.510e+05\n",
       "Df Model:                           1                                         \n",
       "Covariance Type:            nonrobust                                         \n",
       "=============================================================================================\n",
       "                                coef    std err          t      P>|t|      [0.025      0.975]\n",
       "---------------------------------------------------------------------------------------------\n",
       "Intercept                  2.219e+04   4406.380      5.036      0.000    1.36e+04    3.08e+04\n",
       "Outlet_Establishment_Year   -10.0157      2.206     -4.541      0.000     -14.339      -5.692\n",
       "==============================================================================\n",
       "Omnibus:                     1502.025   Durbin-Watson:                   1.987\n",
       "Prob(Omnibus):                  0.000   Jarque-Bera (JB):             2634.450\n",
       "Skew:                           1.136   Prob(JB):                         0.00\n",
       "Kurtosis:                       4.503   Cond. No.                     4.77e+05\n",
       "==============================================================================\n",
       "\n",
       "Warnings:\n",
       "[1] Standard Errors assume that the covariance matrix of the errors is correctly specified.\n",
       "[2] The condition number is large, 4.77e+05. This might indicate that there are\n",
       "strong multicollinearity or other numerical problems.\n",
       "\"\"\""
      ]
     },
     "execution_count": 28,
     "metadata": {},
     "output_type": "execute_result"
    }
   ],
   "source": [
    "ols2 = smf.ols(formula='Item_Outlet_Sales ~ Outlet_Establishment_Year',data=data).fit()\n",
    "ols2.summary()"
   ]
  },
  {
   "cell_type": "markdown",
   "metadata": {},
   "source": [
    "## ANOVA TEST\n",
    "\n",
    "**1) Item_Fat_Content and Item_Outlet_Sales**                  \n",
    "\n",
    "**NULL hypothesis**: there is no relationship b/w Item_Fat_Content and Item_Outlet_Sales          \n",
    "**Alternate hypothesis**: there is relatioship b/w Item_Fat_Content and Item_Outlet_Sales    \n",
    "\n",
    "Below ols.summary() result shows that p-value(Prob (F-statistic):\t0.0840) is greater than 0.05, which means we should accept the NULL hypothesis.           \n",
    "\n",
    "But here we should not reply on ANOVA test as the categorical column have more than 2 categories. So we will go for tukey's test.\n",
    "\n",
    "\n",
    "Field : **Item_Fat_Content**             \n",
    "Low Fat 5517 ,Regular 3006\n"
   ]
  },
  {
   "cell_type": "code",
   "execution_count": 29,
   "metadata": {},
   "outputs": [
    {
     "data": {
      "image/png": "[encoded data removed]",
      "text/plain": [
       "<Figure size 360x360 with 1 Axes>"
      ]
     },
     "metadata": {
      "needs_background": "light"
     },
     "output_type": "display_data"
    }
   ],
   "source": [
    "# METHOD 1 (VISUALIZATION)\n",
    "sns.catplot(data=data,x='Item_Fat_Content',y='Item_Outlet_Sales',kind='bar')\n",
    "plt.show()\n",
    "# From the below image we can say that the mean of all the categories are alomst same...."
   ]
  },
  {
   "cell_type": "code",
   "execution_count": 30,
   "metadata": {},
   "outputs": [
    {
     "data": {
      "text/plain": [
       "<matplotlib.axes._subplots.AxesSubplot at 0x1fe1d17b308>"
      ]
     },
     "execution_count": 30,
     "metadata": {},
     "output_type": "execute_result"
    },
    {
     "data": {
      "image/png": "[encoded data removed]",
      "text/plain": [
       "<Figure size 432x288 with 1 Axes>"
      ]
     },
     "metadata": {
      "needs_background": "light"
     },
     "output_type": "display_data"
    }
   ],
   "source": [
    "# METHOD 2 (VISUALIZATION)\n",
    "data.boxplot('Item_Outlet_Sales',by='Item_Fat_Content')"
   ]
  },
  {
   "cell_type": "code",
   "execution_count": 31,
   "metadata": {},
   "outputs": [
    {
     "data": {
      "text/html": [
       "<table class=\"simpletable\">\n",
       "<caption>OLS Regression Results</caption>\n",
       "<tr>\n",
       "  <th>Dep. Variable:</th>    <td>Item_Outlet_Sales</td> <th>  R-squared:         </th> <td>   0.000</td> \n",
       "</tr>\n",
       "<tr>\n",
       "  <th>Model:</th>                   <td>OLS</td>        <th>  Adj. R-squared:    </th> <td>   0.000</td> \n",
       "</tr>\n",
       "<tr>\n",
       "  <th>Method:</th>             <td>Least Squares</td>   <th>  F-statistic:       </th> <td>   2.987</td> \n",
       "</tr>\n",
       "<tr>\n",
       "  <th>Date:</th>             <td>Tue, 24 Nov 2020</td>  <th>  Prob (F-statistic):</th>  <td>0.0840</td>  \n",
       "</tr>\n",
       "<tr>\n",
       "  <th>Time:</th>                 <td>08:41:17</td>      <th>  Log-Likelihood:    </th> <td> -75521.</td> \n",
       "</tr>\n",
       "<tr>\n",
       "  <th>No. Observations:</th>      <td>  8523</td>       <th>  AIC:               </th> <td>1.510e+05</td>\n",
       "</tr>\n",
       "<tr>\n",
       "  <th>Df Residuals:</th>          <td>  8521</td>       <th>  BIC:               </th> <td>1.511e+05</td>\n",
       "</tr>\n",
       "<tr>\n",
       "  <th>Df Model:</th>              <td>     1</td>       <th>                     </th>     <td> </td>    \n",
       "</tr>\n",
       "<tr>\n",
       "  <th>Covariance Type:</th>      <td>nonrobust</td>     <th>                     </th>     <td> </td>    \n",
       "</tr>\n",
       "</table>\n",
       "<table class=\"simpletable\">\n",
       "<tr>\n",
       "               <td></td>                  <th>coef</th>     <th>std err</th>      <th>t</th>      <th>P>|t|</th>  <th>[0.025</th>    <th>0.975]</th>  \n",
       "</tr>\n",
       "<tr>\n",
       "  <th>Intercept</th>                   <td> 2157.7115</td> <td>   22.972</td> <td>   93.927</td> <td> 0.000</td> <td> 2112.680</td> <td> 2202.743</td>\n",
       "</tr>\n",
       "<tr>\n",
       "  <th>Item_Fat_Content[T.Regular]</th> <td>   66.8496</td> <td>   38.682</td> <td>    1.728</td> <td> 0.084</td> <td>   -8.976</td> <td>  142.675</td>\n",
       "</tr>\n",
       "</table>\n",
       "<table class=\"simpletable\">\n",
       "<tr>\n",
       "  <th>Omnibus:</th>       <td>1592.405</td> <th>  Durbin-Watson:     </th> <td>   1.988</td>\n",
       "</tr>\n",
       "<tr>\n",
       "  <th>Prob(Omnibus):</th>  <td> 0.000</td>  <th>  Jarque-Bera (JB):  </th> <td>2897.868</td>\n",
       "</tr>\n",
       "<tr>\n",
       "  <th>Skew:</th>           <td> 1.177</td>  <th>  Prob(JB):          </th> <td>    0.00</td>\n",
       "</tr>\n",
       "<tr>\n",
       "  <th>Kurtosis:</th>       <td> 4.618</td>  <th>  Cond. No.          </th> <td>    2.42</td>\n",
       "</tr>\n",
       "</table><br/><br/>Warnings:<br/>[1] Standard Errors assume that the covariance matrix of the errors is correctly specified."
      ],
      "text/plain": [
       "<class 'statsmodels.iolib.summary.Summary'>\n",
       "\"\"\"\n",
       "                            OLS Regression Results                            \n",
       "==============================================================================\n",
       "Dep. Variable:      Item_Outlet_Sales   R-squared:                       0.000\n",
       "Model:                            OLS   Adj. R-squared:                  0.000\n",
       "Method:                 Least Squares   F-statistic:                     2.987\n",
       "Date:                Tue, 24 Nov 2020   Prob (F-statistic):             0.0840\n",
       "Time:                        08:41:17   Log-Likelihood:                -75521.\n",
       "No. Observations:                8523   AIC:                         1.510e+05\n",
       "Df Residuals:                    8521   BIC:                         1.511e+05\n",
       "Df Model:                           1                                         \n",
       "Covariance Type:            nonrobust                                         \n",
       "===============================================================================================\n",
       "                                  coef    std err          t      P>|t|      [0.025      0.975]\n",
       "-----------------------------------------------------------------------------------------------\n",
       "Intercept                    2157.7115     22.972     93.927      0.000    2112.680    2202.743\n",
       "Item_Fat_Content[T.Regular]    66.8496     38.682      1.728      0.084      -8.976     142.675\n",
       "==============================================================================\n",
       "Omnibus:                     1592.405   Durbin-Watson:                   1.988\n",
       "Prob(Omnibus):                  0.000   Jarque-Bera (JB):             2897.868\n",
       "Skew:                           1.177   Prob(JB):                         0.00\n",
       "Kurtosis:                       4.618   Cond. No.                         2.42\n",
       "==============================================================================\n",
       "\n",
       "Warnings:\n",
       "[1] Standard Errors assume that the covariance matrix of the errors is correctly specified.\n",
       "\"\"\""
      ]
     },
     "execution_count": 31,
     "metadata": {},
     "output_type": "execute_result"
    }
   ],
   "source": [
    "# METHOD 3 (Statistical)\n",
    "import statsmodels.formula.api as smf\n",
    "anova1 = smf.ols(formula='Item_Outlet_Sales ~(Item_Fat_Content)',data=data).fit()\n",
    "anova1.summary()"
   ]
  },
  {
   "attachments": {},
   "cell_type": "markdown",
   "metadata": {},
   "source": [
    "### **2) Item_Type and Item_Outlet_Sales**                  \n",
    "\n",
    "**NULL hypothesis**: there is no relationship b/w Item_Type and Item_Outlet_Sales          \n",
    "**Alternate hypothesis**: there is relatioship b/w Item_Type and Item_Outlet_Sales    \n",
    "\n",
    "Below ols.summary() result shows that p-value(Prob (F-statistic):\t0.0840) is greater than 0.05, which means we should accept the NULL hypothesis.           \n",
    "\n",
    "But here we should not reply on ANOVA test as the categorical column have more than 2 categories. So we will go for tukey's test.\n",
    "\n",
    "\n",
    "Field : **Item_Type**             \n",
    "Fruits and Vegetables----1232                         \n",
    "Snack Foods--------------1200                     \n",
    "Household-----------------910                        \n",
    "Frozen Foods--------------856                          \n",
    "Dairy---------------------682                       \n",
    "Canned--------------------649                     \n",
    "Baking Goods--------------648                       \n",
    "Health and Hygiene--------520                      \n",
    "Soft Drinks---------------445                            \n",
    "Meat----------------------425                            \n",
    "Breads--------------------251                            \n",
    "Hard Drinks---------------214                              \n",
    "Others--------------------169                           \n",
    "Starchy Foods-------------148                        \n",
    "Breakfast-----------------110                   \n",
    "Seafood--------------------64                  "
   ]
  },
  {
   "cell_type": "code",
   "execution_count": 37,
   "metadata": {},
   "outputs": [
    {
     "data": {
      "text/plain": [
       "<seaborn.axisgrid.FacetGrid at 0x1fe1d77ca08>"
      ]
     },
     "execution_count": 37,
     "metadata": {},
     "output_type": "execute_result"
    },
    {
     "data": {
      "image/png": "[encoded data removed]",
      "text/plain": [
       "<Figure size 1080x720 with 1 Axes>"
      ]
     },
     "metadata": {
      "needs_background": "light"
     },
     "output_type": "display_data"
    }
   ],
   "source": [
    "# METHOD - 1\n",
    "sns.catplot(data=data,x='Item_Type' , y ='Item_Outlet_Sales',kind='bar',ci=None,height=10, aspect=1.5)\n"
   ]
  },
  {
   "cell_type": "code",
   "execution_count": 42,
   "metadata": {},
   "outputs": [
    {
     "data": {
      "text/plain": [
       "<matplotlib.axes._subplots.AxesSubplot at 0x1fe20441488>"
      ]
     },
     "execution_count": 42,
     "metadata": {},
     "output_type": "execute_result"
    },
    {
     "data": {
      "image/png": "[encoded data removed]",
      "text/plain": [
       "<Figure size 1440x720 with 1 Axes>"
      ]
     },
     "metadata": {
      "needs_background": "light"
     },
     "output_type": "display_data"
    }
   ],
   "source": [
    "# METHOD - 2 \n",
    "data.boxplot('Item_Outlet_Sales',by='Item_Type',figsize=(20,10))"
   ]
  },
  {
   "cell_type": "code",
   "execution_count": 44,
   "metadata": {},
   "outputs": [],
   "source": [
    "import statsmodels"
   ]
  },
  {
   "cell_type": "code",
   "execution_count": 45,
   "metadata": {},
   "outputs": [
    {
     "ename": "AttributeError",
     "evalue": "module 'statsmodels.stats' has no attribute 'multicomp'",
     "output_type": "error",
     "traceback": [
      "\u001b[1;31m---------------------------------------------------------------------------\u001b[0m",
      "\u001b[1;31mAttributeError\u001b[0m                            Traceback (most recent call last)",
      "\u001b[1;32m<ipython-input-45-6e322356f5e7>\u001b[0m in \u001b[0;36m<module>\u001b[1;34m\u001b[0m\n\u001b[1;32m----> 1\u001b[1;33m \u001b[0mmc\u001b[0m \u001b[1;33m=\u001b[0m \u001b[0mstatsmodels\u001b[0m\u001b[1;33m.\u001b[0m\u001b[0mstats\u001b[0m\u001b[1;33m.\u001b[0m\u001b[0mmulticomp\u001b[0m\u001b[1;33m.\u001b[0m\u001b[0mMultiComparison\u001b[0m\u001b[1;33m(\u001b[0m\u001b[0mdata\u001b[0m\u001b[1;33m[\u001b[0m\u001b[1;34m'Item_Outlet_Sales'\u001b[0m\u001b[1;33m]\u001b[0m\u001b[1;33m,\u001b[0m\u001b[0mdata\u001b[0m\u001b[1;33m[\u001b[0m\u001b[1;34m'Item_Type'\u001b[0m\u001b[1;33m]\u001b[0m\u001b[1;33m)\u001b[0m\u001b[1;33m\u001b[0m\u001b[1;33m\u001b[0m\u001b[0m\n\u001b[0m\u001b[0;32m      2\u001b[0m \u001b[0mmc_results\u001b[0m \u001b[1;33m=\u001b[0m \u001b[0mmc\u001b[0m\u001b[1;33m.\u001b[0m\u001b[0mtukeyhsd\u001b[0m\u001b[1;33m(\u001b[0m\u001b[1;33m)\u001b[0m\u001b[1;33m\u001b[0m\u001b[1;33m\u001b[0m\u001b[0m\n\u001b[0;32m      3\u001b[0m \u001b[0mprint\u001b[0m\u001b[1;33m(\u001b[0m\u001b[0mmc_results\u001b[0m\u001b[1;33m)\u001b[0m\u001b[1;33m\u001b[0m\u001b[1;33m\u001b[0m\u001b[0m\n",
      "\u001b[1;31mAttributeError\u001b[0m: module 'statsmodels.stats' has no attribute 'multicomp'"
     ]
    }
   ],
   "source": [
    "mc = statsmodels.stats.multicomp.MultiComparison(data['Item_Outlet_Sales'],data['Item_Type'])\n",
    "mc_results = mc.tukeyhsd()\n",
    "print(mc_results)"
   ]
  },
  {
   "cell_type": "code",
   "execution_count": 46,
   "metadata": {},
   "outputs": [
    {
     "data": {
      "text/html": [
       "<table class=\"simpletable\">\n",
       "<caption>Multiple Comparison of Means - Tukey HSD, FWER=0.05</caption>\n",
       "<tr>\n",
       "         <th>group1</th>                <th>group2</th>         <th>meandiff</th>   <th>p-adj</th>    <th>lower</th>     <th>upper</th>   <th>reject</th>\n",
       "</tr>\n",
       "<tr>\n",
       "      <td>Baking Goods</td>             <td>Breads</td>          <td>251.161</td>  <td>0.8108</td>  <td>-183.0066</td> <td>685.3286</td>   <td>False</td>\n",
       "</tr>\n",
       "<tr>\n",
       "      <td>Baking Goods</td>            <td>Breakfast</td>       <td>158.8374</td>    <td>0.9</td>   <td>-443.3791</td>  <td>761.054</td>   <td>False</td>\n",
       "</tr>\n",
       "<tr>\n",
       "      <td>Baking Goods</td>             <td>Canned</td>         <td>272.2237</td>  <td>0.2272</td>  <td>-52.0876</td>   <td>596.535</td>   <td>False</td>\n",
       "</tr>\n",
       "<tr>\n",
       "      <td>Baking Goods</td>              <td>Dairy</td>         <td>279.5714</td>  <td>0.1733</td>  <td>-40.7958</td>  <td>599.9386</td>   <td>False</td>\n",
       "</tr>\n",
       "<tr>\n",
       "      <td>Baking Goods</td>          <td>Frozen Foods</td>      <td>179.8965</td>  <td>0.7817</td>  <td>-124.193</td>  <td>483.9861</td>   <td>False</td>\n",
       "</tr>\n",
       "<tr>\n",
       "      <td>Baking Goods</td>      <td>Fruits and Vegetables</td> <td>336.0384</td>   <td>0.005</td>   <td>52.6461</td>  <td>619.4307</td>   <td>True</td> \n",
       "</tr>\n",
       "<tr>\n",
       "      <td>Baking Goods</td>           <td>Hard Drinks</td>      <td>186.2504</td>    <td>0.9</td>   <td>-274.177</td>  <td>646.6778</td>   <td>False</td>\n",
       "</tr>\n",
       "<tr>\n",
       "      <td>Baking Goods</td>       <td>Health and Hygiene</td>    <td>57.0291</td>    <td>0.9</td>   <td>-286.7934</td> <td>400.8515</td>   <td>False</td>\n",
       "</tr>\n",
       "<tr>\n",
       "      <td>Baking Goods</td>            <td>Household</td>       <td>305.8131</td>  <td>0.0407</td>   <td>5.6361</td>   <td>605.9901</td>   <td>True</td> \n",
       "</tr>\n",
       "<tr>\n",
       "      <td>Baking Goods</td>              <td>Meat</td>          <td>206.0067</td>  <td>0.8404</td>  <td>-158.512</td>  <td>570.5254</td>   <td>False</td>\n",
       "</tr>\n",
       "<tr>\n",
       "      <td>Baking Goods</td>             <td>Others</td>         <td>-26.8315</td>    <td>0.9</td>   <td>-531.2397</td> <td>477.5767</td>   <td>False</td>\n",
       "</tr>\n",
       "<tr>\n",
       "      <td>Baking Goods</td>             <td>Seafood</td>        <td>373.0947</td>    <td>0.9</td>   <td>-392.0868</td> <td>1138.2762</td>  <td>False</td>\n",
       "</tr>\n",
       "<tr>\n",
       "      <td>Baking Goods</td>           <td>Snack Foods</td>      <td>324.3505</td>  <td>0.0093</td>   <td>39.6588</td>  <td>609.0422</td>   <td>True</td> \n",
       "</tr>\n",
       "<tr>\n",
       "      <td>Baking Goods</td>           <td>Soft Drinks</td>       <td>53.5405</td>    <td>0.9</td>   <td>-305.9972</td> <td>413.0783</td>   <td>False</td>\n",
       "</tr>\n",
       "<tr>\n",
       "      <td>Baking Goods</td>          <td>Starchy Foods</td>     <td>421.3616</td>  <td>0.3215</td>  <td>-110.6733</td> <td>953.3965</td>   <td>False</td>\n",
       "</tr>\n",
       "<tr>\n",
       "         <td>Breads</td>               <td>Breakfast</td>       <td>-92.3236</td>    <td>0.9</td>   <td>-760.0866</td> <td>575.4394</td>   <td>False</td>\n",
       "</tr>\n",
       "<tr>\n",
       "         <td>Breads</td>                <td>Canned</td>          <td>21.0627</td>    <td>0.9</td>   <td>-413.0115</td> <td>455.1369</td>   <td>False</td>\n",
       "</tr>\n",
       "<tr>\n",
       "         <td>Breads</td>                 <td>Dairy</td>          <td>28.4104</td>    <td>0.9</td>   <td>-402.7251</td> <td>459.5458</td>   <td>False</td>\n",
       "</tr>\n",
       "<tr>\n",
       "         <td>Breads</td>             <td>Frozen Foods</td>      <td>-71.2645</td>    <td>0.9</td>   <td>-490.4459</td> <td>347.9169</td>   <td>False</td>\n",
       "</tr>\n",
       "<tr>\n",
       "         <td>Breads</td>         <td>Fruits and Vegetables</td>  <td>84.8774</td>    <td>0.9</td>   <td>-319.5405</td> <td>489.2952</td>   <td>False</td>\n",
       "</tr>\n",
       "<tr>\n",
       "         <td>Breads</td>              <td>Hard Drinks</td>      <td>-64.9106</td>    <td>0.9</td>   <td>-608.2669</td> <td>478.4456</td>   <td>False</td>\n",
       "</tr>\n",
       "<tr>\n",
       "         <td>Breads</td>          <td>Health and Hygiene</td>   <td>-194.132</td>    <td>0.9</td>   <td>-642.971</td>   <td>254.707</td>   <td>False</td>\n",
       "</tr>\n",
       "<tr>\n",
       "         <td>Breads</td>               <td>Household</td>        <td>54.6521</td>    <td>0.9</td>   <td>-361.6998</td> <td>471.0039</td>   <td>False</td>\n",
       "</tr>\n",
       "<tr>\n",
       "         <td>Breads</td>                 <td>Meat</td>          <td>-45.1543</td>    <td>0.9</td>   <td>-510.0376</td>  <td>419.729</td>   <td>False</td>\n",
       "</tr>\n",
       "<tr>\n",
       "         <td>Breads</td>                <td>Others</td>         <td>-277.9925</td>   <td>0.9</td>   <td>-859.0865</td> <td>303.1015</td>   <td>False</td>\n",
       "</tr>\n",
       "<tr>\n",
       "         <td>Breads</td>                <td>Seafood</td>        <td>121.9337</td>    <td>0.9</td>   <td>-695.8348</td> <td>939.7022</td>   <td>False</td>\n",
       "</tr>\n",
       "<tr>\n",
       "         <td>Breads</td>              <td>Snack Foods</td>       <td>73.1895</td>    <td>0.9</td>   <td>-332.1399</td>  <td>478.519</td>   <td>False</td>\n",
       "</tr>\n",
       "<tr>\n",
       "         <td>Breads</td>              <td>Soft Drinks</td>      <td>-197.6205</td>   <td>0.9</td>   <td>-658.6086</td> <td>263.3676</td>   <td>False</td>\n",
       "</tr>\n",
       "<tr>\n",
       "         <td>Breads</td>             <td>Starchy Foods</td>     <td>170.2005</td>    <td>0.9</td>   <td>-435.0298</td> <td>775.4309</td>   <td>False</td>\n",
       "</tr>\n",
       "<tr>\n",
       "        <td>Breakfast</td>              <td>Canned</td>         <td>113.3863</td>    <td>0.9</td>   <td>-488.763</td>  <td>715.5355</td>   <td>False</td>\n",
       "</tr>\n",
       "<tr>\n",
       "        <td>Breakfast</td>               <td>Dairy</td>         <td>120.7339</td>    <td>0.9</td>   <td>-479.3002</td> <td>720.7681</td>   <td>False</td>\n",
       "</tr>\n",
       "<tr>\n",
       "        <td>Breakfast</td>           <td>Frozen Foods</td>       <td>21.0591</td>    <td>0.9</td>   <td>-570.4444</td> <td>612.5625</td>   <td>False</td>\n",
       "</tr>\n",
       "<tr>\n",
       "        <td>Breakfast</td>       <td>Fruits and Vegetables</td> <td>177.2009</td>    <td>0.9</td>   <td>-403.9333</td> <td>758.3352</td>   <td>False</td>\n",
       "</tr>\n",
       "<tr>\n",
       "        <td>Breakfast</td>            <td>Hard Drinks</td>       <td>27.413</td>     <td>0.9</td>   <td>-657.7142</td> <td>712.5402</td>   <td>False</td>\n",
       "</tr>\n",
       "<tr>\n",
       "        <td>Breakfast</td>        <td>Health and Hygiene</td>   <td>-101.8084</td>   <td>0.9</td>   <td>-714.6866</td> <td>511.0699</td>   <td>False</td>\n",
       "</tr>\n",
       "<tr>\n",
       "        <td>Breakfast</td>             <td>Household</td>       <td>146.9756</td>    <td>0.9</td>   <td>-442.5259</td> <td>736.4772</td>   <td>False</td>\n",
       "</tr>\n",
       "<tr>\n",
       "        <td>Breakfast</td>               <td>Meat</td>           <td>47.1693</td>    <td>0.9</td>   <td>-577.5545</td>  <td>671.893</td>   <td>False</td>\n",
       "</tr>\n",
       "<tr>\n",
       "        <td>Breakfast</td>              <td>Others</td>         <td>-185.6689</td>   <td>0.9</td>   <td>-901.0943</td> <td>529.7564</td>   <td>False</td>\n",
       "</tr>\n",
       "<tr>\n",
       "        <td>Breakfast</td>              <td>Seafood</td>        <td>214.2573</td>    <td>0.9</td>   <td>-703.8432</td> <td>1132.3578</td>  <td>False</td>\n",
       "</tr>\n",
       "<tr>\n",
       "        <td>Breakfast</td>            <td>Snack Foods</td>      <td>165.5131</td>    <td>0.9</td>   <td>-416.256</td>  <td>747.2822</td>   <td>False</td>\n",
       "</tr>\n",
       "<tr>\n",
       "        <td>Breakfast</td>            <td>Soft Drinks</td>      <td>-105.2969</td>   <td>0.9</td>   <td>-727.1275</td> <td>516.5337</td>   <td>False</td>\n",
       "</tr>\n",
       "<tr>\n",
       "        <td>Breakfast</td>           <td>Starchy Foods</td>     <td>262.5241</td>    <td>0.9</td>   <td>-472.6405</td> <td>997.6887</td>   <td>False</td>\n",
       "</tr>\n",
       "<tr>\n",
       "         <td>Canned</td>                 <td>Dairy</td>          <td>7.3477</td>     <td>0.9</td>   <td>-312.8929</td> <td>327.5883</td>   <td>False</td>\n",
       "</tr>\n",
       "<tr>\n",
       "         <td>Canned</td>             <td>Frozen Foods</td>      <td>-92.3272</td>    <td>0.9</td>   <td>-396.2833</td>  <td>211.629</td>   <td>False</td>\n",
       "</tr>\n",
       "<tr>\n",
       "         <td>Canned</td>         <td>Fruits and Vegetables</td>  <td>63.8147</td>    <td>0.9</td>   <td>-219.4345</td> <td>347.0639</td>   <td>False</td>\n",
       "</tr>\n",
       "<tr>\n",
       "         <td>Canned</td>              <td>Hard Drinks</td>      <td>-85.9733</td>    <td>0.9</td>   <td>-546.3126</td> <td>374.3661</td>   <td>False</td>\n",
       "</tr>\n",
       "<tr>\n",
       "         <td>Canned</td>          <td>Health and Hygiene</td>   <td>-215.1946</td> <td>0.7052</td>  <td>-558.8991</td> <td>128.5098</td>   <td>False</td>\n",
       "</tr>\n",
       "<tr>\n",
       "         <td>Canned</td>               <td>Household</td>        <td>33.5894</td>    <td>0.9</td>   <td>-266.4525</td> <td>333.6313</td>   <td>False</td>\n",
       "</tr>\n",
       "<tr>\n",
       "         <td>Canned</td>                 <td>Meat</td>           <td>-66.217</td>    <td>0.9</td>   <td>-430.6245</td> <td>298.1905</td>   <td>False</td>\n",
       "</tr>\n",
       "<tr>\n",
       "         <td>Canned</td>                <td>Others</td>         <td>-299.0552</td> <td>0.7787</td>  <td>-803.383</td>  <td>205.2726</td>   <td>False</td>\n",
       "</tr>\n",
       "<tr>\n",
       "         <td>Canned</td>                <td>Seafood</td>         <td>100.871</td>    <td>0.9</td>   <td>-664.2575</td> <td>865.9995</td>   <td>False</td>\n",
       "</tr>\n",
       "<tr>\n",
       "         <td>Canned</td>              <td>Snack Foods</td>       <td>52.1268</td>    <td>0.9</td>   <td>-232.4224</td> <td>336.6761</td>   <td>False</td>\n",
       "</tr>\n",
       "<tr>\n",
       "         <td>Canned</td>              <td>Soft Drinks</td>      <td>-218.6832</td> <td>0.7444</td>  <td>-578.1081</td> <td>140.7418</td>   <td>False</td>\n",
       "</tr>\n",
       "<tr>\n",
       "         <td>Canned</td>             <td>Starchy Foods</td>     <td>149.1379</td>    <td>0.9</td>   <td>-382.8208</td> <td>681.0965</td>   <td>False</td>\n",
       "</tr>\n",
       "<tr>\n",
       "          <td>Dairy</td>             <td>Frozen Foods</td>      <td>-99.6749</td>    <td>0.9</td>   <td>-399.4192</td> <td>200.0695</td>   <td>False</td>\n",
       "</tr>\n",
       "<tr>\n",
       "          <td>Dairy</td>         <td>Fruits and Vegetables</td>  <td>56.467</td>     <td>0.9</td>   <td>-222.2576</td> <td>335.1916</td>   <td>False</td>\n",
       "</tr>\n",
       "<tr>\n",
       "          <td>Dairy</td>              <td>Hard Drinks</td>       <td>-93.321</td>    <td>0.9</td>   <td>-550.8903</td> <td>364.2483</td>   <td>False</td>\n",
       "</tr>\n",
       "<tr>\n",
       "          <td>Dairy</td>          <td>Health and Hygiene</td>   <td>-222.5423</td>  <td>0.642</td>  <td>-562.5278</td> <td>117.4431</td>   <td>False</td>\n",
       "</tr>\n",
       "<tr>\n",
       "          <td>Dairy</td>               <td>Household</td>        <td>26.2417</td>    <td>0.9</td>   <td>-269.5327</td> <td>322.0161</td>   <td>False</td>\n",
       "</tr>\n",
       "<tr>\n",
       "          <td>Dairy</td>                 <td>Meat</td>          <td>-73.5647</td>    <td>0.9</td>   <td>-434.4665</td> <td>287.3372</td>   <td>False</td>\n",
       "</tr>\n",
       "<tr>\n",
       "          <td>Dairy</td>                <td>Others</td>         <td>-306.4029</td> <td>0.7396</td>  <td>-808.2035</td> <td>195.3977</td>   <td>False</td>\n",
       "</tr>\n",
       "<tr>\n",
       "          <td>Dairy</td>                <td>Seafood</td>         <td>93.5233</td>    <td>0.9</td>   <td>-669.9418</td> <td>856.9884</td>   <td>False</td>\n",
       "</tr>\n",
       "<tr>\n",
       "          <td>Dairy</td>              <td>Snack Foods</td>       <td>44.7791</td>    <td>0.9</td>   <td>-235.2666</td> <td>324.8249</td>   <td>False</td>\n",
       "</tr>\n",
       "<tr>\n",
       "          <td>Dairy</td>              <td>Soft Drinks</td>      <td>-226.0309</td> <td>0.6851</td>  <td>-581.9011</td> <td>129.8394</td>   <td>False</td>\n",
       "</tr>\n",
       "<tr>\n",
       "          <td>Dairy</td>             <td>Starchy Foods</td>     <td>141.7902</td>    <td>0.9</td>   <td>-387.7732</td> <td>671.3536</td>   <td>False</td>\n",
       "</tr>\n",
       "<tr>\n",
       "      <td>Frozen Foods</td>      <td>Fruits and Vegetables</td> <td>156.1418</td>  <td>0.7611</td>  <td>-103.7095</td> <td>415.9932</td>   <td>False</td>\n",
       "</tr>\n",
       "<tr>\n",
       "      <td>Frozen Foods</td>           <td>Hard Drinks</td>       <td>6.3539</td>     <td>0.9</td>   <td>-439.9699</td> <td>452.6777</td>   <td>False</td>\n",
       "</tr>\n",
       "<tr>\n",
       "      <td>Frozen Foods</td>       <td>Health and Hygiene</td>   <td>-122.8675</td>   <td>0.9</td>   <td>-447.5602</td> <td>201.8253</td>   <td>False</td>\n",
       "</tr>\n",
       "<tr>\n",
       "      <td>Frozen Foods</td>            <td>Household</td>       <td>125.9166</td>    <td>0.9</td>   <td>-152.1442</td> <td>403.9773</td>   <td>False</td>\n",
       "</tr>\n",
       "<tr>\n",
       "      <td>Frozen Foods</td>              <td>Meat</td>           <td>26.1102</td>    <td>0.9</td>   <td>-320.4233</td> <td>372.6436</td>   <td>False</td>\n",
       "</tr>\n",
       "<tr>\n",
       "      <td>Frozen Foods</td>             <td>Others</td>         <td>-206.728</td>    <td>0.9</td>   <td>-698.2961</td>  <td>284.84</td>    <td>False</td>\n",
       "</tr>\n",
       "<tr>\n",
       "      <td>Frozen Foods</td>             <td>Seafood</td>        <td>193.1982</td>    <td>0.9</td>   <td>-563.5807</td>  <td>949.977</td>   <td>False</td>\n",
       "</tr>\n",
       "<tr>\n",
       "      <td>Frozen Foods</td>           <td>Snack Foods</td>       <td>144.454</td>  <td>0.8676</td>  <td>-116.8139</td> <td>405.7219</td>   <td>False</td>\n",
       "</tr>\n",
       "<tr>\n",
       "      <td>Frozen Foods</td>           <td>Soft Drinks</td>      <td>-126.356</td>    <td>0.9</td>   <td>-467.6461</td> <td>214.9341</td>   <td>False</td>\n",
       "</tr>\n",
       "<tr>\n",
       "      <td>Frozen Foods</td>          <td>Starchy Foods</td>      <td>241.465</td>    <td>0.9</td>   <td>-278.4125</td> <td>761.3426</td>   <td>False</td>\n",
       "</tr>\n",
       "<tr>\n",
       "  <td>Fruits and Vegetables</td>      <td>Hard Drinks</td>      <td>-149.788</td>    <td>0.9</td>   <td>-582.2758</td> <td>282.6998</td>   <td>False</td>\n",
       "</tr>\n",
       "<tr>\n",
       "  <td>Fruits and Vegetables</td>  <td>Health and Hygiene</td>   <td>-279.0093</td> <td>0.1206</td>  <td>-584.4044</td>  <td>26.3857</td>   <td>False</td>\n",
       "</tr>\n",
       "<tr>\n",
       "  <td>Fruits and Vegetables</td>       <td>Household</td>       <td>-30.2253</td>    <td>0.9</td>   <td>-285.487</td>  <td>225.0364</td>   <td>False</td>\n",
       "</tr>\n",
       "<tr>\n",
       "  <td>Fruits and Vegetables</td>         <td>Meat</td>          <td>-130.0317</td>   <td>0.9</td>   <td>-458.5529</td> <td>198.4895</td>   <td>False</td>\n",
       "</tr>\n",
       "<tr>\n",
       "  <td>Fruits and Vegetables</td>        <td>Others</td>         <td>-362.8699</td> <td>0.4056</td>  <td>-841.9105</td> <td>116.1707</td>   <td>False</td>\n",
       "</tr>\n",
       "<tr>\n",
       "  <td>Fruits and Vegetables</td>        <td>Seafood</td>         <td>37.0563</td>    <td>0.9</td>   <td>-711.6458</td> <td>785.7585</td>   <td>False</td>\n",
       "</tr>\n",
       "<tr>\n",
       "  <td>Fruits and Vegetables</td>      <td>Snack Foods</td>      <td>-11.6879</td>    <td>0.9</td>   <td>-248.5457</td>  <td>225.17</td>    <td>False</td>\n",
       "</tr>\n",
       "<tr>\n",
       "  <td>Fruits and Vegetables</td>      <td>Soft Drinks</td>      <td>-282.4979</td> <td>0.1703</td>  <td>-605.4834</td>  <td>40.4877</td>   <td>False</td>\n",
       "</tr>\n",
       "<tr>\n",
       "  <td>Fruits and Vegetables</td>     <td>Starchy Foods</td>      <td>85.3232</td>    <td>0.9</td>   <td>-422.7254</td> <td>593.3718</td>   <td>False</td>\n",
       "</tr>\n",
       "<tr>\n",
       "       <td>Hard Drinks</td>       <td>Health and Hygiene</td>   <td>-129.2214</td>   <td>0.9</td>   <td>-603.5086</td> <td>345.0659</td>   <td>False</td>\n",
       "</tr>\n",
       "<tr>\n",
       "       <td>Hard Drinks</td>            <td>Household</td>       <td>119.5627</td>    <td>0.9</td>   <td>-324.1047</td> <td>563.2301</td>   <td>False</td>\n",
       "</tr>\n",
       "<tr>\n",
       "       <td>Hard Drinks</td>              <td>Meat</td>           <td>19.7563</td>    <td>0.9</td>   <td>-469.7418</td> <td>509.2544</td>   <td>False</td>\n",
       "</tr>\n",
       "<tr>\n",
       "       <td>Hard Drinks</td>             <td>Others</td>         <td>-213.0819</td>   <td>0.9</td>   <td>-814.0496</td> <td>387.8857</td>   <td>False</td>\n",
       "</tr>\n",
       "<tr>\n",
       "       <td>Hard Drinks</td>             <td>Seafood</td>        <td>186.8443</td>    <td>0.9</td>   <td>-645.1636</td> <td>1018.8522</td>  <td>False</td>\n",
       "</tr>\n",
       "<tr>\n",
       "       <td>Hard Drinks</td>           <td>Snack Foods</td>      <td>138.1001</td>    <td>0.9</td>   <td>-295.2402</td> <td>571.4405</td>   <td>False</td>\n",
       "</tr>\n",
       "<tr>\n",
       "       <td>Hard Drinks</td>           <td>Soft Drinks</td>      <td>-132.7099</td>   <td>0.9</td>   <td>-618.5102</td> <td>353.0904</td>   <td>False</td>\n",
       "</tr>\n",
       "<tr>\n",
       "       <td>Hard Drinks</td>          <td>Starchy Foods</td>     <td>235.1112</td>    <td>0.9</td>   <td>-389.225</td>  <td>859.4473</td>   <td>False</td>\n",
       "</tr>\n",
       "<tr>\n",
       "   <td>Health and Hygiene</td>         <td>Household</td>        <td>248.784</td>  <td>0.3618</td>  <td>-72.2474</td>  <td>569.8155</td>   <td>False</td>\n",
       "</tr>\n",
       "<tr>\n",
       "   <td>Health and Hygiene</td>           <td>Meat</td>          <td>148.9776</td>    <td>0.9</td>   <td>-232.8978</td> <td>530.8531</td>   <td>False</td>\n",
       "</tr>\n",
       "<tr>\n",
       "   <td>Health and Hygiene</td>          <td>Others</td>         <td>-83.8606</td>    <td>0.9</td>   <td>-600.951</td>  <td>433.2299</td>   <td>False</td>\n",
       "</tr>\n",
       "<tr>\n",
       "   <td>Health and Hygiene</td>          <td>Seafood</td>        <td>316.0657</td>    <td>0.9</td>   <td>-457.5348</td> <td>1089.6661</td>  <td>False</td>\n",
       "</tr>\n",
       "<tr>\n",
       "   <td>Health and Hygiene</td>        <td>Snack Foods</td>      <td>267.3215</td>  <td>0.1744</td>  <td>-39.2797</td>  <td>573.9227</td>   <td>False</td>\n",
       "</tr>\n",
       "<tr>\n",
       "   <td>Health and Hygiene</td>        <td>Soft Drinks</td>       <td>-3.4885</td>    <td>0.9</td>   <td>-380.6123</td> <td>373.6353</td>   <td>False</td>\n",
       "</tr>\n",
       "<tr>\n",
       "   <td>Health and Hygiene</td>       <td>Starchy Foods</td>     <td>364.3325</td>  <td>0.6086</td>  <td>-179.7411</td> <td>908.4061</td>   <td>False</td>\n",
       "</tr>\n",
       "<tr>\n",
       "        <td>Household</td>               <td>Meat</td>          <td>-99.8064</td>    <td>0.9</td>   <td>-442.9117</td> <td>243.2989</td>   <td>False</td>\n",
       "</tr>\n",
       "<tr>\n",
       "        <td>Household</td>              <td>Others</td>         <td>-332.6446</td> <td>0.5855</td>  <td>-821.802</td>  <td>156.5128</td>   <td>False</td>\n",
       "</tr>\n",
       "<tr>\n",
       "        <td>Household</td>              <td>Seafood</td>         <td>67.2816</td>    <td>0.9</td>   <td>-687.9336</td> <td>822.4969</td>   <td>False</td>\n",
       "</tr>\n",
       "<tr>\n",
       "        <td>Household</td>            <td>Snack Foods</td>       <td>18.5374</td>    <td>0.9</td>   <td>-238.1661</td>  <td>275.241</td>   <td>False</td>\n",
       "</tr>\n",
       "<tr>\n",
       "        <td>Household</td>            <td>Soft Drinks</td>      <td>-252.2726</td> <td>0.4326</td>  <td>-590.0813</td>  <td>85.5362</td>   <td>False</td>\n",
       "</tr>\n",
       "<tr>\n",
       "        <td>Household</td>           <td>Starchy Foods</td>     <td>115.5485</td>    <td>0.9</td>   <td>-402.0503</td> <td>633.1472</td>   <td>False</td>\n",
       "</tr>\n",
       "<tr>\n",
       "          <td>Meat</td>                 <td>Others</td>         <td>-232.8382</td>   <td>0.9</td>   <td>-763.915</td>  <td>298.2386</td>   <td>False</td>\n",
       "</tr>\n",
       "<tr>\n",
       "          <td>Meat</td>                 <td>Seafood</td>         <td>167.088</td>    <td>0.9</td>   <td>-615.9303</td> <td>950.1063</td>   <td>False</td>\n",
       "</tr>\n",
       "<tr>\n",
       "          <td>Meat</td>               <td>Snack Foods</td>      <td>118.3438</td>    <td>0.9</td>   <td>-211.2989</td> <td>447.9866</td>   <td>False</td>\n",
       "</tr>\n",
       "<tr>\n",
       "          <td>Meat</td>               <td>Soft Drinks</td>      <td>-152.4662</td>   <td>0.9</td>    <td>-548.55</td>  <td>243.6176</td>   <td>False</td>\n",
       "</tr>\n",
       "<tr>\n",
       "          <td>Meat</td>              <td>Starchy Foods</td>     <td>215.3549</td>    <td>0.9</td>   <td>-342.0284</td> <td>772.7381</td>   <td>False</td>\n",
       "</tr>\n",
       "<tr>\n",
       "         <td>Others</td>                <td>Seafood</td>        <td>399.9262</td>    <td>0.9</td>   <td>-457.2035</td> <td>1257.056</td>   <td>False</td>\n",
       "</tr>\n",
       "<tr>\n",
       "         <td>Others</td>              <td>Snack Foods</td>       <td>351.182</td>  <td>0.4691</td>  <td>-128.6284</td> <td>830.9925</td>   <td>False</td>\n",
       "</tr>\n",
       "<tr>\n",
       "         <td>Others</td>              <td>Soft Drinks</td>       <td>80.372</td>     <td>0.9</td>   <td>-447.2984</td> <td>608.0425</td>   <td>False</td>\n",
       "</tr>\n",
       "<tr>\n",
       "         <td>Others</td>             <td>Starchy Foods</td>     <td>448.1931</td>  <td>0.5818</td>  <td>-209.2488</td> <td>1105.6349</td>  <td>False</td>\n",
       "</tr>\n",
       "<tr>\n",
       "         <td>Seafood</td>             <td>Snack Foods</td>      <td>-48.7442</td>    <td>0.9</td>   <td>-797.9392</td> <td>700.4508</td>   <td>False</td>\n",
       "</tr>\n",
       "<tr>\n",
       "         <td>Seafood</td>             <td>Soft Drinks</td>      <td>-319.5542</td>   <td>0.9</td>  <td>-1100.2662</td> <td>461.1578</td>   <td>False</td>\n",
       "</tr>\n",
       "<tr>\n",
       "         <td>Seafood</td>            <td>Starchy Foods</td>      <td>48.2668</td>    <td>0.9</td>   <td>-825.4064</td> <td>921.9401</td>   <td>False</td>\n",
       "</tr>\n",
       "<tr>\n",
       "       <td>Snack Foods</td>           <td>Soft Drinks</td>       <td>-270.81</td>  <td>0.2341</td>  <td>-594.9363</td>  <td>53.3163</td>   <td>False</td>\n",
       "</tr>\n",
       "<tr>\n",
       "       <td>Snack Foods</td>          <td>Starchy Foods</td>      <td>97.011</td>     <td>0.9</td>   <td>-411.7635</td> <td>605.7856</td>   <td>False</td>\n",
       "</tr>\n",
       "<tr>\n",
       "       <td>Soft Drinks</td>          <td>Starchy Foods</td>      <td>367.821</td>  <td>0.6216</td>  <td>-186.3176</td> <td>921.9597</td>   <td>False</td>\n",
       "</tr>\n",
       "</table>"
      ],
      "text/plain": [
       "<class 'statsmodels.iolib.table.SimpleTable'>"
      ]
     },
     "execution_count": 46,
     "metadata": {},
     "output_type": "execute_result"
    },
    {
     "data": {
      "image/png": "[encoded data removed]",
      "text/plain": [
       "<Figure size 720x432 with 1 Axes>"
      ]
     },
     "metadata": {
      "needs_background": "light"
     },
     "output_type": "display_data"
    }
   ],
   "source": [
    "from statsmodels.stats.multicomp import pairwise_tukeyhsd\n",
    "\n",
    "tukey = pairwise_tukeyhsd(endog=data['Item_Outlet_Sales'],     # Data\n",
    "                          groups=data['Item_Type'],   # Groups\n",
    "                          alpha=0.05)          # Significance level\n",
    "\n",
    "tukey.plot_simultaneous()    # Plot group confidence intervals\n",
    "plt.vlines(x=49.57,ymin=-0.5,ymax=4.5, color=\"red\")\n",
    "\n",
    "tukey.summary() "
   ]
  },
  {
   "cell_type": "code",
   "execution_count": null,
   "metadata": {},
   "outputs": [],
   "source": []
  }
 ],
 "metadata": {
  "kernelspec": {
   "display_name": "Python 3",
   "language": "python",
   "name": "python3"
  },
  "language_info": {
   "codemirror_mode": {
    "name": "ipython",
    "version": 3
   },
   "file_extension": ".py",
   "mimetype": "text/x-python",
   "name": "python",
   "nbconvert_exporter": "python",
   "pygments_lexer": "ipython3",
   "version": "3.7.6"
  }
 },
 "nbformat": 4,
 "nbformat_minor": 4
}
